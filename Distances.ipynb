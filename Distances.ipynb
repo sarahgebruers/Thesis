{
 "cells": [
  {
   "cell_type": "code",
   "execution_count": 1,
   "metadata": {
    "collapsed": false
   },
   "outputs": [
    {
     "name": "stderr",
     "output_type": "stream",
     "text": [
      "C:\\Users\\Sarah\\Anaconda3\\lib\\site-packages\\sklearn\\utils\\fixes.py:313: FutureWarning: numpy not_equal will not check object identity in the future. The comparison did not return the same result as suggested by the identity (`is`)) and will change.\n",
      "  _nan_object_mask = _nan_object_array != _nan_object_array\n"
     ]
    },
    {
     "data": {
      "text/html": [
       "\n",
       "    <div class=\"bk-root\">\n",
       "        <a href=\"http://bokeh.pydata.org\" target=\"_blank\" class=\"bk-logo bk-logo-small bk-logo-notebook\"></a>\n",
       "        <span id=\"400fd167-8aca-425d-bddc-e792b489ea19\">Loading BokehJS ...</span>\n",
       "    </div>"
      ]
     },
     "metadata": {},
     "output_type": "display_data"
    },
    {
     "data": {
      "application/javascript": [
       "\n",
       "(function(global) {\n",
       "  function now() {\n",
       "    return new Date();\n",
       "  }\n",
       "\n",
       "  var force = \"1\";\n",
       "\n",
       "  if (typeof (window._bokeh_onload_callbacks) === \"undefined\" || force !== \"\") {\n",
       "    window._bokeh_onload_callbacks = [];\n",
       "    window._bokeh_is_loading = undefined;\n",
       "  }\n",
       "\n",
       "\n",
       "  \n",
       "  if (typeof (window._bokeh_timeout) === \"undefined\" || force !== \"\") {\n",
       "    window._bokeh_timeout = Date.now() + 5000;\n",
       "    window._bokeh_failed_load = false;\n",
       "  }\n",
       "\n",
       "  var NB_LOAD_WARNING = {'data': {'text/html':\n",
       "     \"<div style='background-color: #fdd'>\\n\"+\n",
       "     \"<p>\\n\"+\n",
       "     \"BokehJS does not appear to have successfully loaded. If loading BokehJS from CDN, this \\n\"+\n",
       "     \"may be due to a slow or bad network connection. Possible fixes:\\n\"+\n",
       "     \"</p>\\n\"+\n",
       "     \"<ul>\\n\"+\n",
       "     \"<li>re-rerun `output_notebook()` to attempt to load from CDN again, or</li>\\n\"+\n",
       "     \"<li>use INLINE resources instead, as so:</li>\\n\"+\n",
       "     \"</ul>\\n\"+\n",
       "     \"<code>\\n\"+\n",
       "     \"from bokeh.resources import INLINE\\n\"+\n",
       "     \"output_notebook(resources=INLINE)\\n\"+\n",
       "     \"</code>\\n\"+\n",
       "     \"</div>\"}};\n",
       "\n",
       "  function display_loaded() {\n",
       "    if (window.Bokeh !== undefined) {\n",
       "      Bokeh.$(\"#400fd167-8aca-425d-bddc-e792b489ea19\").text(\"BokehJS successfully loaded.\");\n",
       "    } else if (Date.now() < window._bokeh_timeout) {\n",
       "      setTimeout(display_loaded, 100)\n",
       "    }\n",
       "  }\n",
       "\n",
       "  function run_callbacks() {\n",
       "    window._bokeh_onload_callbacks.forEach(function(callback) { callback() });\n",
       "    delete window._bokeh_onload_callbacks\n",
       "    console.info(\"Bokeh: all callbacks have finished\");\n",
       "  }\n",
       "\n",
       "  function load_libs(js_urls, callback) {\n",
       "    window._bokeh_onload_callbacks.push(callback);\n",
       "    if (window._bokeh_is_loading > 0) {\n",
       "      console.log(\"Bokeh: BokehJS is being loaded, scheduling callback at\", now());\n",
       "      return null;\n",
       "    }\n",
       "    if (js_urls == null || js_urls.length === 0) {\n",
       "      run_callbacks();\n",
       "      return null;\n",
       "    }\n",
       "    console.log(\"Bokeh: BokehJS not loaded, scheduling load and callback at\", now());\n",
       "    window._bokeh_is_loading = js_urls.length;\n",
       "    for (var i = 0; i < js_urls.length; i++) {\n",
       "      var url = js_urls[i];\n",
       "      var s = document.createElement('script');\n",
       "      s.src = url;\n",
       "      s.async = false;\n",
       "      s.onreadystatechange = s.onload = function() {\n",
       "        window._bokeh_is_loading--;\n",
       "        if (window._bokeh_is_loading === 0) {\n",
       "          console.log(\"Bokeh: all BokehJS libraries loaded\");\n",
       "          run_callbacks()\n",
       "        }\n",
       "      };\n",
       "      s.onerror = function() {\n",
       "        console.warn(\"failed to load library \" + url);\n",
       "      };\n",
       "      console.log(\"Bokeh: injecting script tag for BokehJS library: \", url);\n",
       "      document.getElementsByTagName(\"head\")[0].appendChild(s);\n",
       "    }\n",
       "  };var element = document.getElementById(\"400fd167-8aca-425d-bddc-e792b489ea19\");\n",
       "  if (element == null) {\n",
       "    console.log(\"Bokeh: ERROR: autoload.js configured with elementid '400fd167-8aca-425d-bddc-e792b489ea19' but no matching script tag was found. \")\n",
       "    return false;\n",
       "  }\n",
       "\n",
       "  var js_urls = ['https://cdn.pydata.org/bokeh/release/bokeh-0.12.2.min.js', 'https://cdn.pydata.org/bokeh/release/bokeh-widgets-0.12.2.min.js', 'https://cdn.pydata.org/bokeh/release/bokeh-compiler-0.12.2.min.js'];\n",
       "\n",
       "  var inline_js = [\n",
       "    function(Bokeh) {\n",
       "      Bokeh.set_log_level(\"info\");\n",
       "    },\n",
       "    \n",
       "    function(Bokeh) {\n",
       "      \n",
       "      Bokeh.$(\"#400fd167-8aca-425d-bddc-e792b489ea19\").text(\"BokehJS is loading...\");\n",
       "    },\n",
       "    function(Bokeh) {\n",
       "      console.log(\"Bokeh: injecting CSS: https://cdn.pydata.org/bokeh/release/bokeh-0.12.2.min.css\");\n",
       "      Bokeh.embed.inject_css(\"https://cdn.pydata.org/bokeh/release/bokeh-0.12.2.min.css\");\n",
       "      console.log(\"Bokeh: injecting CSS: https://cdn.pydata.org/bokeh/release/bokeh-widgets-0.12.2.min.css\");\n",
       "      Bokeh.embed.inject_css(\"https://cdn.pydata.org/bokeh/release/bokeh-widgets-0.12.2.min.css\");\n",
       "    }\n",
       "  ];\n",
       "\n",
       "  function run_inline_js() {\n",
       "    \n",
       "    if ((window.Bokeh !== undefined) || (force === \"1\")) {\n",
       "      for (var i = 0; i < inline_js.length; i++) {\n",
       "        inline_js[i](window.Bokeh);\n",
       "      }if (force === \"1\") {\n",
       "        display_loaded();\n",
       "      }} else if (Date.now() < window._bokeh_timeout) {\n",
       "      setTimeout(run_inline_js, 100);\n",
       "    } else if (!window._bokeh_failed_load) {\n",
       "      console.log(\"Bokeh: BokehJS failed to load within specified timeout.\");\n",
       "      window._bokeh_failed_load = true;\n",
       "    } else if (!force) {\n",
       "      var cell = $(\"#400fd167-8aca-425d-bddc-e792b489ea19\").parents('.cell').data().cell;\n",
       "      cell.output_area.append_execute_result(NB_LOAD_WARNING)\n",
       "    }\n",
       "\n",
       "  }\n",
       "\n",
       "  if (window._bokeh_is_loading === 0) {\n",
       "    console.log(\"Bokeh: BokehJS loaded, going straight to plotting\");\n",
       "    run_inline_js();\n",
       "  } else {\n",
       "    load_libs(js_urls, function() {\n",
       "      console.log(\"Bokeh: BokehJS plotting callback run at\", now());\n",
       "      run_inline_js();\n",
       "    });\n",
       "  }\n",
       "}(this));"
      ]
     },
     "metadata": {},
     "output_type": "display_data"
    }
   ],
   "source": [
    "import pandas as pd\n",
    "import numpy as np\n",
    "import matplotlib.pyplot as plt\n",
    "import csv\n",
    "from scipy.stats import norm, skewnorm\n",
    "from scipy.optimize import curve_fit\n",
    "from sklearn import linear_model, datasets\n",
    "import bokeh\n",
    "from bokeh.plotting import figure, output_notebook, show\n",
    "from bokeh.models import Range1d, Ticker, Label\n",
    "from bokeh.layouts import gridplot, layout\n",
    "import bokeh.palettes as palettes\n",
    "output_notebook()\n"
   ]
  },
  {
   "cell_type": "code",
   "execution_count": 2,
   "metadata": {
    "collapsed": true
   },
   "outputs": [],
   "source": [
    "def Figure(*args, **kwargs):\n",
    "    fig = figure(*args, **kwargs)\n",
    "    fig.title.text_font_size = '13pt'\n",
    "    fig.xaxis.axis_label_text_font_size = \"13pt\"\n",
    "    fig.yaxis.axis_label_text_font_size = \"13pt\"\n",
    "    fig.xaxis.major_label_text_font_size = \"13pt\"\n",
    "    fig.yaxis.major_label_text_font_size = \"13pt\"\n",
    "    return fig"
   ]
  },
  {
   "cell_type": "markdown",
   "metadata": {},
   "source": [
    "# Import GDR2 data"
   ]
  },
  {
   "cell_type": "code",
   "execution_count": 3,
   "metadata": {
    "collapsed": false
   },
   "outputs": [
    {
     "name": "stderr",
     "output_type": "stream",
     "text": [
      "C:\\Users\\Sarah\\Anaconda3\\lib\\site-packages\\IPython\\core\\interactiveshell.py:2717: DtypeWarning: Columns (215,228) have mixed types. Specify dtype option on import or set low_memory=False.\n",
      "  interactivity=interactivity, compiler=compiler, result=result)\n"
     ]
    },
    {
     "name": "stdout",
     "output_type": "stream",
     "text": [
      "Number of stars in GDR2:  175162\n"
     ]
    }
   ],
   "source": [
    "Gaia = pd.read_csv('Data\\GDR2.csv')\n",
    "usedQuantities_Gaia = ['phot_g_mean_mag','phot_g_mean_flux_over_error','phot_bp_mean_mag','phot_bp_mean_flux_over_error','phot_rp_mean_mag','phot_rp_mean_flux_over_error']\n",
    "Gaia.dropna(subset=usedQuantities_Gaia, inplace=True)\n",
    "print('Number of stars in GDR2: ', len(Gaia))"
   ]
  },
  {
   "cell_type": "markdown",
   "metadata": {},
   "source": [
    "# Import Dambis data"
   ]
  },
  {
   "cell_type": "code",
   "execution_count": 4,
   "metadata": {
    "collapsed": false
   },
   "outputs": [
    {
     "name": "stdout",
     "output_type": "stream",
     "text": [
      "Number of stars in Dambis:  402\n"
     ]
    }
   ],
   "source": [
    "Dambis = pd.read_csv('Data\\RRL_Dambis2013.csv')\n",
    "usedQuantities_Dambis = ['FeH']\n",
    "Dambis.dropna(subset=usedQuantities_Dambis, inplace=True)\n",
    "print('Number of stars in Dambis: ', len(Dambis))"
   ]
  },
  {
   "cell_type": "markdown",
   "metadata": {},
   "source": [
    "# Mean G magnitude and uncertainty"
   ]
  },
  {
   "cell_type": "code",
   "execution_count": 5,
   "metadata": {
    "collapsed": false
   },
   "outputs": [],
   "source": [
    "G = Gaia['phot_g_mean_mag']\n",
    "G_error = 2.5/(np.log(10)*Gaia['phot_g_mean_flux_over_error'])"
   ]
  },
  {
   "cell_type": "markdown",
   "metadata": {},
   "source": [
    "# Metallicity"
   ]
  },
  {
   "cell_type": "markdown",
   "metadata": {},
   "source": [
    "## Metallicity histogram of Dambis sample"
   ]
  },
  {
   "cell_type": "code",
   "execution_count": 6,
   "metadata": {
    "collapsed": false
   },
   "outputs": [
    {
     "data": {
      "text/html": [
       "\n",
       "\n",
       "    <div class=\"bk-root\">\n",
       "        <div class=\"plotdiv\" id=\"61beab9e-a16e-499e-ae33-37803a48490f\"></div>\n",
       "    </div>\n",
       "<script type=\"text/javascript\">\n",
       "  \n",
       "  (function(global) {\n",
       "    function now() {\n",
       "      return new Date();\n",
       "    }\n",
       "  \n",
       "    var force = \"\";\n",
       "  \n",
       "    if (typeof (window._bokeh_onload_callbacks) === \"undefined\" || force !== \"\") {\n",
       "      window._bokeh_onload_callbacks = [];\n",
       "      window._bokeh_is_loading = undefined;\n",
       "    }\n",
       "  \n",
       "  \n",
       "    \n",
       "    if (typeof (window._bokeh_timeout) === \"undefined\" || force !== \"\") {\n",
       "      window._bokeh_timeout = Date.now() + 0;\n",
       "      window._bokeh_failed_load = false;\n",
       "    }\n",
       "  \n",
       "    var NB_LOAD_WARNING = {'data': {'text/html':\n",
       "       \"<div style='background-color: #fdd'>\\n\"+\n",
       "       \"<p>\\n\"+\n",
       "       \"BokehJS does not appear to have successfully loaded. If loading BokehJS from CDN, this \\n\"+\n",
       "       \"may be due to a slow or bad network connection. Possible fixes:\\n\"+\n",
       "       \"</p>\\n\"+\n",
       "       \"<ul>\\n\"+\n",
       "       \"<li>re-rerun `output_notebook()` to attempt to load from CDN again, or</li>\\n\"+\n",
       "       \"<li>use INLINE resources instead, as so:</li>\\n\"+\n",
       "       \"</ul>\\n\"+\n",
       "       \"<code>\\n\"+\n",
       "       \"from bokeh.resources import INLINE\\n\"+\n",
       "       \"output_notebook(resources=INLINE)\\n\"+\n",
       "       \"</code>\\n\"+\n",
       "       \"</div>\"}};\n",
       "  \n",
       "    function display_loaded() {\n",
       "      if (window.Bokeh !== undefined) {\n",
       "        Bokeh.$(\"#61beab9e-a16e-499e-ae33-37803a48490f\").text(\"BokehJS successfully loaded.\");\n",
       "      } else if (Date.now() < window._bokeh_timeout) {\n",
       "        setTimeout(display_loaded, 100)\n",
       "      }\n",
       "    }\n",
       "  \n",
       "    function run_callbacks() {\n",
       "      window._bokeh_onload_callbacks.forEach(function(callback) { callback() });\n",
       "      delete window._bokeh_onload_callbacks\n",
       "      console.info(\"Bokeh: all callbacks have finished\");\n",
       "    }\n",
       "  \n",
       "    function load_libs(js_urls, callback) {\n",
       "      window._bokeh_onload_callbacks.push(callback);\n",
       "      if (window._bokeh_is_loading > 0) {\n",
       "        console.log(\"Bokeh: BokehJS is being loaded, scheduling callback at\", now());\n",
       "        return null;\n",
       "      }\n",
       "      if (js_urls == null || js_urls.length === 0) {\n",
       "        run_callbacks();\n",
       "        return null;\n",
       "      }\n",
       "      console.log(\"Bokeh: BokehJS not loaded, scheduling load and callback at\", now());\n",
       "      window._bokeh_is_loading = js_urls.length;\n",
       "      for (var i = 0; i < js_urls.length; i++) {\n",
       "        var url = js_urls[i];\n",
       "        var s = document.createElement('script');\n",
       "        s.src = url;\n",
       "        s.async = false;\n",
       "        s.onreadystatechange = s.onload = function() {\n",
       "          window._bokeh_is_loading--;\n",
       "          if (window._bokeh_is_loading === 0) {\n",
       "            console.log(\"Bokeh: all BokehJS libraries loaded\");\n",
       "            run_callbacks()\n",
       "          }\n",
       "        };\n",
       "        s.onerror = function() {\n",
       "          console.warn(\"failed to load library \" + url);\n",
       "        };\n",
       "        console.log(\"Bokeh: injecting script tag for BokehJS library: \", url);\n",
       "        document.getElementsByTagName(\"head\")[0].appendChild(s);\n",
       "      }\n",
       "    };var element = document.getElementById(\"61beab9e-a16e-499e-ae33-37803a48490f\");\n",
       "    if (element == null) {\n",
       "      console.log(\"Bokeh: ERROR: autoload.js configured with elementid '61beab9e-a16e-499e-ae33-37803a48490f' but no matching script tag was found. \")\n",
       "      return false;\n",
       "    }\n",
       "  \n",
       "    var js_urls = [];\n",
       "  \n",
       "    var inline_js = [\n",
       "      function(Bokeh) {\n",
       "        Bokeh.$(function() {\n",
       "            var docs_json = {\"ba521bb4-9bb6-432d-a5f2-c55b28d2e95c\":{\"roots\":{\"references\":[{\"attributes\":{\"overlay\":{\"id\":\"570922b2-21c8-49f8-814c-cb6c4c41f111\",\"type\":\"BoxAnnotation\"},\"plot\":{\"id\":\"7a9cd930-37c8-4d51-8bb5-b01c68a2860d\",\"subtype\":\"Figure\",\"type\":\"Plot\"}},\"id\":\"bd93b042-b087-4878-8316-d816423f6c7e\",\"type\":\"BoxZoomTool\"},{\"attributes\":{\"below\":[{\"id\":\"93707a10-c0a4-45cc-b02b-d961047d1681\",\"type\":\"LinearAxis\"}],\"left\":[{\"id\":\"696f1514-e791-44bb-b6a2-99466013e293\",\"type\":\"LinearAxis\"}],\"plot_height\":500,\"plot_width\":700,\"renderers\":[{\"id\":\"93707a10-c0a4-45cc-b02b-d961047d1681\",\"type\":\"LinearAxis\"},{\"id\":\"6dbe048a-af2c-40a2-a525-9ccde1b99157\",\"type\":\"Grid\"},{\"id\":\"696f1514-e791-44bb-b6a2-99466013e293\",\"type\":\"LinearAxis\"},{\"id\":\"5cd228ba-f645-4fff-a601-4a811ca15d29\",\"type\":\"Grid\"},{\"id\":\"570922b2-21c8-49f8-814c-cb6c4c41f111\",\"type\":\"BoxAnnotation\"},{\"id\":\"d39597d8-c9c7-4891-bdd5-4db0340f0d83\",\"type\":\"BoxAnnotation\"},{\"id\":\"fcfd8d64-6a8f-4f36-bd04-b394aac5f094\",\"type\":\"GlyphRenderer\"}],\"title\":{\"id\":\"520e8c9d-f5b5-4928-aa22-3344ec780542\",\"type\":\"Title\"},\"tool_events\":{\"id\":\"c9e2202d-6823-4bea-a878-918889a2fca6\",\"type\":\"ToolEvents\"},\"toolbar\":{\"id\":\"4c00f40e-bbd7-43dd-bd84-cecf785ec671\",\"type\":\"Toolbar\"},\"x_range\":{\"id\":\"561f90b9-702d-41a5-8f36-e8f8a10ccfcb\",\"type\":\"Range1d\"},\"y_range\":{\"id\":\"69675a2b-febc-46b5-98ea-a5db0a20ee5d\",\"type\":\"DataRange1d\"}},\"id\":\"7a9cd930-37c8-4d51-8bb5-b01c68a2860d\",\"subtype\":\"Figure\",\"type\":\"Plot\"},{\"attributes\":{\"plot\":null,\"text\":\"Sample of Dambis et al (2013)\",\"text_font_size\":{\"value\":\"13pt\"}},\"id\":\"520e8c9d-f5b5-4928-aa22-3344ec780542\",\"type\":\"Title\"},{\"attributes\":{},\"id\":\"cfc04f8a-1903-4b8c-977a-a2f5f42bd346\",\"type\":\"BasicTickFormatter\"},{\"attributes\":{\"axis_label\":\"Count\",\"axis_label_text_font_size\":{\"value\":\"13pt\"},\"formatter\":{\"id\":\"cfc04f8a-1903-4b8c-977a-a2f5f42bd346\",\"type\":\"BasicTickFormatter\"},\"major_label_text_font_size\":{\"value\":\"13pt\"},\"plot\":{\"id\":\"7a9cd930-37c8-4d51-8bb5-b01c68a2860d\",\"subtype\":\"Figure\",\"type\":\"Plot\"},\"ticker\":{\"id\":\"610904ba-d0da-4c26-bb36-96ed9dd357e9\",\"type\":\"BasicTicker\"}},\"id\":\"696f1514-e791-44bb-b6a2-99466013e293\",\"type\":\"LinearAxis\"},{\"attributes\":{\"plot\":{\"id\":\"7a9cd930-37c8-4d51-8bb5-b01c68a2860d\",\"subtype\":\"Figure\",\"type\":\"Plot\"}},\"id\":\"ab153c97-55e9-4fdb-8f83-1411f878a0ba\",\"type\":\"ResetTool\"},{\"attributes\":{\"bottom_units\":\"screen\",\"fill_alpha\":{\"value\":0.5},\"fill_color\":{\"value\":\"lightgrey\"},\"left_units\":\"screen\",\"level\":\"overlay\",\"line_alpha\":{\"value\":1.0},\"line_color\":{\"value\":\"black\"},\"line_dash\":[4,4],\"line_width\":{\"value\":2},\"plot\":null,\"render_mode\":\"css\",\"right_units\":\"screen\",\"top_units\":\"screen\"},\"id\":\"570922b2-21c8-49f8-814c-cb6c4c41f111\",\"type\":\"BoxAnnotation\"},{\"attributes\":{\"plot\":{\"id\":\"7a9cd930-37c8-4d51-8bb5-b01c68a2860d\",\"subtype\":\"Figure\",\"type\":\"Plot\"},\"ticker\":{\"id\":\"0d247cc4-6585-4325-96a9-d0e39b3156f5\",\"type\":\"BasicTicker\"}},\"id\":\"6dbe048a-af2c-40a2-a525-9ccde1b99157\",\"type\":\"Grid\"},{\"attributes\":{\"callback\":null,\"end\":0.6,\"start\":-3.1},\"id\":\"561f90b9-702d-41a5-8f36-e8f8a10ccfcb\",\"type\":\"Range1d\"},{\"attributes\":{\"plot\":{\"id\":\"7a9cd930-37c8-4d51-8bb5-b01c68a2860d\",\"subtype\":\"Figure\",\"type\":\"Plot\"}},\"id\":\"c0dfa43e-6704-4753-80d9-4a943d0d88b2\",\"type\":\"WheelZoomTool\"},{\"attributes\":{\"plot\":{\"id\":\"7a9cd930-37c8-4d51-8bb5-b01c68a2860d\",\"subtype\":\"Figure\",\"type\":\"Plot\"}},\"id\":\"85122601-f9c2-4e01-a9f3-368995ccf161\",\"type\":\"SaveTool\"},{\"attributes\":{},\"id\":\"0d247cc4-6585-4325-96a9-d0e39b3156f5\",\"type\":\"BasicTicker\"},{\"attributes\":{},\"id\":\"610904ba-d0da-4c26-bb36-96ed9dd357e9\",\"type\":\"BasicTicker\"},{\"attributes\":{\"callback\":null,\"overlay\":{\"id\":\"d39597d8-c9c7-4891-bdd5-4db0340f0d83\",\"type\":\"BoxAnnotation\"},\"plot\":{\"id\":\"7a9cd930-37c8-4d51-8bb5-b01c68a2860d\",\"subtype\":\"Figure\",\"type\":\"Plot\"},\"renderers\":[{\"id\":\"fcfd8d64-6a8f-4f36-bd04-b394aac5f094\",\"type\":\"GlyphRenderer\"}]},\"id\":\"b85d6490-df76-4c26-8b97-598960f2d3f4\",\"type\":\"BoxSelectTool\"},{\"attributes\":{\"bottom_units\":\"screen\",\"fill_alpha\":{\"value\":0.5},\"fill_color\":{\"value\":\"lightgrey\"},\"left_units\":\"screen\",\"level\":\"overlay\",\"line_alpha\":{\"value\":1.0},\"line_color\":{\"value\":\"black\"},\"line_dash\":[4,4],\"line_width\":{\"value\":2},\"plot\":null,\"render_mode\":\"css\",\"right_units\":\"screen\",\"top_units\":\"screen\"},\"id\":\"d39597d8-c9c7-4891-bdd5-4db0340f0d83\",\"type\":\"BoxAnnotation\"},{\"attributes\":{\"callback\":null},\"id\":\"69675a2b-febc-46b5-98ea-a5db0a20ee5d\",\"type\":\"DataRange1d\"},{\"attributes\":{\"bottom\":{\"value\":0},\"fill_alpha\":{\"value\":0.1},\"fill_color\":{\"value\":\"#1f77b4\"},\"left\":{\"field\":\"left\"},\"line_alpha\":{\"value\":0.1},\"line_color\":{\"value\":\"#1f77b4\"},\"right\":{\"field\":\"right\"},\"top\":{\"field\":\"top\"}},\"id\":\"b44109cc-824d-4fcb-b092-f073b1e73817\",\"type\":\"Quad\"},{\"attributes\":{\"axis_label\":\"[Fe/H]\",\"axis_label_text_font_size\":{\"value\":\"13pt\"},\"formatter\":{\"id\":\"c4335772-6955-41bf-8e5f-e3652eab78bd\",\"type\":\"BasicTickFormatter\"},\"major_label_text_font_size\":{\"value\":\"13pt\"},\"plot\":{\"id\":\"7a9cd930-37c8-4d51-8bb5-b01c68a2860d\",\"subtype\":\"Figure\",\"type\":\"Plot\"},\"ticker\":{\"id\":\"0d247cc4-6585-4325-96a9-d0e39b3156f5\",\"type\":\"BasicTicker\"}},\"id\":\"93707a10-c0a4-45cc-b02b-d961047d1681\",\"type\":\"LinearAxis\"},{\"attributes\":{\"active_drag\":\"auto\",\"active_scroll\":\"auto\",\"active_tap\":\"auto\",\"tools\":[{\"id\":\"dd6b8cc1-1925-4734-b1ba-ef948a292293\",\"type\":\"PanTool\"},{\"id\":\"c0dfa43e-6704-4753-80d9-4a943d0d88b2\",\"type\":\"WheelZoomTool\"},{\"id\":\"bd93b042-b087-4878-8316-d816423f6c7e\",\"type\":\"BoxZoomTool\"},{\"id\":\"b85d6490-df76-4c26-8b97-598960f2d3f4\",\"type\":\"BoxSelectTool\"},{\"id\":\"85122601-f9c2-4e01-a9f3-368995ccf161\",\"type\":\"SaveTool\"},{\"id\":\"ab153c97-55e9-4fdb-8f83-1411f878a0ba\",\"type\":\"ResetTool\"}]},\"id\":\"4c00f40e-bbd7-43dd-bd84-cecf785ec671\",\"type\":\"Toolbar\"},{\"attributes\":{\"callback\":null,\"column_names\":[\"top\",\"left\",\"right\"],\"data\":{\"left\":[-2.84,-2.743,-2.646,-2.549,-2.452,-2.355,-2.258,-2.161,-2.064,-1.967,-1.87,-1.773,-1.676,-1.579,-1.482,-1.385,-1.288,-1.191,-1.094,-0.9970000000000001,-0.9000000000000001,-0.8029999999999999,-0.706,-0.609,-0.512,-0.41500000000000004,-0.31800000000000006,-0.22100000000000009,-0.12400000000000011,-0.027000000000000135],\"right\":[-2.743,-2.646,-2.549,-2.452,-2.355,-2.258,-2.161,-2.064,-1.967,-1.87,-1.773,-1.676,-1.579,-1.482,-1.385,-1.288,-1.191,-1.094,-0.9970000000000001,-0.9000000000000001,-0.8029999999999999,-0.706,-0.609,-0.512,-0.41500000000000004,-0.31800000000000006,-0.22100000000000009,-0.12400000000000011,-0.027000000000000135,0.07],\"top\":[1,0,1,2,2,6,5,8,18,19,25,31,33,49,43,32,22,20,14,8,17,10,4,7,10,4,5,2,3,1]}},\"id\":\"dcec9bcc-8905-471b-816d-ea8c7099a124\",\"type\":\"ColumnDataSource\"},{\"attributes\":{},\"id\":\"c4335772-6955-41bf-8e5f-e3652eab78bd\",\"type\":\"BasicTickFormatter\"},{\"attributes\":{\"dimension\":1,\"plot\":{\"id\":\"7a9cd930-37c8-4d51-8bb5-b01c68a2860d\",\"subtype\":\"Figure\",\"type\":\"Plot\"},\"ticker\":{\"id\":\"610904ba-d0da-4c26-bb36-96ed9dd357e9\",\"type\":\"BasicTicker\"}},\"id\":\"5cd228ba-f645-4fff-a601-4a811ca15d29\",\"type\":\"Grid\"},{\"attributes\":{\"bottom\":{\"value\":0},\"fill_color\":{\"value\":\"#1f77b4\"},\"left\":{\"field\":\"left\"},\"right\":{\"field\":\"right\"},\"top\":{\"field\":\"top\"}},\"id\":\"10be5334-06f8-4ed7-b8da-7c61ba2e05fd\",\"type\":\"Quad\"},{\"attributes\":{},\"id\":\"c9e2202d-6823-4bea-a878-918889a2fca6\",\"type\":\"ToolEvents\"},{\"attributes\":{\"data_source\":{\"id\":\"dcec9bcc-8905-471b-816d-ea8c7099a124\",\"type\":\"ColumnDataSource\"},\"glyph\":{\"id\":\"10be5334-06f8-4ed7-b8da-7c61ba2e05fd\",\"type\":\"Quad\"},\"hover_glyph\":null,\"nonselection_glyph\":{\"id\":\"b44109cc-824d-4fcb-b092-f073b1e73817\",\"type\":\"Quad\"},\"selection_glyph\":null},\"id\":\"fcfd8d64-6a8f-4f36-bd04-b394aac5f094\",\"type\":\"GlyphRenderer\"},{\"attributes\":{\"plot\":{\"id\":\"7a9cd930-37c8-4d51-8bb5-b01c68a2860d\",\"subtype\":\"Figure\",\"type\":\"Plot\"}},\"id\":\"dd6b8cc1-1925-4734-b1ba-ef948a292293\",\"type\":\"PanTool\"}],\"root_ids\":[\"7a9cd930-37c8-4d51-8bb5-b01c68a2860d\"]},\"title\":\"Bokeh Application\",\"version\":\"0.12.2\"}};\n",
       "            var render_items = [{\"docid\":\"ba521bb4-9bb6-432d-a5f2-c55b28d2e95c\",\"elementid\":\"61beab9e-a16e-499e-ae33-37803a48490f\",\"modelid\":\"7a9cd930-37c8-4d51-8bb5-b01c68a2860d\"}];\n",
       "            \n",
       "            Bokeh.embed.embed_items(docs_json, render_items);\n",
       "        });\n",
       "      },\n",
       "      function(Bokeh) {\n",
       "      }\n",
       "    ];\n",
       "  \n",
       "    function run_inline_js() {\n",
       "      \n",
       "      if ((window.Bokeh !== undefined) || (force === \"1\")) {\n",
       "        for (var i = 0; i < inline_js.length; i++) {\n",
       "          inline_js[i](window.Bokeh);\n",
       "        }if (force === \"1\") {\n",
       "          display_loaded();\n",
       "        }} else if (Date.now() < window._bokeh_timeout) {\n",
       "        setTimeout(run_inline_js, 100);\n",
       "      } else if (!window._bokeh_failed_load) {\n",
       "        console.log(\"Bokeh: BokehJS failed to load within specified timeout.\");\n",
       "        window._bokeh_failed_load = true;\n",
       "      } else if (!force) {\n",
       "        var cell = $(\"#61beab9e-a16e-499e-ae33-37803a48490f\").parents('.cell').data().cell;\n",
       "        cell.output_area.append_execute_result(NB_LOAD_WARNING)\n",
       "      }\n",
       "  \n",
       "    }\n",
       "  \n",
       "    if (window._bokeh_is_loading === 0) {\n",
       "      console.log(\"Bokeh: BokehJS loaded, going straight to plotting\");\n",
       "      run_inline_js();\n",
       "    } else {\n",
       "      load_libs(js_urls, function() {\n",
       "        console.log(\"Bokeh: BokehJS plotting callback run at\", now());\n",
       "        run_inline_js();\n",
       "      });\n",
       "    }\n",
       "  }(this));\n",
       "</script>"
      ]
     },
     "metadata": {},
     "output_type": "display_data"
    }
   ],
   "source": [
    "hist, edges = np.histogram(Dambis['FeH'], density=False, bins=30)\n",
    "tools = \"pan, wheel_zoom, box_zoom, box_select, save, reset\"\n",
    "title = 'Sample of Dambis et al (2013)'\n",
    "\n",
    "fig = Figure(width=700, height=500, x_axis_label='[Fe/H]', y_axis_label='Count', x_range=(-3.1,0.6), title=title, tools=tools)\n",
    "fig.quad(top=hist, bottom=0, left=edges[:-1], right=edges[1:], line_color='black')\n",
    "show(fig)\n"
   ]
  },
  {
   "cell_type": "markdown",
   "metadata": {},
   "source": [
    "## Metallicity histogram of GDR2 sample"
   ]
  },
  {
   "cell_type": "code",
   "execution_count": 7,
   "metadata": {
    "collapsed": false
   },
   "outputs": [
    {
     "data": {
      "text/html": [
       "\n",
       "\n",
       "    <div class=\"bk-root\">\n",
       "        <div class=\"plotdiv\" id=\"371132ad-18b4-4311-81ab-a3a5e911395c\"></div>\n",
       "    </div>\n",
       "<script type=\"text/javascript\">\n",
       "  \n",
       "  (function(global) {\n",
       "    function now() {\n",
       "      return new Date();\n",
       "    }\n",
       "  \n",
       "    var force = \"\";\n",
       "  \n",
       "    if (typeof (window._bokeh_onload_callbacks) === \"undefined\" || force !== \"\") {\n",
       "      window._bokeh_onload_callbacks = [];\n",
       "      window._bokeh_is_loading = undefined;\n",
       "    }\n",
       "  \n",
       "  \n",
       "    \n",
       "    if (typeof (window._bokeh_timeout) === \"undefined\" || force !== \"\") {\n",
       "      window._bokeh_timeout = Date.now() + 0;\n",
       "      window._bokeh_failed_load = false;\n",
       "    }\n",
       "  \n",
       "    var NB_LOAD_WARNING = {'data': {'text/html':\n",
       "       \"<div style='background-color: #fdd'>\\n\"+\n",
       "       \"<p>\\n\"+\n",
       "       \"BokehJS does not appear to have successfully loaded. If loading BokehJS from CDN, this \\n\"+\n",
       "       \"may be due to a slow or bad network connection. Possible fixes:\\n\"+\n",
       "       \"</p>\\n\"+\n",
       "       \"<ul>\\n\"+\n",
       "       \"<li>re-rerun `output_notebook()` to attempt to load from CDN again, or</li>\\n\"+\n",
       "       \"<li>use INLINE resources instead, as so:</li>\\n\"+\n",
       "       \"</ul>\\n\"+\n",
       "       \"<code>\\n\"+\n",
       "       \"from bokeh.resources import INLINE\\n\"+\n",
       "       \"output_notebook(resources=INLINE)\\n\"+\n",
       "       \"</code>\\n\"+\n",
       "       \"</div>\"}};\n",
       "  \n",
       "    function display_loaded() {\n",
       "      if (window.Bokeh !== undefined) {\n",
       "        Bokeh.$(\"#371132ad-18b4-4311-81ab-a3a5e911395c\").text(\"BokehJS successfully loaded.\");\n",
       "      } else if (Date.now() < window._bokeh_timeout) {\n",
       "        setTimeout(display_loaded, 100)\n",
       "      }\n",
       "    }\n",
       "  \n",
       "    function run_callbacks() {\n",
       "      window._bokeh_onload_callbacks.forEach(function(callback) { callback() });\n",
       "      delete window._bokeh_onload_callbacks\n",
       "      console.info(\"Bokeh: all callbacks have finished\");\n",
       "    }\n",
       "  \n",
       "    function load_libs(js_urls, callback) {\n",
       "      window._bokeh_onload_callbacks.push(callback);\n",
       "      if (window._bokeh_is_loading > 0) {\n",
       "        console.log(\"Bokeh: BokehJS is being loaded, scheduling callback at\", now());\n",
       "        return null;\n",
       "      }\n",
       "      if (js_urls == null || js_urls.length === 0) {\n",
       "        run_callbacks();\n",
       "        return null;\n",
       "      }\n",
       "      console.log(\"Bokeh: BokehJS not loaded, scheduling load and callback at\", now());\n",
       "      window._bokeh_is_loading = js_urls.length;\n",
       "      for (var i = 0; i < js_urls.length; i++) {\n",
       "        var url = js_urls[i];\n",
       "        var s = document.createElement('script');\n",
       "        s.src = url;\n",
       "        s.async = false;\n",
       "        s.onreadystatechange = s.onload = function() {\n",
       "          window._bokeh_is_loading--;\n",
       "          if (window._bokeh_is_loading === 0) {\n",
       "            console.log(\"Bokeh: all BokehJS libraries loaded\");\n",
       "            run_callbacks()\n",
       "          }\n",
       "        };\n",
       "        s.onerror = function() {\n",
       "          console.warn(\"failed to load library \" + url);\n",
       "        };\n",
       "        console.log(\"Bokeh: injecting script tag for BokehJS library: \", url);\n",
       "        document.getElementsByTagName(\"head\")[0].appendChild(s);\n",
       "      }\n",
       "    };var element = document.getElementById(\"371132ad-18b4-4311-81ab-a3a5e911395c\");\n",
       "    if (element == null) {\n",
       "      console.log(\"Bokeh: ERROR: autoload.js configured with elementid '371132ad-18b4-4311-81ab-a3a5e911395c' but no matching script tag was found. \")\n",
       "      return false;\n",
       "    }\n",
       "  \n",
       "    var js_urls = [];\n",
       "  \n",
       "    var inline_js = [\n",
       "      function(Bokeh) {\n",
       "        Bokeh.$(function() {\n",
       "            var docs_json = {\"d1edc3c1-5b9a-43c5-8429-a2f4a7465884\":{\"roots\":{\"references\":[{\"attributes\":{\"bottom_units\":\"screen\",\"fill_alpha\":{\"value\":0.5},\"fill_color\":{\"value\":\"lightgrey\"},\"left_units\":\"screen\",\"level\":\"overlay\",\"line_alpha\":{\"value\":1.0},\"line_color\":{\"value\":\"black\"},\"line_dash\":[4,4],\"line_width\":{\"value\":2},\"plot\":null,\"render_mode\":\"css\",\"right_units\":\"screen\",\"top_units\":\"screen\"},\"id\":\"383a956d-9391-43a6-b099-aff1a33842fc\",\"type\":\"BoxAnnotation\"},{\"attributes\":{\"active_drag\":\"auto\",\"active_scroll\":\"auto\",\"active_tap\":\"auto\",\"tools\":[{\"id\":\"f6e6e92a-6768-4a54-8b23-4e2134a8b72a\",\"type\":\"PanTool\"},{\"id\":\"314ccbcb-073d-4d1f-838e-adc8836f194d\",\"type\":\"WheelZoomTool\"},{\"id\":\"733fd07e-ef61-45ff-89ae-8364b76e9472\",\"type\":\"BoxZoomTool\"},{\"id\":\"f7bea7a5-d4a0-4b5c-9f0d-71c2c9140836\",\"type\":\"BoxSelectTool\"},{\"id\":\"e8c2117b-096a-4496-bb95-ad8b0351f54a\",\"type\":\"SaveTool\"},{\"id\":\"b4cd397c-6ee5-427f-8033-64a25b6540ec\",\"type\":\"ResetTool\"}]},\"id\":\"3eb392e1-6e1e-4189-8e3b-e4bd486e09fa\",\"type\":\"Toolbar\"},{\"attributes\":{\"callback\":null,\"end\":0.6,\"start\":-3.1},\"id\":\"faf0cf57-68db-4dcb-8f9b-198ecc6517df\",\"type\":\"Range1d\"},{\"attributes\":{\"plot\":{\"id\":\"6b25f18b-5ff5-4514-9eda-bde4830e5028\",\"subtype\":\"Figure\",\"type\":\"Plot\"}},\"id\":\"f6e6e92a-6768-4a54-8b23-4e2134a8b72a\",\"type\":\"PanTool\"},{\"attributes\":{},\"id\":\"96673214-cacd-45e1-9d00-78b1807bb111\",\"type\":\"BasicTickFormatter\"},{\"attributes\":{\"axis_label\":\"[Fe/H]\",\"axis_label_text_font_size\":{\"value\":\"13pt\"},\"formatter\":{\"id\":\"96673214-cacd-45e1-9d00-78b1807bb111\",\"type\":\"BasicTickFormatter\"},\"major_label_text_font_size\":{\"value\":\"13pt\"},\"plot\":{\"id\":\"6b25f18b-5ff5-4514-9eda-bde4830e5028\",\"subtype\":\"Figure\",\"type\":\"Plot\"},\"ticker\":{\"id\":\"77f575df-b833-42bf-9fa4-a9a821c82137\",\"type\":\"BasicTicker\"}},\"id\":\"f20a6e45-c89a-479c-9055-18d1a7821183\",\"type\":\"LinearAxis\"},{\"attributes\":{},\"id\":\"21e0f526-4bc0-4820-9897-56808f48eb63\",\"type\":\"BasicTickFormatter\"},{\"attributes\":{\"below\":[{\"id\":\"f20a6e45-c89a-479c-9055-18d1a7821183\",\"type\":\"LinearAxis\"}],\"left\":[{\"id\":\"063f7166-fda7-4c7a-9a71-38ccd1ff8767\",\"type\":\"LinearAxis\"}],\"plot_height\":500,\"plot_width\":700,\"renderers\":[{\"id\":\"f20a6e45-c89a-479c-9055-18d1a7821183\",\"type\":\"LinearAxis\"},{\"id\":\"f040b44b-8cb0-415e-a589-9e3c3f00f440\",\"type\":\"Grid\"},{\"id\":\"063f7166-fda7-4c7a-9a71-38ccd1ff8767\",\"type\":\"LinearAxis\"},{\"id\":\"c9b431eb-fa13-401f-af7c-51fd853b3dbc\",\"type\":\"Grid\"},{\"id\":\"65df96e3-babb-49f2-a266-dc3e85866cbe\",\"type\":\"BoxAnnotation\"},{\"id\":\"383a956d-9391-43a6-b099-aff1a33842fc\",\"type\":\"BoxAnnotation\"},{\"id\":\"7481caa5-9735-420d-b64f-1744950c7a55\",\"type\":\"GlyphRenderer\"}],\"title\":{\"id\":\"b416b090-f8b3-4865-af27-4d64b38905c4\",\"type\":\"Title\"},\"tool_events\":{\"id\":\"e96283f5-151a-44c2-a228-1851616e4944\",\"type\":\"ToolEvents\"},\"toolbar\":{\"id\":\"3eb392e1-6e1e-4189-8e3b-e4bd486e09fa\",\"type\":\"Toolbar\"},\"x_range\":{\"id\":\"faf0cf57-68db-4dcb-8f9b-198ecc6517df\",\"type\":\"Range1d\"},\"y_range\":{\"id\":\"3be7e88d-30a8-4f57-936c-286a833227db\",\"type\":\"DataRange1d\"}},\"id\":\"6b25f18b-5ff5-4514-9eda-bde4830e5028\",\"subtype\":\"Figure\",\"type\":\"Plot\"},{\"attributes\":{\"callback\":null,\"overlay\":{\"id\":\"383a956d-9391-43a6-b099-aff1a33842fc\",\"type\":\"BoxAnnotation\"},\"plot\":{\"id\":\"6b25f18b-5ff5-4514-9eda-bde4830e5028\",\"subtype\":\"Figure\",\"type\":\"Plot\"},\"renderers\":[{\"id\":\"7481caa5-9735-420d-b64f-1744950c7a55\",\"type\":\"GlyphRenderer\"}]},\"id\":\"f7bea7a5-d4a0-4b5c-9f0d-71c2c9140836\",\"type\":\"BoxSelectTool\"},{\"attributes\":{\"overlay\":{\"id\":\"65df96e3-babb-49f2-a266-dc3e85866cbe\",\"type\":\"BoxAnnotation\"},\"plot\":{\"id\":\"6b25f18b-5ff5-4514-9eda-bde4830e5028\",\"subtype\":\"Figure\",\"type\":\"Plot\"}},\"id\":\"733fd07e-ef61-45ff-89ae-8364b76e9472\",\"type\":\"BoxZoomTool\"},{\"attributes\":{},\"id\":\"e96283f5-151a-44c2-a228-1851616e4944\",\"type\":\"ToolEvents\"},{\"attributes\":{\"callback\":null,\"column_names\":[\"top\",\"left\",\"right\"],\"data\":{\"left\":[-2.99996066045,-2.8833671623437667,-2.7667736642375336,-2.6501801661313,-2.533586668025067,-2.4169931699188334,-2.3003996718126003,-2.1838061737063668,-2.0672126756001337,-1.9506191774939001,-1.8340256793876668,-1.7174321812814335,-1.6008386831752002,-1.4842451850689669,-1.3676516869627335,-1.2510581888565002,-1.134464690750267,-1.0178711926440336,-0.9012776945378,-0.784684196431567,-0.6680906983253334,-0.5514972002191003,-0.4349037021128668,-0.3183102040066337,-0.20171670590040014,-0.08512320779416704,0.031470290312066496,0.1480637884182996,0.26465728652453313,0.3812507846307662],\"right\":[-2.8833671623437667,-2.7667736642375336,-2.6501801661313,-2.533586668025067,-2.4169931699188334,-2.3003996718126003,-2.1838061737063668,-2.0672126756001337,-1.9506191774939001,-1.8340256793876668,-1.7174321812814335,-1.6008386831752002,-1.4842451850689669,-1.3676516869627335,-1.2510581888565002,-1.134464690750267,-1.0178711926440336,-0.9012776945378,-0.784684196431567,-0.6680906983253334,-0.5514972002191003,-0.4349037021128668,-0.3183102040066337,-0.20171670590040014,-0.08512320779416704,0.031470290312066496,0.1480637884182996,0.26465728652453313,0.3812507846307662,0.497844282737],\"top\":[289,371,443,588,697,1051,1325,1429,1777,2310,2693,3226,3594,4097,4442,4565,4494,4186,3805,3427,2976,2524,2273,1878,1515,1542,713,268,119,58]}},\"id\":\"5009fbc5-790c-481b-8a7a-5a28fe7e9cfc\",\"type\":\"ColumnDataSource\"},{\"attributes\":{\"plot\":{\"id\":\"6b25f18b-5ff5-4514-9eda-bde4830e5028\",\"subtype\":\"Figure\",\"type\":\"Plot\"}},\"id\":\"e8c2117b-096a-4496-bb95-ad8b0351f54a\",\"type\":\"SaveTool\"},{\"attributes\":{\"dimension\":1,\"plot\":{\"id\":\"6b25f18b-5ff5-4514-9eda-bde4830e5028\",\"subtype\":\"Figure\",\"type\":\"Plot\"},\"ticker\":{\"id\":\"06828457-5af7-4d2e-8720-f29ebe7373b4\",\"type\":\"BasicTicker\"}},\"id\":\"c9b431eb-fa13-401f-af7c-51fd853b3dbc\",\"type\":\"Grid\"},{\"attributes\":{\"callback\":null},\"id\":\"3be7e88d-30a8-4f57-936c-286a833227db\",\"type\":\"DataRange1d\"},{\"attributes\":{\"data_source\":{\"id\":\"5009fbc5-790c-481b-8a7a-5a28fe7e9cfc\",\"type\":\"ColumnDataSource\"},\"glyph\":{\"id\":\"9799e71f-8f05-45f8-9e39-6da7fb99c2c7\",\"type\":\"Quad\"},\"hover_glyph\":null,\"nonselection_glyph\":{\"id\":\"f04cbd06-0ffc-43c0-b232-5bbbfbe738c9\",\"type\":\"Quad\"},\"selection_glyph\":null},\"id\":\"7481caa5-9735-420d-b64f-1744950c7a55\",\"type\":\"GlyphRenderer\"},{\"attributes\":{},\"id\":\"06828457-5af7-4d2e-8720-f29ebe7373b4\",\"type\":\"BasicTicker\"},{\"attributes\":{\"plot\":{\"id\":\"6b25f18b-5ff5-4514-9eda-bde4830e5028\",\"subtype\":\"Figure\",\"type\":\"Plot\"}},\"id\":\"314ccbcb-073d-4d1f-838e-adc8836f194d\",\"type\":\"WheelZoomTool\"},{\"attributes\":{\"plot\":{\"id\":\"6b25f18b-5ff5-4514-9eda-bde4830e5028\",\"subtype\":\"Figure\",\"type\":\"Plot\"}},\"id\":\"b4cd397c-6ee5-427f-8033-64a25b6540ec\",\"type\":\"ResetTool\"},{\"attributes\":{\"bottom\":{\"value\":0},\"fill_alpha\":{\"value\":0.1},\"fill_color\":{\"value\":\"#1f77b4\"},\"left\":{\"field\":\"left\"},\"line_alpha\":{\"value\":0.1},\"line_color\":{\"value\":\"#1f77b4\"},\"right\":{\"field\":\"right\"},\"top\":{\"field\":\"top\"}},\"id\":\"f04cbd06-0ffc-43c0-b232-5bbbfbe738c9\",\"type\":\"Quad\"},{\"attributes\":{\"bottom\":{\"value\":0},\"fill_color\":{\"value\":\"#1f77b4\"},\"left\":{\"field\":\"left\"},\"right\":{\"field\":\"right\"},\"top\":{\"field\":\"top\"}},\"id\":\"9799e71f-8f05-45f8-9e39-6da7fb99c2c7\",\"type\":\"Quad\"},{\"attributes\":{\"plot\":{\"id\":\"6b25f18b-5ff5-4514-9eda-bde4830e5028\",\"subtype\":\"Figure\",\"type\":\"Plot\"},\"ticker\":{\"id\":\"77f575df-b833-42bf-9fa4-a9a821c82137\",\"type\":\"BasicTicker\"}},\"id\":\"f040b44b-8cb0-415e-a589-9e3c3f00f440\",\"type\":\"Grid\"},{\"attributes\":{\"axis_label\":\"Count\",\"axis_label_text_font_size\":{\"value\":\"13pt\"},\"formatter\":{\"id\":\"21e0f526-4bc0-4820-9897-56808f48eb63\",\"type\":\"BasicTickFormatter\"},\"major_label_text_font_size\":{\"value\":\"13pt\"},\"plot\":{\"id\":\"6b25f18b-5ff5-4514-9eda-bde4830e5028\",\"subtype\":\"Figure\",\"type\":\"Plot\"},\"ticker\":{\"id\":\"06828457-5af7-4d2e-8720-f29ebe7373b4\",\"type\":\"BasicTicker\"}},\"id\":\"063f7166-fda7-4c7a-9a71-38ccd1ff8767\",\"type\":\"LinearAxis\"},{\"attributes\":{\"bottom_units\":\"screen\",\"fill_alpha\":{\"value\":0.5},\"fill_color\":{\"value\":\"lightgrey\"},\"left_units\":\"screen\",\"level\":\"overlay\",\"line_alpha\":{\"value\":1.0},\"line_color\":{\"value\":\"black\"},\"line_dash\":[4,4],\"line_width\":{\"value\":2},\"plot\":null,\"render_mode\":\"css\",\"right_units\":\"screen\",\"top_units\":\"screen\"},\"id\":\"65df96e3-babb-49f2-a266-dc3e85866cbe\",\"type\":\"BoxAnnotation\"},{\"attributes\":{\"plot\":null,\"text\":\"Gaia DR2 sample\",\"text_font_size\":{\"value\":\"13pt\"}},\"id\":\"b416b090-f8b3-4865-af27-4d64b38905c4\",\"type\":\"Title\"},{\"attributes\":{},\"id\":\"77f575df-b833-42bf-9fa4-a9a821c82137\",\"type\":\"BasicTicker\"}],\"root_ids\":[\"6b25f18b-5ff5-4514-9eda-bde4830e5028\"]},\"title\":\"Bokeh Application\",\"version\":\"0.12.2\"}};\n",
       "            var render_items = [{\"docid\":\"d1edc3c1-5b9a-43c5-8429-a2f4a7465884\",\"elementid\":\"371132ad-18b4-4311-81ab-a3a5e911395c\",\"modelid\":\"6b25f18b-5ff5-4514-9eda-bde4830e5028\"}];\n",
       "            \n",
       "            Bokeh.embed.embed_items(docs_json, render_items);\n",
       "        });\n",
       "      },\n",
       "      function(Bokeh) {\n",
       "      }\n",
       "    ];\n",
       "  \n",
       "    function run_inline_js() {\n",
       "      \n",
       "      if ((window.Bokeh !== undefined) || (force === \"1\")) {\n",
       "        for (var i = 0; i < inline_js.length; i++) {\n",
       "          inline_js[i](window.Bokeh);\n",
       "        }if (force === \"1\") {\n",
       "          display_loaded();\n",
       "        }} else if (Date.now() < window._bokeh_timeout) {\n",
       "        setTimeout(run_inline_js, 100);\n",
       "      } else if (!window._bokeh_failed_load) {\n",
       "        console.log(\"Bokeh: BokehJS failed to load within specified timeout.\");\n",
       "        window._bokeh_failed_load = true;\n",
       "      } else if (!force) {\n",
       "        var cell = $(\"#371132ad-18b4-4311-81ab-a3a5e911395c\").parents('.cell').data().cell;\n",
       "        cell.output_area.append_execute_result(NB_LOAD_WARNING)\n",
       "      }\n",
       "  \n",
       "    }\n",
       "  \n",
       "    if (window._bokeh_is_loading === 0) {\n",
       "      console.log(\"Bokeh: BokehJS loaded, going straight to plotting\");\n",
       "      run_inline_js();\n",
       "    } else {\n",
       "      load_libs(js_urls, function() {\n",
       "        console.log(\"Bokeh: BokehJS plotting callback run at\", now());\n",
       "        run_inline_js();\n",
       "      });\n",
       "    }\n",
       "  }(this));\n",
       "</script>"
      ]
     },
     "metadata": {},
     "output_type": "display_data"
    }
   ],
   "source": [
    "hist, edges = np.histogram(Gaia['metallicity'].dropna(), density=False, bins=30)\n",
    "tools = \"pan, wheel_zoom, box_zoom, box_select, save, reset\"\n",
    "title = 'Gaia DR2 sample'\n",
    "\n",
    "fig = Figure(width=700, height=500, x_axis_label='[Fe/H]', y_axis_label='Count', x_range=(-3.1,0.6), title=title, tools=tools)\n",
    "fig.quad(top=hist, bottom=0, left=edges[:-1], right=edges[1:], line_color='black')\n",
    "show(fig)"
   ]
  },
  {
   "cell_type": "markdown",
   "metadata": {},
   "source": [
    "## Comparison Dambis FeH and GDR2 metallicity"
   ]
  },
  {
   "cell_type": "code",
   "execution_count": 8,
   "metadata": {
    "collapsed": false
   },
   "outputs": [
    {
     "name": "stdout",
     "output_type": "stream",
     "text": [
      "Number of Dambis stars with GDR2 photometric metallicity:  224\n"
     ]
    }
   ],
   "source": [
    "Xmatch = pd.read_csv(\"Data\\DambisGaiaXmatch.csv\")\n",
    "intermediate = pd.merge(Xmatch, Dambis, how=\"inner\", left_on=[\"Identifier\"], right_on=[\"Name\"])\n",
    "subDambis = pd.merge(intermediate, Gaia, how=\"inner\", left_on=[\"GaiaID\"], right_on=[\"designation\"])\n",
    "usedQuantities = ['FeH', 'metallicity']\n",
    "subDambis.dropna(subset=usedQuantities, inplace=True)\n",
    "print(\"Number of Dambis stars with GDR2 photometric metallicity: \", len(subDambis))"
   ]
  },
  {
   "cell_type": "code",
   "execution_count": 9,
   "metadata": {
    "collapsed": false
   },
   "outputs": [
    {
     "data": {
      "text/html": [
       "\n",
       "\n",
       "    <div class=\"bk-root\">\n",
       "        <div class=\"plotdiv\" id=\"e0ff0218-29ce-46bd-a89c-3c94a468b857\"></div>\n",
       "    </div>\n",
       "<script type=\"text/javascript\">\n",
       "  \n",
       "  (function(global) {\n",
       "    function now() {\n",
       "      return new Date();\n",
       "    }\n",
       "  \n",
       "    var force = \"\";\n",
       "  \n",
       "    if (typeof (window._bokeh_onload_callbacks) === \"undefined\" || force !== \"\") {\n",
       "      window._bokeh_onload_callbacks = [];\n",
       "      window._bokeh_is_loading = undefined;\n",
       "    }\n",
       "  \n",
       "  \n",
       "    \n",
       "    if (typeof (window._bokeh_timeout) === \"undefined\" || force !== \"\") {\n",
       "      window._bokeh_timeout = Date.now() + 0;\n",
       "      window._bokeh_failed_load = false;\n",
       "    }\n",
       "  \n",
       "    var NB_LOAD_WARNING = {'data': {'text/html':\n",
       "       \"<div style='background-color: #fdd'>\\n\"+\n",
       "       \"<p>\\n\"+\n",
       "       \"BokehJS does not appear to have successfully loaded. If loading BokehJS from CDN, this \\n\"+\n",
       "       \"may be due to a slow or bad network connection. Possible fixes:\\n\"+\n",
       "       \"</p>\\n\"+\n",
       "       \"<ul>\\n\"+\n",
       "       \"<li>re-rerun `output_notebook()` to attempt to load from CDN again, or</li>\\n\"+\n",
       "       \"<li>use INLINE resources instead, as so:</li>\\n\"+\n",
       "       \"</ul>\\n\"+\n",
       "       \"<code>\\n\"+\n",
       "       \"from bokeh.resources import INLINE\\n\"+\n",
       "       \"output_notebook(resources=INLINE)\\n\"+\n",
       "       \"</code>\\n\"+\n",
       "       \"</div>\"}};\n",
       "  \n",
       "    function display_loaded() {\n",
       "      if (window.Bokeh !== undefined) {\n",
       "        Bokeh.$(\"#e0ff0218-29ce-46bd-a89c-3c94a468b857\").text(\"BokehJS successfully loaded.\");\n",
       "      } else if (Date.now() < window._bokeh_timeout) {\n",
       "        setTimeout(display_loaded, 100)\n",
       "      }\n",
       "    }\n",
       "  \n",
       "    function run_callbacks() {\n",
       "      window._bokeh_onload_callbacks.forEach(function(callback) { callback() });\n",
       "      delete window._bokeh_onload_callbacks\n",
       "      console.info(\"Bokeh: all callbacks have finished\");\n",
       "    }\n",
       "  \n",
       "    function load_libs(js_urls, callback) {\n",
       "      window._bokeh_onload_callbacks.push(callback);\n",
       "      if (window._bokeh_is_loading > 0) {\n",
       "        console.log(\"Bokeh: BokehJS is being loaded, scheduling callback at\", now());\n",
       "        return null;\n",
       "      }\n",
       "      if (js_urls == null || js_urls.length === 0) {\n",
       "        run_callbacks();\n",
       "        return null;\n",
       "      }\n",
       "      console.log(\"Bokeh: BokehJS not loaded, scheduling load and callback at\", now());\n",
       "      window._bokeh_is_loading = js_urls.length;\n",
       "      for (var i = 0; i < js_urls.length; i++) {\n",
       "        var url = js_urls[i];\n",
       "        var s = document.createElement('script');\n",
       "        s.src = url;\n",
       "        s.async = false;\n",
       "        s.onreadystatechange = s.onload = function() {\n",
       "          window._bokeh_is_loading--;\n",
       "          if (window._bokeh_is_loading === 0) {\n",
       "            console.log(\"Bokeh: all BokehJS libraries loaded\");\n",
       "            run_callbacks()\n",
       "          }\n",
       "        };\n",
       "        s.onerror = function() {\n",
       "          console.warn(\"failed to load library \" + url);\n",
       "        };\n",
       "        console.log(\"Bokeh: injecting script tag for BokehJS library: \", url);\n",
       "        document.getElementsByTagName(\"head\")[0].appendChild(s);\n",
       "      }\n",
       "    };var element = document.getElementById(\"e0ff0218-29ce-46bd-a89c-3c94a468b857\");\n",
       "    if (element == null) {\n",
       "      console.log(\"Bokeh: ERROR: autoload.js configured with elementid 'e0ff0218-29ce-46bd-a89c-3c94a468b857' but no matching script tag was found. \")\n",
       "      return false;\n",
       "    }\n",
       "  \n",
       "    var js_urls = [];\n",
       "  \n",
       "    var inline_js = [\n",
       "      function(Bokeh) {\n",
       "        Bokeh.$(function() {\n",
       "            var docs_json = {\"5fa6331d-9e1e-4c39-9407-260eda808e51\":{\"roots\":{\"references\":[{\"attributes\":{\"plot\":null,\"text\":\"Dambis spectroscopic vs GDR2 photometric metallicity of RR Lyr stars\",\"text_font_size\":{\"value\":\"13pt\"}},\"id\":\"7708b573-b012-4cf6-95e0-a9d2f87ccc90\",\"type\":\"Title\"},{\"attributes\":{\"fill_color\":{\"value\":\"#1f77b4\"},\"line_color\":{\"value\":\"#1f77b4\"},\"x\":{\"field\":\"x\"},\"y\":{\"field\":\"y\"}},\"id\":\"8c490a5c-5bac-416e-b27e-b1f910736643\",\"type\":\"Circle\"},{\"attributes\":{\"line_alpha\":{\"value\":0.1},\"line_color\":{\"value\":\"#1f77b4\"},\"x\":{\"field\":\"x\"},\"y\":{\"field\":\"y\"}},\"id\":\"19b1f2f1-7fc8-4564-8b9f-8cd1f0554247\",\"type\":\"Line\"},{\"attributes\":{\"callback\":null,\"column_names\":[\"x\",\"y\"],\"data\":{\"x\":[-3.0,0.5],\"y\":[-3.0,0.5]}},\"id\":\"ba6d4564-13aa-4f3b-aafa-125c65a0a4e3\",\"type\":\"ColumnDataSource\"},{\"attributes\":{},\"id\":\"49020ba6-57c1-483d-86ad-65dba601c2d8\",\"type\":\"BasicTickFormatter\"},{\"attributes\":{\"plot\":{\"id\":\"9849810f-bc35-4dbc-aa6c-1f43435bfd03\",\"subtype\":\"Figure\",\"type\":\"Plot\"}},\"id\":\"f2ac84f4-c719-435c-8a85-47a9cb7df03b\",\"type\":\"ResetTool\"},{\"attributes\":{\"data_source\":{\"id\":\"ba6d4564-13aa-4f3b-aafa-125c65a0a4e3\",\"type\":\"ColumnDataSource\"},\"glyph\":{\"id\":\"e6ef205e-b197-4d16-b308-5e659a0431a8\",\"type\":\"Line\"},\"hover_glyph\":null,\"nonselection_glyph\":{\"id\":\"19b1f2f1-7fc8-4564-8b9f-8cd1f0554247\",\"type\":\"Line\"},\"selection_glyph\":null},\"id\":\"beaa4e3f-525a-461e-a1d8-379e2e2a2b4c\",\"type\":\"GlyphRenderer\"},{\"attributes\":{\"data_source\":{\"id\":\"a807f3ee-751e-4246-a343-75824e8a7611\",\"type\":\"ColumnDataSource\"},\"glyph\":{\"id\":\"8c490a5c-5bac-416e-b27e-b1f910736643\",\"type\":\"Circle\"},\"hover_glyph\":null,\"nonselection_glyph\":{\"id\":\"9ba6d3dd-75a1-46bc-9e5c-423a66853fd7\",\"type\":\"Circle\"},\"selection_glyph\":null},\"id\":\"940ba36e-e535-41ad-ad73-2a7a10ce20be\",\"type\":\"GlyphRenderer\"},{\"attributes\":{\"line_color\":{\"value\":\"red\"},\"x\":{\"field\":\"x\"},\"y\":{\"field\":\"y\"}},\"id\":\"e6ef205e-b197-4d16-b308-5e659a0431a8\",\"type\":\"Line\"},{\"attributes\":{\"plot\":{\"id\":\"9849810f-bc35-4dbc-aa6c-1f43435bfd03\",\"subtype\":\"Figure\",\"type\":\"Plot\"}},\"id\":\"a90002a8-7a0d-4828-9af0-d9eca2a297c4\",\"type\":\"SaveTool\"},{\"attributes\":{\"plot\":{\"id\":\"9849810f-bc35-4dbc-aa6c-1f43435bfd03\",\"subtype\":\"Figure\",\"type\":\"Plot\"}},\"id\":\"4bfda774-9ad4-4b97-b63f-b4388916db21\",\"type\":\"PanTool\"},{\"attributes\":{\"dimension\":1,\"plot\":{\"id\":\"9849810f-bc35-4dbc-aa6c-1f43435bfd03\",\"subtype\":\"Figure\",\"type\":\"Plot\"},\"ticker\":{\"id\":\"f943ebdd-cdb9-4df7-94b3-5a8f0c3228ab\",\"type\":\"BasicTicker\"}},\"id\":\"d6715941-76cc-4561-b428-3f0f7233e89f\",\"type\":\"Grid\"},{\"attributes\":{\"bottom_units\":\"screen\",\"fill_alpha\":{\"value\":0.5},\"fill_color\":{\"value\":\"lightgrey\"},\"left_units\":\"screen\",\"level\":\"overlay\",\"line_alpha\":{\"value\":1.0},\"line_color\":{\"value\":\"black\"},\"line_dash\":[4,4],\"line_width\":{\"value\":2},\"plot\":null,\"render_mode\":\"css\",\"right_units\":\"screen\",\"top_units\":\"screen\"},\"id\":\"5246a502-6327-4dd9-a55f-875a2d93eee7\",\"type\":\"BoxAnnotation\"},{\"attributes\":{},\"id\":\"c2d74df0-a670-4c9d-8abc-f7a83ced6306\",\"type\":\"BasicTickFormatter\"},{\"attributes\":{\"axis_label\":\"GDR2 Metallicity\",\"axis_label_text_font_size\":{\"value\":\"13pt\"},\"formatter\":{\"id\":\"49020ba6-57c1-483d-86ad-65dba601c2d8\",\"type\":\"BasicTickFormatter\"},\"major_label_text_font_size\":{\"value\":\"13pt\"},\"plot\":{\"id\":\"9849810f-bc35-4dbc-aa6c-1f43435bfd03\",\"subtype\":\"Figure\",\"type\":\"Plot\"},\"ticker\":{\"id\":\"f943ebdd-cdb9-4df7-94b3-5a8f0c3228ab\",\"type\":\"BasicTicker\"}},\"id\":\"7b08deb9-62ec-4fb7-b33d-c5cdc986fa42\",\"type\":\"LinearAxis\"},{\"attributes\":{\"plot\":{\"id\":\"9849810f-bc35-4dbc-aa6c-1f43435bfd03\",\"subtype\":\"Figure\",\"type\":\"Plot\"},\"ticker\":{\"id\":\"57ed0edf-55aa-4101-b29f-14c4753a5d4a\",\"type\":\"BasicTicker\"}},\"id\":\"57cf0d1d-6535-4b7f-a9f2-159a92eb88ad\",\"type\":\"Grid\"},{\"attributes\":{\"callback\":null},\"id\":\"f6d24d9c-f07c-4e4f-a00a-1b04c242e062\",\"type\":\"DataRange1d\"},{\"attributes\":{},\"id\":\"f943ebdd-cdb9-4df7-94b3-5a8f0c3228ab\",\"type\":\"BasicTicker\"},{\"attributes\":{\"active_drag\":\"auto\",\"active_scroll\":\"auto\",\"active_tap\":\"auto\",\"tools\":[{\"id\":\"4bfda774-9ad4-4b97-b63f-b4388916db21\",\"type\":\"PanTool\"},{\"id\":\"26f44578-b6d8-4fee-92ec-7fb8bfcbb3fb\",\"type\":\"WheelZoomTool\"},{\"id\":\"9c06bc9f-c3f2-4851-bcbb-b4bb02f4fc38\",\"type\":\"BoxZoomTool\"},{\"id\":\"0cbe52dc-3b26-4da7-8d2d-8c7250e97c1e\",\"type\":\"BoxSelectTool\"},{\"id\":\"a90002a8-7a0d-4828-9af0-d9eca2a297c4\",\"type\":\"SaveTool\"},{\"id\":\"f2ac84f4-c719-435c-8a85-47a9cb7df03b\",\"type\":\"ResetTool\"}]},\"id\":\"6ed50c22-110a-44e8-a89d-79a1a279e86d\",\"type\":\"Toolbar\"},{\"attributes\":{\"axis_label\":\"Dambis Metallicity\",\"axis_label_text_font_size\":{\"value\":\"13pt\"},\"formatter\":{\"id\":\"c2d74df0-a670-4c9d-8abc-f7a83ced6306\",\"type\":\"BasicTickFormatter\"},\"major_label_text_font_size\":{\"value\":\"13pt\"},\"plot\":{\"id\":\"9849810f-bc35-4dbc-aa6c-1f43435bfd03\",\"subtype\":\"Figure\",\"type\":\"Plot\"},\"ticker\":{\"id\":\"57ed0edf-55aa-4101-b29f-14c4753a5d4a\",\"type\":\"BasicTicker\"}},\"id\":\"f0a80fda-830d-40a1-979d-b45a3a87a670\",\"type\":\"LinearAxis\"},{\"attributes\":{\"callback\":null,\"overlay\":{\"id\":\"b957d605-bcd2-4dab-9af4-dccbc1e7f588\",\"type\":\"BoxAnnotation\"},\"plot\":{\"id\":\"9849810f-bc35-4dbc-aa6c-1f43435bfd03\",\"subtype\":\"Figure\",\"type\":\"Plot\"},\"renderers\":[{\"id\":\"940ba36e-e535-41ad-ad73-2a7a10ce20be\",\"type\":\"GlyphRenderer\"},{\"id\":\"beaa4e3f-525a-461e-a1d8-379e2e2a2b4c\",\"type\":\"GlyphRenderer\"}]},\"id\":\"0cbe52dc-3b26-4da7-8d2d-8c7250e97c1e\",\"type\":\"BoxSelectTool\"},{\"attributes\":{\"fill_alpha\":{\"value\":0.1},\"fill_color\":{\"value\":\"#1f77b4\"},\"line_alpha\":{\"value\":0.1},\"line_color\":{\"value\":\"#1f77b4\"},\"x\":{\"field\":\"x\"},\"y\":{\"field\":\"y\"}},\"id\":\"9ba6d3dd-75a1-46bc-9e5c-423a66853fd7\",\"type\":\"Circle\"},{\"attributes\":{},\"id\":\"8f24c993-1fde-47d8-bb0b-c74d801c7d1c\",\"type\":\"ToolEvents\"},{\"attributes\":{\"callback\":null},\"id\":\"a9070370-9495-4034-8248-10ca44b6850b\",\"type\":\"DataRange1d\"},{\"attributes\":{\"bottom_units\":\"screen\",\"fill_alpha\":{\"value\":0.5},\"fill_color\":{\"value\":\"lightgrey\"},\"left_units\":\"screen\",\"level\":\"overlay\",\"line_alpha\":{\"value\":1.0},\"line_color\":{\"value\":\"black\"},\"line_dash\":[4,4],\"line_width\":{\"value\":2},\"plot\":null,\"render_mode\":\"css\",\"right_units\":\"screen\",\"top_units\":\"screen\"},\"id\":\"b957d605-bcd2-4dab-9af4-dccbc1e7f588\",\"type\":\"BoxAnnotation\"},{\"attributes\":{},\"id\":\"57ed0edf-55aa-4101-b29f-14c4753a5d4a\",\"type\":\"BasicTicker\"},{\"attributes\":{\"below\":[{\"id\":\"f0a80fda-830d-40a1-979d-b45a3a87a670\",\"type\":\"LinearAxis\"}],\"left\":[{\"id\":\"7b08deb9-62ec-4fb7-b33d-c5cdc986fa42\",\"type\":\"LinearAxis\"}],\"plot_height\":500,\"plot_width\":700,\"renderers\":[{\"id\":\"f0a80fda-830d-40a1-979d-b45a3a87a670\",\"type\":\"LinearAxis\"},{\"id\":\"57cf0d1d-6535-4b7f-a9f2-159a92eb88ad\",\"type\":\"Grid\"},{\"id\":\"7b08deb9-62ec-4fb7-b33d-c5cdc986fa42\",\"type\":\"LinearAxis\"},{\"id\":\"d6715941-76cc-4561-b428-3f0f7233e89f\",\"type\":\"Grid\"},{\"id\":\"5246a502-6327-4dd9-a55f-875a2d93eee7\",\"type\":\"BoxAnnotation\"},{\"id\":\"b957d605-bcd2-4dab-9af4-dccbc1e7f588\",\"type\":\"BoxAnnotation\"},{\"id\":\"940ba36e-e535-41ad-ad73-2a7a10ce20be\",\"type\":\"GlyphRenderer\"},{\"id\":\"beaa4e3f-525a-461e-a1d8-379e2e2a2b4c\",\"type\":\"GlyphRenderer\"}],\"title\":{\"id\":\"7708b573-b012-4cf6-95e0-a9d2f87ccc90\",\"type\":\"Title\"},\"tool_events\":{\"id\":\"8f24c993-1fde-47d8-bb0b-c74d801c7d1c\",\"type\":\"ToolEvents\"},\"toolbar\":{\"id\":\"6ed50c22-110a-44e8-a89d-79a1a279e86d\",\"type\":\"Toolbar\"},\"x_range\":{\"id\":\"a9070370-9495-4034-8248-10ca44b6850b\",\"type\":\"DataRange1d\"},\"y_range\":{\"id\":\"f6d24d9c-f07c-4e4f-a00a-1b04c242e062\",\"type\":\"DataRange1d\"}},\"id\":\"9849810f-bc35-4dbc-aa6c-1f43435bfd03\",\"subtype\":\"Figure\",\"type\":\"Plot\"},{\"attributes\":{\"plot\":{\"id\":\"9849810f-bc35-4dbc-aa6c-1f43435bfd03\",\"subtype\":\"Figure\",\"type\":\"Plot\"}},\"id\":\"26f44578-b6d8-4fee-92ec-7fb8bfcbb3fb\",\"type\":\"WheelZoomTool\"},{\"attributes\":{\"callback\":null,\"column_names\":[\"x\",\"y\"],\"data\":{\"x\":[-0.97,-0.08,-1.43,-1.21,-0.68,-1.44,-1.57,-1.3,-1.77,-1.33,-1.49,-1.06,-1.56,-1.39,-0.81,-2.06,-0.58,-0.88,-1.37,-0.84,-0.29,-1.75,-1.48,-0.32,-1.5,-1.92,-0.43,-1.12,-1.41,-1.68,-1.48,-0.85,-1.21,-1.98,-1.08,-1.37,-1.31,-1.92,-1.52,-1.53,-1.23,-1.89,-1.56,-2.0,-1.11,-1.01,-0.83,-1.89,-1.83,-1.6,-1.32,-1.66,-0.07,-1.45,-1.43,-1.7,-1.75,-1.36,-2.0,-1.5,-1.65,-1.26,-1.59,-1.61,-1.17,-1.68,-1.74,-1.8,-1.67,-1.54,-1.38,-1.69,-2.33,-0.5,-1.75,-0.54,-1.03,-0.14,-1.71,-1.26,-0.56,-1.24,-1.74,-1.24,-0.87,-2.12,-1.55,-1.33,-1.51,-1.11,-1.48,-1.26,-1.35,-0.93,-1.95,-1.62,-1.81,-0.45,-1.49,-2.0,-1.68,-1.92,-1.5,-0.67,-1.52,-2.01,-1.4,-2.09,-1.32,-1.48,-1.8,-1.7,-1.33,-1.42,-1.55,-1.45,-0.83,-1.36,-1.34,-1.66,-1.5,-2.04,-1.48,-1.47,-2.28,-1.93,-1.48,-1.47,-1.32,-0.59,-1.56,-1.59,-1.73,-0.9,-1.39,-1.98,-1.44,-1.03,-2.13,-0.26,-1.79,-1.56,-2.01,-2.42,-0.85,-1.54,-1.09,-1.28,-0.9,-1.22,-1.17,-1.25,-1.63,-1.55,-1.52,-1.34,-1.83,-1.6,-1.3,-1.8,-0.23,-1.72,-1.21,-1.89,-2.31,-0.98,-1.6,-1.48,-1.54,-1.64,-1.77,-1.52,-1.99,-1.54,-0.8,-1.41,-1.62,-2.13,-1.5,-0.43,-1.6,-1.29,-0.73,-1.42,-0.57,-1.26,-2.16,-1.79,-1.25,-1.75,-1.06,-2.25,-1.51,-1.89,-1.18,-0.04,-2.03,-1.2,-1.67,-1.59,-0.74,-1.47,-2.51,-1.16,-0.28,-1.02,-0.17,-1.81,0.07,-1.64,-1.82,-1.95,-1.82,-1.19,-1.49,-1.64,-1.17,-0.82,-1.19,-1.49,-1.32,-2.18,-1.52,-0.85],\"y\":[-1.14039800251,0.0482333484229,-1.2133542582799999,-0.9707965625839999,-0.136747855664,-1.8265787173400003,-1.4979770918900002,0.020998641812,-1.93920123754,-0.7874932912170001,-1.50165087657,-0.8248083290189999,-0.674231310429,-0.25910725218499997,-0.463814628547,-0.767688509564,0.012024773275600002,-0.6545043420269999,-1.92026538915,-0.5165743233300001,0.06513667400880001,-1.81054751115,-1.02838234109,0.143415407311,-1.3316133119,-1.1304964852,-0.484991011717,-1.4501941466400001,-1.3526378275,-1.68814899792,-2.2134467767099997,-0.100421874092,-0.876890449277,-1.14729498888,-1.9812690076599997,-1.53621632963,-0.9251351399850001,-1.5750332473700002,-1.73076002336,-1.64376961056,-1.25921696504,-1.76104004463,-0.541072628819,-1.5464497062,-0.963809709596,-0.76672828631,-0.900425250089,-0.337560794444,-2.31347590712,-0.996543741249,-1.69966126004,-0.673679149166,0.061589454423000005,-1.8822573516799999,-0.783058053037,-0.899768109605,-1.2214446670899999,-1.4262717883200002,-1.86586174363,-1.7433713743500001,-1.3829063290099999,-1.12135271821,-0.273152466991,-0.9089650011570001,-1.6058480120700003,-0.7503434302259999,-1.24044547918,-0.890684996717,-0.541658138936,-0.434548680097,-0.979239436758,-1.92741405004,-2.0677398118,-0.30193926513700003,-1.32063544066,-1.89342294254,-1.16797539842,0.0290079207595,-1.6558941906,-1.64834548572,-0.165328477918,-0.887508635495,-2.0030533145700002,-1.12757797616,-0.20863155325399999,-1.9737125395099997,-1.64799676166,-1.09350198898,-1.31146562527,-1.18230626,-1.4884588957799998,-1.44997308591,-1.64879963581,-0.202950775381,-0.511835151652,-1.25528031807,-1.5878611533899998,-0.364363276259,-2.33819859081,-1.18949098419,-1.1687347153799998,-1.67759509966,-1.58178258194,-0.17443322478599999,-0.652379366512,-2.09629677042,-2.26752014393,-0.93638467506,-1.28424881231,-2.1358814588799997,-1.54829155197,-0.934371353443,-2.23460864417,-1.05375737662,-0.37089524457199996,-1.1338062548799999,-0.45632368330300005,-2.04856631768,-1.79029664025,-1.8351569077599998,-0.817687586052,-1.9257165742099998,-0.9861175587190001,-0.367247866179,-2.9658061189700002,-1.81620749383,-0.841211160816,-1.18148755698,-0.985698501526,0.0202819644094,-1.07390497717,-0.973780770712,-1.84059736165,-1.7689303828599998,-2.55327369999,-1.82007877631,-0.991443050125,-1.03054532446,-1.3178968640000002,0.13277878420199998,-0.295209135734,-0.5216343876380001,-1.90567677688,-2.99719495515,-0.702590600679,-0.659740415809,-1.1672047838500001,-0.588933357486,-0.180073640909,-0.772624495446,-1.3266886490899998,-0.9238300575030001,-1.27287956138,-0.9663356814700002,-1.7554765901400002,-1.35306728697,-2.6880528746,-1.84878895779,-1.20722098312,-1.35653051387,-2.3822000726,-2.9575627451899997,-0.630359072097,-2.64797127364,-1.14520573654,-0.330455814992,-2.0516485645800002,-1.50600228462,-1.89675188277,-0.663766912597,-1.62921984956,-1.7740509194799998,-2.3437657614,-1.15573718525,-1.4106527185799997,-0.57246062413,-0.8977548226600001,-2.44306472761,-1.6222696615099998,-0.008753337476790002,-1.5487570521,-0.526238656967,-0.410388741303,-1.72565706605,-0.306054148217,-0.418475622371,-0.5909668339190001,-1.3677912838799997,-1.02780991513,-2.20000018961,-0.660053221313,-2.20234297412,-1.0427860822,-2.3295831324400003,-0.300142392497,-0.24514049719300002,-1.9427459885099998,-0.46329840438600006,-1.52865582106,-0.9912806473810001,0.0965995086521,-2.19624483294,-2.5686401608400002,-1.11235246354,-0.268676475936,-0.693387639861,0.0169555253798,-1.9173391082900002,-2.32568675973,-1.46188938461,-2.99078246869,-2.50174539901,-1.4307974141799997,-0.900282824541,-0.5604997292939999,-1.4618268631,-0.90387396205,-0.220682369969,-1.9995485376700002,-1.87754708507,-1.21917263915,-1.37628594805,-1.62821618354,-0.254631197962]}},\"id\":\"a807f3ee-751e-4246-a343-75824e8a7611\",\"type\":\"ColumnDataSource\"},{\"attributes\":{\"overlay\":{\"id\":\"5246a502-6327-4dd9-a55f-875a2d93eee7\",\"type\":\"BoxAnnotation\"},\"plot\":{\"id\":\"9849810f-bc35-4dbc-aa6c-1f43435bfd03\",\"subtype\":\"Figure\",\"type\":\"Plot\"}},\"id\":\"9c06bc9f-c3f2-4851-bcbb-b4bb02f4fc38\",\"type\":\"BoxZoomTool\"}],\"root_ids\":[\"9849810f-bc35-4dbc-aa6c-1f43435bfd03\"]},\"title\":\"Bokeh Application\",\"version\":\"0.12.2\"}};\n",
       "            var render_items = [{\"docid\":\"5fa6331d-9e1e-4c39-9407-260eda808e51\",\"elementid\":\"e0ff0218-29ce-46bd-a89c-3c94a468b857\",\"modelid\":\"9849810f-bc35-4dbc-aa6c-1f43435bfd03\"}];\n",
       "            \n",
       "            Bokeh.embed.embed_items(docs_json, render_items);\n",
       "        });\n",
       "      },\n",
       "      function(Bokeh) {\n",
       "      }\n",
       "    ];\n",
       "  \n",
       "    function run_inline_js() {\n",
       "      \n",
       "      if ((window.Bokeh !== undefined) || (force === \"1\")) {\n",
       "        for (var i = 0; i < inline_js.length; i++) {\n",
       "          inline_js[i](window.Bokeh);\n",
       "        }if (force === \"1\") {\n",
       "          display_loaded();\n",
       "        }} else if (Date.now() < window._bokeh_timeout) {\n",
       "        setTimeout(run_inline_js, 100);\n",
       "      } else if (!window._bokeh_failed_load) {\n",
       "        console.log(\"Bokeh: BokehJS failed to load within specified timeout.\");\n",
       "        window._bokeh_failed_load = true;\n",
       "      } else if (!force) {\n",
       "        var cell = $(\"#e0ff0218-29ce-46bd-a89c-3c94a468b857\").parents('.cell').data().cell;\n",
       "        cell.output_area.append_execute_result(NB_LOAD_WARNING)\n",
       "      }\n",
       "  \n",
       "    }\n",
       "  \n",
       "    if (window._bokeh_is_loading === 0) {\n",
       "      console.log(\"Bokeh: BokehJS loaded, going straight to plotting\");\n",
       "      run_inline_js();\n",
       "    } else {\n",
       "      load_libs(js_urls, function() {\n",
       "        console.log(\"Bokeh: BokehJS plotting callback run at\", now());\n",
       "        run_inline_js();\n",
       "      });\n",
       "    }\n",
       "  }(this));\n",
       "</script>"
      ]
     },
     "metadata": {},
     "output_type": "display_data"
    }
   ],
   "source": [
    "tools = \"pan, wheel_zoom, box_zoom, box_select, save, reset\"\n",
    "title = 'Dambis spectroscopic vs GDR2 photometric metallicity of RR Lyr stars'\n",
    "\n",
    "fig = Figure(width=700, height=500, x_axis_label='Dambis Metallicity', y_axis_label='GDR2 Metallicity', title=title, tools=tools)\n",
    "fig.circle(subDambis['FeH'], subDambis['metallicity'])\n",
    "fig.line([-3, 0.5], [-3, 0.5], color=\"red\")\n",
    "show(fig)"
   ]
  },
  {
   "cell_type": "code",
   "execution_count": 10,
   "metadata": {
    "collapsed": false
   },
   "outputs": [
    {
     "name": "stdout",
     "output_type": "stream",
     "text": [
      "Slope:  0.816518239982\n",
      "Intercept:  -0.0682403116796\n"
     ]
    }
   ],
   "source": [
    "slope, intercept = np.polyfit(subDambis['FeH'], subDambis['metallicity'], 1)\n",
    "print(\"Slope: \", slope)\n",
    "print(\"Intercept: \",intercept)"
   ]
  },
  {
   "cell_type": "code",
   "execution_count": 11,
   "metadata": {
    "collapsed": false
   },
   "outputs": [
    {
     "name": "stdout",
     "output_type": "stream",
     "text": [
      "RANSAC Slope:  1.15984925322\n",
      "RANSAC Intercept:  0.0\n"
     ]
    }
   ],
   "source": [
    "X = np.ones([len(subDambis), 2])\n",
    "X[:,0] = subDambis['FeH']\n",
    "y = subDambis['metallicity']\n",
    "ransac = linear_model.RANSACRegressor()\n",
    "ransac.fit(X, y)\n",
    "slope, intercept = ransac.estimator_.coef_\n",
    "print(\"RANSAC Slope: \", slope)\n",
    "print(\"RANSAC Intercept: \", intercept)"
   ]
  },
  {
   "cell_type": "markdown",
   "metadata": {},
   "source": [
    "# Mean absolute G magnitude and uncertainty"
   ]
  },
  {
   "cell_type": "markdown",
   "metadata": {},
   "source": [
    "M_G-[Fe/H] relation and coefficients from Muraveva et al. (2018)"
   ]
  },
  {
   "cell_type": "code",
   "execution_count": 12,
   "metadata": {
    "collapsed": false
   },
   "outputs": [],
   "source": [
    "a = 0.32\n",
    "a_error = 0.04\n",
    "b = 1.11\n",
    "b_error = 0.06\n",
    "Cov_ab = 0.95*0.04*0.06\n",
    "\n",
    "Z = Dambis['FeH']\n",
    "abs_mag = a*Z + b"
   ]
  },
  {
   "cell_type": "markdown",
   "metadata": {},
   "source": [
    "Fit Gaussian to absolute magnitudes from Dambis sample"
   ]
  },
  {
   "cell_type": "code",
   "execution_count": 13,
   "metadata": {
    "collapsed": false
   },
   "outputs": [
    {
     "data": {
      "image/png": "[encoded data removed]",
      "text/plain": [
       "<Figure size 432x288 with 1 Axes>"
      ]
     },
     "metadata": {},
     "output_type": "display_data"
    }
   ],
   "source": [
    "def gauss(x,a,x0,sigma):\n",
    "    return a*np.exp(-(x-x0)**2/(2*sigma**2))/(sigma*np.sqrt(2*np.pi))\n",
    "\n",
    "bin = 30\n",
    "bins = np.linspace(min(abs_mag),max(abs_mag), bin+1)\n",
    "hist, edges = np.histogram(abs_mag, density=False, bins=bins)\n",
    "binscenters = np.array([(edges[i] + edges[i+1])/2 for i in range(len(edges)-1)])\n",
    "popt, pcov = curve_fit(gauss, xdata=binscenters, ydata=hist, p0=[max(hist), np.mean(abs_mag), np.std(abs_mag)])\n",
    "\n",
    "\n",
    "xspace = np.linspace(min(abs_mag), max(abs_mag), 100000)\n",
    "plt.bar(binscenters, hist, width=(edges[1]-edges[0]), color='navy')\n",
    "plt.plot(xspace, gauss(xspace, *popt), color='red', linewidth=2.5)\n",
    "plt.xlim(min(abs_mag),max(abs_mag))\n",
    "plt.xlabel('Absolute magnitude')\n",
    "plt.ylabel('Amount')\n",
    "plt.title('Histogram of $\\mathrm{M_G}$: bins=%d, mu=%.3f, sigma=%.3f' %(bin,popt[1],popt[2]))\n",
    "plt.grid(True)\n",
    "plt.show()\n"
   ]
  },
  {
   "cell_type": "code",
   "execution_count": 14,
   "metadata": {
    "collapsed": false
   },
   "outputs": [
    {
     "name": "stdout",
     "output_type": "stream",
     "text": [
      "0.625901501839 0.157333499401\n"
     ]
    }
   ],
   "source": [
    "M_G = popt[1]\n",
    "M_G_var = a**2*np.var(Z) + np.mean(Z**2)*a_error**2 + b_error**2 + 2*np.mean(Z)*Cov_ab\n",
    "print(M_G, np.sqrt(M_G_var))\n",
    "M_G_error = np.full(len(G_error),np.sqrt(M_G_var))"
   ]
  },
  {
   "cell_type": "markdown",
   "metadata": {},
   "source": [
    "# Extiction and uncertainty"
   ]
  },
  {
   "cell_type": "code",
   "execution_count": 15,
   "metadata": {
    "collapsed": false
   },
   "outputs": [],
   "source": [
    "A = 0.97883\n",
    "B = -0.14365\n",
    "C = 0.011077\n",
    "D = 0.034842\n",
    "E = -0.0041448\n",
    "\n",
    "def f(bp_rp,a_v):\n",
    "    return A + B*(bp_rp) + C*(bp_rp)**2 + D*a_v + E*a_v*(bp_rp)\n",
    "\n",
    "BP_RP = Gaia['phot_bp_mean_mag']-Gaia['phot_rp_mean_mag']\n",
    "BP_error = 2.5/(np.log(10)*Gaia['phot_bp_mean_flux_over_error'])\n",
    "RP_error = 2.5/(np.log(10)*Gaia['phot_rp_mean_flux_over_error'])\n",
    "BP_RP_error = np.sqrt(BP_error**2+RP_error**2)\n",
    "\n",
    "A_V = 2.742*Gaia['EBV_sfd']\n",
    "A_V_error = 2.742*0.16*abs(Gaia['EBV_sfd'])\n",
    "\n",
    "A_G = f(BP_RP,A_V)*A_V"
   ]
  },
  {
   "cell_type": "markdown",
   "metadata": {},
   "source": [
    "Monte Carlo to find uncertainty of A_G"
   ]
  },
  {
   "cell_type": "code",
   "execution_count": 18,
   "metadata": {
    "collapsed": false,
    "scrolled": false
   },
   "outputs": [
    {
     "data": {
      "text/plain": [
       "'\\nmean = []\\nA_G_error = []\\nw = csv.writer(open(\"A_G_error.csv\",\"w\"))\\nfor i in range(len(A_G)):\\n    print(i)\\n    if not (i==121573 or i==166300): #no BP_RP for these rows\\n        MCE=[]\\n        for j in range(1000):\\n            MCBP_RP = BP_RP[i] + np.random.normal(0,1)*BP_RP_error[i]\\n            MCA_V = A_V[i] + np.random.normal(0,1)*A_V_error[i]\\n            MCA_G = f(MCBP_RP,MCA_V)*MCA_V\\n            MCE.append(MCA_G)\\n        mean.append(np.mean(MCE))\\n        A_G_error.append(np.std(MCE))\\n        w.writerow([A_G[i],np.mean(MCE),np.std(MCE)])\\n'"
      ]
     },
     "execution_count": 18,
     "metadata": {},
     "output_type": "execute_result"
    }
   ],
   "source": [
    "'''\n",
    "mean = []\n",
    "A_G_error = []\n",
    "w = csv.writer(open(\"A_G_error.csv\",\"w\"))\n",
    "for i in range(len(A_G)):\n",
    "    print(i)\n",
    "    if not (i==121573 or i==166300): #no BP_RP for these rows\n",
    "        MCE=[]\n",
    "        for j in range(1000):\n",
    "            MCBP_RP = BP_RP[i] + np.random.normal(0,1)*BP_RP_error[i]\n",
    "            MCA_V = A_V[i] + np.random.normal(0,1)*A_V_error[i]\n",
    "            MCA_G = f(MCBP_RP,MCA_V)*MCA_V\n",
    "            MCE.append(MCA_G)\n",
    "        mean.append(np.mean(MCE))\n",
    "        A_G_error.append(np.std(MCE))\n",
    "        w.writerow([A_G[i],np.mean(MCE),np.std(MCE)])\n",
    "'''"
   ]
  },
  {
   "cell_type": "markdown",
   "metadata": {},
   "source": [
    "# Distance"
   ]
  },
  {
   "cell_type": "code",
   "execution_count": 17,
   "metadata": {
    "collapsed": false
   },
   "outputs": [
    {
     "data": {
      "text/html": [
       "\n",
       "\n",
       "    <div class=\"bk-root\">\n",
       "        <div class=\"plotdiv\" id=\"3f7c247d-d00f-4b65-83ad-4bce9c15b520\"></div>\n",
       "    </div>\n",
       "<script type=\"text/javascript\">\n",
       "  \n",
       "  (function(global) {\n",
       "    function now() {\n",
       "      return new Date();\n",
       "    }\n",
       "  \n",
       "    var force = \"\";\n",
       "  \n",
       "    if (typeof (window._bokeh_onload_callbacks) === \"undefined\" || force !== \"\") {\n",
       "      window._bokeh_onload_callbacks = [];\n",
       "      window._bokeh_is_loading = undefined;\n",
       "    }\n",
       "  \n",
       "  \n",
       "    \n",
       "    if (typeof (window._bokeh_timeout) === \"undefined\" || force !== \"\") {\n",
       "      window._bokeh_timeout = Date.now() + 0;\n",
       "      window._bokeh_failed_load = false;\n",
       "    }\n",
       "  \n",
       "    var NB_LOAD_WARNING = {'data': {'text/html':\n",
       "       \"<div style='background-color: #fdd'>\\n\"+\n",
       "       \"<p>\\n\"+\n",
       "       \"BokehJS does not appear to have successfully loaded. If loading BokehJS from CDN, this \\n\"+\n",
       "       \"may be due to a slow or bad network connection. Possible fixes:\\n\"+\n",
       "       \"</p>\\n\"+\n",
       "       \"<ul>\\n\"+\n",
       "       \"<li>re-rerun `output_notebook()` to attempt to load from CDN again, or</li>\\n\"+\n",
       "       \"<li>use INLINE resources instead, as so:</li>\\n\"+\n",
       "       \"</ul>\\n\"+\n",
       "       \"<code>\\n\"+\n",
       "       \"from bokeh.resources import INLINE\\n\"+\n",
       "       \"output_notebook(resources=INLINE)\\n\"+\n",
       "       \"</code>\\n\"+\n",
       "       \"</div>\"}};\n",
       "  \n",
       "    function display_loaded() {\n",
       "      if (window.Bokeh !== undefined) {\n",
       "        Bokeh.$(\"#3f7c247d-d00f-4b65-83ad-4bce9c15b520\").text(\"BokehJS successfully loaded.\");\n",
       "      } else if (Date.now() < window._bokeh_timeout) {\n",
       "        setTimeout(display_loaded, 100)\n",
       "      }\n",
       "    }\n",
       "  \n",
       "    function run_callbacks() {\n",
       "      window._bokeh_onload_callbacks.forEach(function(callback) { callback() });\n",
       "      delete window._bokeh_onload_callbacks\n",
       "      console.info(\"Bokeh: all callbacks have finished\");\n",
       "    }\n",
       "  \n",
       "    function load_libs(js_urls, callback) {\n",
       "      window._bokeh_onload_callbacks.push(callback);\n",
       "      if (window._bokeh_is_loading > 0) {\n",
       "        console.log(\"Bokeh: BokehJS is being loaded, scheduling callback at\", now());\n",
       "        return null;\n",
       "      }\n",
       "      if (js_urls == null || js_urls.length === 0) {\n",
       "        run_callbacks();\n",
       "        return null;\n",
       "      }\n",
       "      console.log(\"Bokeh: BokehJS not loaded, scheduling load and callback at\", now());\n",
       "      window._bokeh_is_loading = js_urls.length;\n",
       "      for (var i = 0; i < js_urls.length; i++) {\n",
       "        var url = js_urls[i];\n",
       "        var s = document.createElement('script');\n",
       "        s.src = url;\n",
       "        s.async = false;\n",
       "        s.onreadystatechange = s.onload = function() {\n",
       "          window._bokeh_is_loading--;\n",
       "          if (window._bokeh_is_loading === 0) {\n",
       "            console.log(\"Bokeh: all BokehJS libraries loaded\");\n",
       "            run_callbacks()\n",
       "          }\n",
       "        };\n",
       "        s.onerror = function() {\n",
       "          console.warn(\"failed to load library \" + url);\n",
       "        };\n",
       "        console.log(\"Bokeh: injecting script tag for BokehJS library: \", url);\n",
       "        document.getElementsByTagName(\"head\")[0].appendChild(s);\n",
       "      }\n",
       "    };var element = document.getElementById(\"3f7c247d-d00f-4b65-83ad-4bce9c15b520\");\n",
       "    if (element == null) {\n",
       "      console.log(\"Bokeh: ERROR: autoload.js configured with elementid '3f7c247d-d00f-4b65-83ad-4bce9c15b520' but no matching script tag was found. \")\n",
       "      return false;\n",
       "    }\n",
       "  \n",
       "    var js_urls = [];\n",
       "  \n",
       "    var inline_js = [\n",
       "      function(Bokeh) {\n",
       "        Bokeh.$(function() {\n",
       "            var docs_json = {\"f0151352-0138-42e8-9712-aaef030061f7\":{\"roots\":{\"references\":[{\"attributes\":{\"axis_label\":\"Distance (kpc)\",\"axis_label_text_font_size\":{\"value\":\"13pt\"},\"formatter\":{\"id\":\"bae20dc9-fc8b-4b8c-acf4-261ad165fda1\",\"type\":\"BasicTickFormatter\"},\"major_label_text_font_size\":{\"value\":\"13pt\"},\"plot\":{\"id\":\"92e62375-44b1-4db1-9a33-6fd0fbadd464\",\"subtype\":\"Figure\",\"type\":\"Plot\"},\"ticker\":{\"id\":\"ad0a8aa1-2521-4d84-8d00-84b9c07013c8\",\"type\":\"BasicTicker\"}},\"id\":\"bd234f79-82b6-4572-89b9-e40d3915c4cd\",\"type\":\"LinearAxis\"},{\"attributes\":{\"plot\":null,\"text\":\"RR Lyrae distances\",\"text_font_size\":{\"value\":\"13pt\"}},\"id\":\"ef4a3e80-6992-4cd5-a878-71a268f256e1\",\"type\":\"Title\"},{\"attributes\":{\"data_source\":{\"id\":\"b816bcd6-7da7-443d-937a-e72828debd83\",\"type\":\"ColumnDataSource\"},\"glyph\":{\"id\":\"5fce2dbc-4b33-41f4-8a62-fea93b0c926a\",\"type\":\"Quad\"},\"hover_glyph\":null,\"nonselection_glyph\":{\"id\":\"6f9a667a-8ecc-4330-a802-415d99223db8\",\"type\":\"Quad\"},\"selection_glyph\":null},\"id\":\"9dc73c7a-06ea-4bb3-87a9-be06fe91391b\",\"type\":\"GlyphRenderer\"},{\"attributes\":{\"overlay\":{\"id\":\"e5a975b2-07e9-4863-956f-494d51e80a02\",\"type\":\"BoxAnnotation\"},\"plot\":{\"id\":\"92e62375-44b1-4db1-9a33-6fd0fbadd464\",\"subtype\":\"Figure\",\"type\":\"Plot\"}},\"id\":\"a2c099b2-26cc-4cb8-87cb-7c707bb4c90a\",\"type\":\"BoxZoomTool\"},{\"attributes\":{\"plot\":{\"id\":\"92e62375-44b1-4db1-9a33-6fd0fbadd464\",\"subtype\":\"Figure\",\"type\":\"Plot\"}},\"id\":\"ad4d22a7-e480-4465-8386-53196bfd6bba\",\"type\":\"SaveTool\"},{\"attributes\":{\"bottom\":{\"value\":0},\"fill_alpha\":{\"value\":0.1},\"fill_color\":{\"value\":\"#1f77b4\"},\"left\":{\"field\":\"left\"},\"line_alpha\":{\"value\":0.1},\"line_color\":{\"value\":\"#1f77b4\"},\"right\":{\"field\":\"right\"},\"top\":{\"field\":\"top\"}},\"id\":\"6f9a667a-8ecc-4330-a802-415d99223db8\",\"type\":\"Quad\"},{\"attributes\":{},\"id\":\"bae20dc9-fc8b-4b8c-acf4-261ad165fda1\",\"type\":\"BasicTickFormatter\"},{\"attributes\":{\"axis_label\":\"Count\",\"axis_label_text_font_size\":{\"value\":\"13pt\"},\"formatter\":{\"id\":\"cd4d9b4f-dc91-4946-9bea-7530bdb90173\",\"type\":\"BasicTickFormatter\"},\"major_label_text_font_size\":{\"value\":\"13pt\"},\"plot\":{\"id\":\"92e62375-44b1-4db1-9a33-6fd0fbadd464\",\"subtype\":\"Figure\",\"type\":\"Plot\"},\"ticker\":{\"id\":\"af38a61b-a020-48b5-9de9-995e19432b8b\",\"type\":\"BasicTicker\"}},\"id\":\"49a9cf99-97fa-4d1e-bb9f-953bc6595b10\",\"type\":\"LinearAxis\"},{\"attributes\":{},\"id\":\"af38a61b-a020-48b5-9de9-995e19432b8b\",\"type\":\"BasicTicker\"},{\"attributes\":{\"plot\":{\"id\":\"92e62375-44b1-4db1-9a33-6fd0fbadd464\",\"subtype\":\"Figure\",\"type\":\"Plot\"}},\"id\":\"99c695d5-7025-4d87-8c18-1e1a6b556f1c\",\"type\":\"ResetTool\"},{\"attributes\":{\"callback\":null,\"column_names\":[\"top\",\"left\",\"right\"],\"data\":{\"left\":[4.004940780692092e-94,1.1637220950009017,2.3274441900018035,3.491166285002705,4.654888380003607,5.818610475004508,6.98233257000541,8.146054665006313,9.309776760007214,10.473498855008115,11.637220950009016,12.80094304500992,13.96466514001082,15.128387235011722,16.292109330012625,17.455831425013525,18.619553520014428,19.78327561501533,20.94699771001623,22.110719805017133,23.274441900018033,24.438163995018936,25.60188609001984,26.76560818502074,27.92933028002164,29.093052375022545,30.256774470023444,31.420496565024347,32.58421866002525,33.74794075502615,34.91166285002705,36.075384945027956,37.239107040028856,38.402829135029755,39.56655123003066,40.73027332503156,41.89399542003246,43.05771751503337,44.22143961003427,45.385161705035166,46.548883800036066,47.71260589503697,48.87632799003787,50.04005008503877,51.20377218003968,52.36749427504058,53.53121637004148,54.694938465042384,55.85866056004328,57.02238265504418,58.18610475004509,59.34982684504599,60.51354894004689,61.677271035047795,62.840993130048695,64.0047152250496,65.1684373200505,66.3321594150514,67.4958815100523,68.6596036050532,69.8233257000541,70.987047795055,72.15076989005591,73.3144919850568,74.47821408005771,75.64193617505862,76.80565827005951,77.96938036506042,79.13310246006132,80.29682455506222,81.46054665006312,82.62426874506403,83.78799084006492,84.95171293506583,86.11543503006673,87.27915712506763,88.44287922006853,89.60660131506944,90.77032341007033,91.93404550507124,93.09776760007213,94.26148969507304,95.42521179007394,96.58893388507484,97.75265598007574,98.91637807507665,100.08010017007754,101.24382226507845,102.40754436007936,103.57126645508025,104.73498855008116,105.89871064508206,107.06243274008295,108.22615483508386,109.38987693008477,110.55359902508566,111.71732112008657,112.88104321508747,114.04476531008837,115.20848740508927],\"right\":[1.1637220950009017,2.3274441900018035,3.491166285002705,4.654888380003607,5.818610475004508,6.98233257000541,8.146054665006313,9.309776760007214,10.473498855008115,11.637220950009016,12.80094304500992,13.96466514001082,15.128387235011722,16.292109330012625,17.455831425013525,18.619553520014428,19.78327561501533,20.94699771001623,22.110719805017133,23.274441900018033,24.438163995018936,25.60188609001984,26.76560818502074,27.92933028002164,29.093052375022545,30.256774470023444,31.420496565024347,32.58421866002525,33.74794075502615,34.91166285002705,36.075384945027956,37.239107040028856,38.402829135029755,39.56655123003066,40.73027332503156,41.89399542003246,43.05771751503337,44.22143961003427,45.385161705035166,46.548883800036066,47.71260589503697,48.87632799003787,50.04005008503877,51.20377218003968,52.36749427504058,53.53121637004148,54.694938465042384,55.85866056004328,57.02238265504418,58.18610475004509,59.34982684504599,60.51354894004689,61.677271035047795,62.840993130048695,64.0047152250496,65.1684373200505,66.3321594150514,67.4958815100523,68.6596036050532,69.8233257000541,70.987047795055,72.15076989005591,73.3144919850568,74.47821408005771,75.64193617505862,76.80565827005951,77.96938036506042,79.13310246006132,80.29682455506222,81.46054665006312,82.62426874506403,83.78799084006492,84.95171293506583,86.11543503006673,87.27915712506763,88.44287922006853,89.60660131506944,90.77032341007033,91.93404550507124,93.09776760007213,94.26148969507304,95.42521179007394,96.58893388507484,97.75265598007574,98.91637807507665,100.08010017007754,101.24382226507845,102.40754436007936,103.57126645508025,104.73498855008116,105.89871064508206,107.06243274008295,108.22615483508386,109.38987693008477,110.55359902508566,111.71732112008657,112.88104321508747,114.04476531008837,115.20848740508927,116.37220950009016],\"top\":[648,1107,2091,3701,6198,9905,13193,12671,10235,7636,6310,5493,4847,4491,4076,3815,3538,3302,2976,2854,2818,2960,3332,3192,2532,1939,1653,1455,1339,1274,1241,1302,1250,1327,1436,1543,1758,1977,2316,2713,2969,2974,2784,2427,1975,1528,1234,972,860,883,861,797,699,558,532,380,313,271,222,198,168,167,179,185,217,205,218,194,239,173,143,104,109,95,89,77,69,65,73,64,50,52,50,45,34,33,39,20,25,18,21,18,16,7,8,1,5,1,3,2]}},\"id\":\"b816bcd6-7da7-443d-937a-e72828debd83\",\"type\":\"ColumnDataSource\"},{\"attributes\":{\"plot\":{\"id\":\"92e62375-44b1-4db1-9a33-6fd0fbadd464\",\"subtype\":\"Figure\",\"type\":\"Plot\"},\"ticker\":{\"id\":\"ad0a8aa1-2521-4d84-8d00-84b9c07013c8\",\"type\":\"BasicTicker\"}},\"id\":\"f3c5e7e6-b0dc-4116-8bea-b1e27346a76a\",\"type\":\"Grid\"},{\"attributes\":{\"plot\":{\"id\":\"92e62375-44b1-4db1-9a33-6fd0fbadd464\",\"subtype\":\"Figure\",\"type\":\"Plot\"}},\"id\":\"dee1e2a9-79a1-447b-8fb9-8edbf261b8df\",\"type\":\"WheelZoomTool\"},{\"attributes\":{\"active_drag\":\"auto\",\"active_scroll\":\"auto\",\"active_tap\":\"auto\",\"tools\":[{\"id\":\"5cbcb783-6d8c-49e4-9ea1-f73e7c33a73c\",\"type\":\"PanTool\"},{\"id\":\"dee1e2a9-79a1-447b-8fb9-8edbf261b8df\",\"type\":\"WheelZoomTool\"},{\"id\":\"a2c099b2-26cc-4cb8-87cb-7c707bb4c90a\",\"type\":\"BoxZoomTool\"},{\"id\":\"d5e05248-3c49-4eb6-93a2-d764dce06421\",\"type\":\"BoxSelectTool\"},{\"id\":\"ad4d22a7-e480-4465-8386-53196bfd6bba\",\"type\":\"SaveTool\"},{\"id\":\"99c695d5-7025-4d87-8c18-1e1a6b556f1c\",\"type\":\"ResetTool\"}]},\"id\":\"b06d60d4-9850-4db0-b7b6-824454ba2a2c\",\"type\":\"Toolbar\"},{\"attributes\":{},\"id\":\"ad0a8aa1-2521-4d84-8d00-84b9c07013c8\",\"type\":\"BasicTicker\"},{\"attributes\":{\"callback\":null,\"overlay\":{\"id\":\"fbd45466-79c3-4f1a-a7d6-6b5dfc67dd2d\",\"type\":\"BoxAnnotation\"},\"plot\":{\"id\":\"92e62375-44b1-4db1-9a33-6fd0fbadd464\",\"subtype\":\"Figure\",\"type\":\"Plot\"},\"renderers\":[{\"id\":\"9dc73c7a-06ea-4bb3-87a9-be06fe91391b\",\"type\":\"GlyphRenderer\"}]},\"id\":\"d5e05248-3c49-4eb6-93a2-d764dce06421\",\"type\":\"BoxSelectTool\"},{\"attributes\":{\"bottom\":{\"value\":0},\"fill_color\":{\"value\":\"#1f77b4\"},\"left\":{\"field\":\"left\"},\"right\":{\"field\":\"right\"},\"top\":{\"field\":\"top\"}},\"id\":\"5fce2dbc-4b33-41f4-8a62-fea93b0c926a\",\"type\":\"Quad\"},{\"attributes\":{},\"id\":\"5925693d-a4aa-4826-af23-f608cc07eea1\",\"type\":\"ToolEvents\"},{\"attributes\":{\"dimension\":1,\"plot\":{\"id\":\"92e62375-44b1-4db1-9a33-6fd0fbadd464\",\"subtype\":\"Figure\",\"type\":\"Plot\"},\"ticker\":{\"id\":\"af38a61b-a020-48b5-9de9-995e19432b8b\",\"type\":\"BasicTicker\"}},\"id\":\"a12eaa3d-1f6d-4585-a055-4619e0693e8c\",\"type\":\"Grid\"},{\"attributes\":{\"below\":[{\"id\":\"bd234f79-82b6-4572-89b9-e40d3915c4cd\",\"type\":\"LinearAxis\"}],\"left\":[{\"id\":\"49a9cf99-97fa-4d1e-bb9f-953bc6595b10\",\"type\":\"LinearAxis\"}],\"plot_height\":500,\"plot_width\":700,\"renderers\":[{\"id\":\"bd234f79-82b6-4572-89b9-e40d3915c4cd\",\"type\":\"LinearAxis\"},{\"id\":\"f3c5e7e6-b0dc-4116-8bea-b1e27346a76a\",\"type\":\"Grid\"},{\"id\":\"49a9cf99-97fa-4d1e-bb9f-953bc6595b10\",\"type\":\"LinearAxis\"},{\"id\":\"a12eaa3d-1f6d-4585-a055-4619e0693e8c\",\"type\":\"Grid\"},{\"id\":\"e5a975b2-07e9-4863-956f-494d51e80a02\",\"type\":\"BoxAnnotation\"},{\"id\":\"fbd45466-79c3-4f1a-a7d6-6b5dfc67dd2d\",\"type\":\"BoxAnnotation\"},{\"id\":\"9dc73c7a-06ea-4bb3-87a9-be06fe91391b\",\"type\":\"GlyphRenderer\"}],\"title\":{\"id\":\"ef4a3e80-6992-4cd5-a878-71a268f256e1\",\"type\":\"Title\"},\"tool_events\":{\"id\":\"5925693d-a4aa-4826-af23-f608cc07eea1\",\"type\":\"ToolEvents\"},\"toolbar\":{\"id\":\"b06d60d4-9850-4db0-b7b6-824454ba2a2c\",\"type\":\"Toolbar\"},\"x_range\":{\"id\":\"15ad3430-eab0-4dab-99b4-46bbbd6160fc\",\"type\":\"DataRange1d\"},\"y_range\":{\"id\":\"ce402dc5-c035-4c6b-903b-00fb5c7546d5\",\"type\":\"DataRange1d\"}},\"id\":\"92e62375-44b1-4db1-9a33-6fd0fbadd464\",\"subtype\":\"Figure\",\"type\":\"Plot\"},{\"attributes\":{},\"id\":\"cd4d9b4f-dc91-4946-9bea-7530bdb90173\",\"type\":\"BasicTickFormatter\"},{\"attributes\":{\"bottom_units\":\"screen\",\"fill_alpha\":{\"value\":0.5},\"fill_color\":{\"value\":\"lightgrey\"},\"left_units\":\"screen\",\"level\":\"overlay\",\"line_alpha\":{\"value\":1.0},\"line_color\":{\"value\":\"black\"},\"line_dash\":[4,4],\"line_width\":{\"value\":2},\"plot\":null,\"render_mode\":\"css\",\"right_units\":\"screen\",\"top_units\":\"screen\"},\"id\":\"fbd45466-79c3-4f1a-a7d6-6b5dfc67dd2d\",\"type\":\"BoxAnnotation\"},{\"attributes\":{\"callback\":null},\"id\":\"ce402dc5-c035-4c6b-903b-00fb5c7546d5\",\"type\":\"DataRange1d\"},{\"attributes\":{\"bottom_units\":\"screen\",\"fill_alpha\":{\"value\":0.5},\"fill_color\":{\"value\":\"lightgrey\"},\"left_units\":\"screen\",\"level\":\"overlay\",\"line_alpha\":{\"value\":1.0},\"line_color\":{\"value\":\"black\"},\"line_dash\":[4,4],\"line_width\":{\"value\":2},\"plot\":null,\"render_mode\":\"css\",\"right_units\":\"screen\",\"top_units\":\"screen\"},\"id\":\"e5a975b2-07e9-4863-956f-494d51e80a02\",\"type\":\"BoxAnnotation\"},{\"attributes\":{\"plot\":{\"id\":\"92e62375-44b1-4db1-9a33-6fd0fbadd464\",\"subtype\":\"Figure\",\"type\":\"Plot\"}},\"id\":\"5cbcb783-6d8c-49e4-9ea1-f73e7c33a73c\",\"type\":\"PanTool\"},{\"attributes\":{\"callback\":null},\"id\":\"15ad3430-eab0-4dab-99b4-46bbbd6160fc\",\"type\":\"DataRange1d\"}],\"root_ids\":[\"92e62375-44b1-4db1-9a33-6fd0fbadd464\"]},\"title\":\"Bokeh Application\",\"version\":\"0.12.2\"}};\n",
       "            var render_items = [{\"docid\":\"f0151352-0138-42e8-9712-aaef030061f7\",\"elementid\":\"3f7c247d-d00f-4b65-83ad-4bce9c15b520\",\"modelid\":\"92e62375-44b1-4db1-9a33-6fd0fbadd464\"}];\n",
       "            \n",
       "            Bokeh.embed.embed_items(docs_json, render_items);\n",
       "        });\n",
       "      },\n",
       "      function(Bokeh) {\n",
       "      }\n",
       "    ];\n",
       "  \n",
       "    function run_inline_js() {\n",
       "      \n",
       "      if ((window.Bokeh !== undefined) || (force === \"1\")) {\n",
       "        for (var i = 0; i < inline_js.length; i++) {\n",
       "          inline_js[i](window.Bokeh);\n",
       "        }if (force === \"1\") {\n",
       "          display_loaded();\n",
       "        }} else if (Date.now() < window._bokeh_timeout) {\n",
       "        setTimeout(run_inline_js, 100);\n",
       "      } else if (!window._bokeh_failed_load) {\n",
       "        console.log(\"Bokeh: BokehJS failed to load within specified timeout.\");\n",
       "        window._bokeh_failed_load = true;\n",
       "      } else if (!force) {\n",
       "        var cell = $(\"#3f7c247d-d00f-4b65-83ad-4bce9c15b520\").parents('.cell').data().cell;\n",
       "        cell.output_area.append_execute_result(NB_LOAD_WARNING)\n",
       "      }\n",
       "  \n",
       "    }\n",
       "  \n",
       "    if (window._bokeh_is_loading === 0) {\n",
       "      console.log(\"Bokeh: BokehJS loaded, going straight to plotting\");\n",
       "      run_inline_js();\n",
       "    } else {\n",
       "      load_libs(js_urls, function() {\n",
       "        console.log(\"Bokeh: BokehJS plotting callback run at\", now());\n",
       "        run_inline_js();\n",
       "      });\n",
       "    }\n",
       "  }(this));\n",
       "</script>"
      ]
     },
     "metadata": {},
     "output_type": "display_data"
    }
   ],
   "source": [
    "d = 10**((G-A_G-M_G+5)/5)*10**(-3)\n",
    "\n",
    "hist, edges = np.histogram(d, density=False, bins=100)\n",
    "tools = \"pan, wheel_zoom, box_zoom, box_select, save, reset\"\n",
    "title = 'RR Lyrae distances'\n",
    "\n",
    "fig = Figure(width=700, height=500, x_axis_label='Distance (kpc)', y_axis_label='Count', title=title, tools=tools)\n",
    "fig.quad(top=hist, bottom=0, left=edges[:-1], right=edges[1:], line_color='black')\n",
    "show(fig)"
   ]
  },
  {
   "cell_type": "code",
   "execution_count": 19,
   "metadata": {
    "collapsed": false,
    "scrolled": true
   },
   "outputs": [
    {
     "data": {
      "text/html": [
       "\n",
       "\n",
       "    <div class=\"bk-root\">\n",
       "        <div class=\"plotdiv\" id=\"8b2375d7-0fdd-4df8-b2ef-10d5562d803b\"></div>\n",
       "    </div>\n",
       "<script type=\"text/javascript\">\n",
       "  \n",
       "  (function(global) {\n",
       "    function now() {\n",
       "      return new Date();\n",
       "    }\n",
       "  \n",
       "    var force = \"\";\n",
       "  \n",
       "    if (typeof (window._bokeh_onload_callbacks) === \"undefined\" || force !== \"\") {\n",
       "      window._bokeh_onload_callbacks = [];\n",
       "      window._bokeh_is_loading = undefined;\n",
       "    }\n",
       "  \n",
       "  \n",
       "    \n",
       "    if (typeof (window._bokeh_timeout) === \"undefined\" || force !== \"\") {\n",
       "      window._bokeh_timeout = Date.now() + 0;\n",
       "      window._bokeh_failed_load = false;\n",
       "    }\n",
       "  \n",
       "    var NB_LOAD_WARNING = {'data': {'text/html':\n",
       "       \"<div style='background-color: #fdd'>\\n\"+\n",
       "       \"<p>\\n\"+\n",
       "       \"BokehJS does not appear to have successfully loaded. If loading BokehJS from CDN, this \\n\"+\n",
       "       \"may be due to a slow or bad network connection. Possible fixes:\\n\"+\n",
       "       \"</p>\\n\"+\n",
       "       \"<ul>\\n\"+\n",
       "       \"<li>re-rerun `output_notebook()` to attempt to load from CDN again, or</li>\\n\"+\n",
       "       \"<li>use INLINE resources instead, as so:</li>\\n\"+\n",
       "       \"</ul>\\n\"+\n",
       "       \"<code>\\n\"+\n",
       "       \"from bokeh.resources import INLINE\\n\"+\n",
       "       \"output_notebook(resources=INLINE)\\n\"+\n",
       "       \"</code>\\n\"+\n",
       "       \"</div>\"}};\n",
       "  \n",
       "    function display_loaded() {\n",
       "      if (window.Bokeh !== undefined) {\n",
       "        Bokeh.$(\"#8b2375d7-0fdd-4df8-b2ef-10d5562d803b\").text(\"BokehJS successfully loaded.\");\n",
       "      } else if (Date.now() < window._bokeh_timeout) {\n",
       "        setTimeout(display_loaded, 100)\n",
       "      }\n",
       "    }\n",
       "  \n",
       "    function run_callbacks() {\n",
       "      window._bokeh_onload_callbacks.forEach(function(callback) { callback() });\n",
       "      delete window._bokeh_onload_callbacks\n",
       "      console.info(\"Bokeh: all callbacks have finished\");\n",
       "    }\n",
       "  \n",
       "    function load_libs(js_urls, callback) {\n",
       "      window._bokeh_onload_callbacks.push(callback);\n",
       "      if (window._bokeh_is_loading > 0) {\n",
       "        console.log(\"Bokeh: BokehJS is being loaded, scheduling callback at\", now());\n",
       "        return null;\n",
       "      }\n",
       "      if (js_urls == null || js_urls.length === 0) {\n",
       "        run_callbacks();\n",
       "        return null;\n",
       "      }\n",
       "      console.log(\"Bokeh: BokehJS not loaded, scheduling load and callback at\", now());\n",
       "      window._bokeh_is_loading = js_urls.length;\n",
       "      for (var i = 0; i < js_urls.length; i++) {\n",
       "        var url = js_urls[i];\n",
       "        var s = document.createElement('script');\n",
       "        s.src = url;\n",
       "        s.async = false;\n",
       "        s.onreadystatechange = s.onload = function() {\n",
       "          window._bokeh_is_loading--;\n",
       "          if (window._bokeh_is_loading === 0) {\n",
       "            console.log(\"Bokeh: all BokehJS libraries loaded\");\n",
       "            run_callbacks()\n",
       "          }\n",
       "        };\n",
       "        s.onerror = function() {\n",
       "          console.warn(\"failed to load library \" + url);\n",
       "        };\n",
       "        console.log(\"Bokeh: injecting script tag for BokehJS library: \", url);\n",
       "        document.getElementsByTagName(\"head\")[0].appendChild(s);\n",
       "      }\n",
       "    };var element = document.getElementById(\"8b2375d7-0fdd-4df8-b2ef-10d5562d803b\");\n",
       "    if (element == null) {\n",
       "      console.log(\"Bokeh: ERROR: autoload.js configured with elementid '8b2375d7-0fdd-4df8-b2ef-10d5562d803b' but no matching script tag was found. \")\n",
       "      return false;\n",
       "    }\n",
       "  \n",
       "    var js_urls = [];\n",
       "  \n",
       "    var inline_js = [\n",
       "      function(Bokeh) {\n",
       "        Bokeh.$(function() {\n",
       "            var docs_json = {\"50a2fb87-61f0-4042-ad81-d7c31c36a2da\":{\"roots\":{\"references\":[{\"attributes\":{\"plot\":{\"id\":\"b0044c49-58a0-46f1-a01e-b48f992f18ef\",\"subtype\":\"Figure\",\"type\":\"Plot\"}},\"id\":\"e4174a06-f28a-4d4e-aec7-406ccb9c75db\",\"type\":\"WheelZoomTool\"},{\"attributes\":{\"bottom_units\":\"screen\",\"fill_alpha\":{\"value\":0.5},\"fill_color\":{\"value\":\"lightgrey\"},\"left_units\":\"screen\",\"level\":\"overlay\",\"line_alpha\":{\"value\":1.0},\"line_color\":{\"value\":\"black\"},\"line_dash\":[4,4],\"line_width\":{\"value\":2},\"plot\":null,\"render_mode\":\"css\",\"right_units\":\"screen\",\"top_units\":\"screen\"},\"id\":\"48d4a303-b4ce-42b6-aaa8-084934b22bba\",\"type\":\"BoxAnnotation\"},{\"attributes\":{\"callback\":null,\"overlay\":{\"id\":\"d2050d6e-cb89-493b-8af8-a75e868547b4\",\"type\":\"BoxAnnotation\"},\"plot\":{\"id\":\"b0044c49-58a0-46f1-a01e-b48f992f18ef\",\"subtype\":\"Figure\",\"type\":\"Plot\"},\"renderers\":[{\"id\":\"98f6a7ff-fb13-48e3-bc84-62e790ba8ab3\",\"type\":\"GlyphRenderer\"}]},\"id\":\"2712f5c7-d96f-42f8-8744-db6a44cf78eb\",\"type\":\"BoxSelectTool\"},{\"attributes\":{},\"id\":\"42917d7d-81d0-4fb6-9100-9bb68f2c668c\",\"type\":\"BasicTickFormatter\"},{\"attributes\":{},\"id\":\"278d3c0c-4a52-458b-b7e6-f556c8d58279\",\"type\":\"ToolEvents\"},{\"attributes\":{\"bottom\":{\"value\":0},\"fill_alpha\":{\"value\":0.1},\"fill_color\":{\"value\":\"#1f77b4\"},\"left\":{\"field\":\"left\"},\"line_alpha\":{\"value\":0.1},\"line_color\":{\"value\":\"#1f77b4\"},\"right\":{\"field\":\"right\"},\"top\":{\"field\":\"top\"}},\"id\":\"ee54c236-0727-439d-a170-b7dea0d203ef\",\"type\":\"Quad\"},{\"attributes\":{\"plot\":null,\"text\":\"RR Lyrae distance uncertainties\",\"text_font_size\":{\"value\":\"13pt\"}},\"id\":\"ce1f7698-ec08-475f-8ba5-e6dda8b4aba7\",\"type\":\"Title\"},{\"attributes\":{\"active_drag\":\"auto\",\"active_scroll\":\"auto\",\"active_tap\":\"auto\",\"tools\":[{\"id\":\"fc9740d4-8a92-4977-a612-c52ace268855\",\"type\":\"PanTool\"},{\"id\":\"e4174a06-f28a-4d4e-aec7-406ccb9c75db\",\"type\":\"WheelZoomTool\"},{\"id\":\"95db29c5-0018-4cf8-b780-bd098b07a0ca\",\"type\":\"BoxZoomTool\"},{\"id\":\"2712f5c7-d96f-42f8-8744-db6a44cf78eb\",\"type\":\"BoxSelectTool\"},{\"id\":\"412b2edf-b26b-4846-ad3a-b0a7df5243b1\",\"type\":\"SaveTool\"},{\"id\":\"eff7edda-5b50-4ac2-aa48-e2ee29568fc3\",\"type\":\"ResetTool\"}]},\"id\":\"5dbb3221-9df9-4e37-933a-2f8a37b73d5a\",\"type\":\"Toolbar\"},{\"attributes\":{},\"id\":\"399a79b3-07b1-47fc-bb69-0ad30ce30235\",\"type\":\"BasicTickFormatter\"},{\"attributes\":{\"below\":[{\"id\":\"1127572e-8f2f-4e6a-b1fa-25e0eb378861\",\"type\":\"LinearAxis\"}],\"left\":[{\"id\":\"bb055a58-1e49-425d-acbd-1b04aa7e2e55\",\"type\":\"LinearAxis\"}],\"plot_height\":500,\"plot_width\":700,\"renderers\":[{\"id\":\"1127572e-8f2f-4e6a-b1fa-25e0eb378861\",\"type\":\"LinearAxis\"},{\"id\":\"93968f43-5c43-4156-b4b9-47624daa1213\",\"type\":\"Grid\"},{\"id\":\"bb055a58-1e49-425d-acbd-1b04aa7e2e55\",\"type\":\"LinearAxis\"},{\"id\":\"d1aa7509-e853-4704-a115-8133b42fd9dc\",\"type\":\"Grid\"},{\"id\":\"48d4a303-b4ce-42b6-aaa8-084934b22bba\",\"type\":\"BoxAnnotation\"},{\"id\":\"d2050d6e-cb89-493b-8af8-a75e868547b4\",\"type\":\"BoxAnnotation\"},{\"id\":\"98f6a7ff-fb13-48e3-bc84-62e790ba8ab3\",\"type\":\"GlyphRenderer\"}],\"title\":{\"id\":\"ce1f7698-ec08-475f-8ba5-e6dda8b4aba7\",\"type\":\"Title\"},\"tool_events\":{\"id\":\"278d3c0c-4a52-458b-b7e6-f556c8d58279\",\"type\":\"ToolEvents\"},\"toolbar\":{\"id\":\"5dbb3221-9df9-4e37-933a-2f8a37b73d5a\",\"type\":\"Toolbar\"},\"x_range\":{\"id\":\"40caaf56-1b4e-415f-9f25-8a65d291c3c6\",\"type\":\"DataRange1d\"},\"y_range\":{\"id\":\"da4f27ad-460c-4aaa-a74d-f1a2a8104352\",\"type\":\"DataRange1d\"}},\"id\":\"b0044c49-58a0-46f1-a01e-b48f992f18ef\",\"subtype\":\"Figure\",\"type\":\"Plot\"},{\"attributes\":{\"bottom_units\":\"screen\",\"fill_alpha\":{\"value\":0.5},\"fill_color\":{\"value\":\"lightgrey\"},\"left_units\":\"screen\",\"level\":\"overlay\",\"line_alpha\":{\"value\":1.0},\"line_color\":{\"value\":\"black\"},\"line_dash\":[4,4],\"line_width\":{\"value\":2},\"plot\":null,\"render_mode\":\"css\",\"right_units\":\"screen\",\"top_units\":\"screen\"},\"id\":\"d2050d6e-cb89-493b-8af8-a75e868547b4\",\"type\":\"BoxAnnotation\"},{\"attributes\":{\"callback\":null,\"column_names\":[\"top\",\"left\",\"right\"],\"data\":{\"left\":[2.5745404539664004e-92,0.0990910678029022,0.1981821356058044,0.29727320340870655,0.3963642712116088,0.495455339014511,0.5945464068174131,0.6936374746203153,0.7927285424232176,0.8918196102261198,0.990910678029022,1.0900017458319242,1.1890928136348262,1.2881838814377284,1.3872749492406307,1.4863660170435329,1.585457084846435,1.6845481526493373,1.7836392204522395,1.8827302882551418,1.981821356058044,2.080912423860946,2.1800034916638484,2.2790945594667504,2.3781856272696524,2.477276695072555,2.576367762875457,2.6754588306783593,2.7745498984812613,2.8736409662841638,2.9727320340870658,3.071823101889968,3.17091416969287,3.270005237495772,3.3690963052986747,3.4681873731015767,3.567278440904479,3.666369508707381,3.7654605765102835,3.8645516443131855,3.963642712116088,4.0627337799189895,4.161824847721892,4.260915915524794,4.360006983327697,4.459098051130598,4.558189118933501,4.657280186736403,4.756371254539305,4.855462322342207,4.95455339014511,5.053644457948012,5.152735525750914,5.251826593553816,5.350917661356719,5.450008729159621,5.549099796962523,5.648190864765425,5.7472819325683275,5.846373000371229,5.9454640681741315,6.044555135977034,6.143646203779936,6.242737271582838,6.34182833938574,6.440919407188643,6.540010474991544,6.639101542794447,6.738192610597349,6.837283678400252,6.936374746203153,7.035465814006056,7.134556881808958,7.23364794961186,7.332739017414762,7.431830085217665,7.530921153020567,7.630012220823469,7.729103288626371,7.8281943564292735,7.927285424232176,8.026376492035078,8.125467559837979,8.224558627640882,8.323649695443784,8.422740763246686,8.521831831049589,8.620922898852491,8.720013966655394,8.819105034458294,8.918196102261197,9.0172871700641,9.116378237867002,9.215469305669904,9.314560373472807,9.413651441275709,9.51274250907861,9.611833576881512,9.710924644684415,9.810015712487317],\"right\":[0.0990910678029022,0.1981821356058044,0.29727320340870655,0.3963642712116088,0.495455339014511,0.5945464068174131,0.6936374746203153,0.7927285424232176,0.8918196102261198,0.990910678029022,1.0900017458319242,1.1890928136348262,1.2881838814377284,1.3872749492406307,1.4863660170435329,1.585457084846435,1.6845481526493373,1.7836392204522395,1.8827302882551418,1.981821356058044,2.080912423860946,2.1800034916638484,2.2790945594667504,2.3781856272696524,2.477276695072555,2.576367762875457,2.6754588306783593,2.7745498984812613,2.8736409662841638,2.9727320340870658,3.071823101889968,3.17091416969287,3.270005237495772,3.3690963052986747,3.4681873731015767,3.567278440904479,3.666369508707381,3.7654605765102835,3.8645516443131855,3.963642712116088,4.0627337799189895,4.161824847721892,4.260915915524794,4.360006983327697,4.459098051130598,4.558189118933501,4.657280186736403,4.756371254539305,4.855462322342207,4.95455339014511,5.053644457948012,5.152735525750914,5.251826593553816,5.350917661356719,5.450008729159621,5.549099796962523,5.648190864765425,5.7472819325683275,5.846373000371229,5.9454640681741315,6.044555135977034,6.143646203779936,6.242737271582838,6.34182833938574,6.440919407188643,6.540010474991544,6.639101542794447,6.738192610597349,6.837283678400252,6.936374746203153,7.035465814006056,7.134556881808958,7.23364794961186,7.332739017414762,7.431830085217665,7.530921153020567,7.630012220823469,7.729103288626371,7.8281943564292735,7.927285424232176,8.026376492035078,8.125467559837979,8.224558627640882,8.323649695443784,8.422740763246686,8.521831831049589,8.620922898852491,8.720013966655394,8.819105034458294,8.918196102261197,9.0172871700641,9.116378237867002,9.215469305669904,9.314560373472807,9.413651441275709,9.51274250907861,9.611833576881512,9.710924644684415,9.810015712487317,9.90910678029022],\"top\":[345,762,1737,2925,4285,6004,7702,8434,8165,7956,7476,6913,6541,5941,5573,5080,4731,4236,3958,4133,4165,3685,2985,2367,1996,1717,1516,1376,1335,1333,1455,1708,2158,2783,3641,4316,4465,4205,3615,2961,2347,2023,1720,1636,1287,1118,961,714,614,470,423,376,339,328,371,336,345,322,352,267,225,202,171,202,165,127,138,117,112,101,111,79,77,71,46,38,33,33,29,19,10,11,7,1,4,1,1,1,0,1,0,0,0,0,0,0,0,0,0,1]}},\"id\":\"a5c5196e-d699-4854-8204-d6152c3ef673\",\"type\":\"ColumnDataSource\"},{\"attributes\":{\"plot\":{\"id\":\"b0044c49-58a0-46f1-a01e-b48f992f18ef\",\"subtype\":\"Figure\",\"type\":\"Plot\"}},\"id\":\"eff7edda-5b50-4ac2-aa48-e2ee29568fc3\",\"type\":\"ResetTool\"},{\"attributes\":{\"bottom\":{\"value\":0},\"fill_color\":{\"value\":\"#1f77b4\"},\"left\":{\"field\":\"left\"},\"right\":{\"field\":\"right\"},\"top\":{\"field\":\"top\"}},\"id\":\"3d61fd08-094e-4b31-8ed5-e606613aa235\",\"type\":\"Quad\"},{\"attributes\":{\"plot\":{\"id\":\"b0044c49-58a0-46f1-a01e-b48f992f18ef\",\"subtype\":\"Figure\",\"type\":\"Plot\"}},\"id\":\"412b2edf-b26b-4846-ad3a-b0a7df5243b1\",\"type\":\"SaveTool\"},{\"attributes\":{},\"id\":\"654cf53f-cb13-4748-bb88-1be2dd489ebe\",\"type\":\"BasicTicker\"},{\"attributes\":{\"overlay\":{\"id\":\"48d4a303-b4ce-42b6-aaa8-084934b22bba\",\"type\":\"BoxAnnotation\"},\"plot\":{\"id\":\"b0044c49-58a0-46f1-a01e-b48f992f18ef\",\"subtype\":\"Figure\",\"type\":\"Plot\"}},\"id\":\"95db29c5-0018-4cf8-b780-bd098b07a0ca\",\"type\":\"BoxZoomTool\"},{\"attributes\":{\"plot\":{\"id\":\"b0044c49-58a0-46f1-a01e-b48f992f18ef\",\"subtype\":\"Figure\",\"type\":\"Plot\"}},\"id\":\"fc9740d4-8a92-4977-a612-c52ace268855\",\"type\":\"PanTool\"},{\"attributes\":{\"callback\":null},\"id\":\"da4f27ad-460c-4aaa-a74d-f1a2a8104352\",\"type\":\"DataRange1d\"},{\"attributes\":{\"axis_label\":\"Uncertainty on distance (kpc)\",\"axis_label_text_font_size\":{\"value\":\"13pt\"},\"formatter\":{\"id\":\"42917d7d-81d0-4fb6-9100-9bb68f2c668c\",\"type\":\"BasicTickFormatter\"},\"major_label_text_font_size\":{\"value\":\"13pt\"},\"plot\":{\"id\":\"b0044c49-58a0-46f1-a01e-b48f992f18ef\",\"subtype\":\"Figure\",\"type\":\"Plot\"},\"ticker\":{\"id\":\"1b011010-6da6-4ed8-916d-67d29d6710ff\",\"type\":\"BasicTicker\"}},\"id\":\"1127572e-8f2f-4e6a-b1fa-25e0eb378861\",\"type\":\"LinearAxis\"},{\"attributes\":{\"callback\":null},\"id\":\"40caaf56-1b4e-415f-9f25-8a65d291c3c6\",\"type\":\"DataRange1d\"},{\"attributes\":{},\"id\":\"1b011010-6da6-4ed8-916d-67d29d6710ff\",\"type\":\"BasicTicker\"},{\"attributes\":{\"dimension\":1,\"plot\":{\"id\":\"b0044c49-58a0-46f1-a01e-b48f992f18ef\",\"subtype\":\"Figure\",\"type\":\"Plot\"},\"ticker\":{\"id\":\"654cf53f-cb13-4748-bb88-1be2dd489ebe\",\"type\":\"BasicTicker\"}},\"id\":\"d1aa7509-e853-4704-a115-8133b42fd9dc\",\"type\":\"Grid\"},{\"attributes\":{\"plot\":{\"id\":\"b0044c49-58a0-46f1-a01e-b48f992f18ef\",\"subtype\":\"Figure\",\"type\":\"Plot\"},\"ticker\":{\"id\":\"1b011010-6da6-4ed8-916d-67d29d6710ff\",\"type\":\"BasicTicker\"}},\"id\":\"93968f43-5c43-4156-b4b9-47624daa1213\",\"type\":\"Grid\"},{\"attributes\":{\"axis_label\":\"Count\",\"axis_label_text_font_size\":{\"value\":\"13pt\"},\"formatter\":{\"id\":\"399a79b3-07b1-47fc-bb69-0ad30ce30235\",\"type\":\"BasicTickFormatter\"},\"major_label_text_font_size\":{\"value\":\"13pt\"},\"plot\":{\"id\":\"b0044c49-58a0-46f1-a01e-b48f992f18ef\",\"subtype\":\"Figure\",\"type\":\"Plot\"},\"ticker\":{\"id\":\"654cf53f-cb13-4748-bb88-1be2dd489ebe\",\"type\":\"BasicTicker\"}},\"id\":\"bb055a58-1e49-425d-acbd-1b04aa7e2e55\",\"type\":\"LinearAxis\"},{\"attributes\":{\"data_source\":{\"id\":\"a5c5196e-d699-4854-8204-d6152c3ef673\",\"type\":\"ColumnDataSource\"},\"glyph\":{\"id\":\"3d61fd08-094e-4b31-8ed5-e606613aa235\",\"type\":\"Quad\"},\"hover_glyph\":null,\"nonselection_glyph\":{\"id\":\"ee54c236-0727-439d-a170-b7dea0d203ef\",\"type\":\"Quad\"},\"selection_glyph\":null},\"id\":\"98f6a7ff-fb13-48e3-bc84-62e790ba8ab3\",\"type\":\"GlyphRenderer\"}],\"root_ids\":[\"b0044c49-58a0-46f1-a01e-b48f992f18ef\"]},\"title\":\"Bokeh Application\",\"version\":\"0.12.2\"}};\n",
       "            var render_items = [{\"docid\":\"50a2fb87-61f0-4042-ad81-d7c31c36a2da\",\"elementid\":\"8b2375d7-0fdd-4df8-b2ef-10d5562d803b\",\"modelid\":\"b0044c49-58a0-46f1-a01e-b48f992f18ef\"}];\n",
       "            \n",
       "            Bokeh.embed.embed_items(docs_json, render_items);\n",
       "        });\n",
       "      },\n",
       "      function(Bokeh) {\n",
       "      }\n",
       "    ];\n",
       "  \n",
       "    function run_inline_js() {\n",
       "      \n",
       "      if ((window.Bokeh !== undefined) || (force === \"1\")) {\n",
       "        for (var i = 0; i < inline_js.length; i++) {\n",
       "          inline_js[i](window.Bokeh);\n",
       "        }if (force === \"1\") {\n",
       "          display_loaded();\n",
       "        }} else if (Date.now() < window._bokeh_timeout) {\n",
       "        setTimeout(run_inline_js, 100);\n",
       "      } else if (!window._bokeh_failed_load) {\n",
       "        console.log(\"Bokeh: BokehJS failed to load within specified timeout.\");\n",
       "        window._bokeh_failed_load = true;\n",
       "      } else if (!force) {\n",
       "        var cell = $(\"#8b2375d7-0fdd-4df8-b2ef-10d5562d803b\").parents('.cell').data().cell;\n",
       "        cell.output_area.append_execute_result(NB_LOAD_WARNING)\n",
       "      }\n",
       "  \n",
       "    }\n",
       "  \n",
       "    if (window._bokeh_is_loading === 0) {\n",
       "      console.log(\"Bokeh: BokehJS loaded, going straight to plotting\");\n",
       "      run_inline_js();\n",
       "    } else {\n",
       "      load_libs(js_urls, function() {\n",
       "        console.log(\"Bokeh: BokehJS plotting callback run at\", now());\n",
       "        run_inline_js();\n",
       "      });\n",
       "    }\n",
       "  }(this));\n",
       "</script>"
      ]
     },
     "metadata": {},
     "output_type": "display_data"
    }
   ],
   "source": [
    "# load errors for A_G from file\n",
    "A_G_file = pd.read_csv('Distance\\A_G_error.csv')\n",
    "usedQuantities_A_G_file = ['std']\n",
    "A_G_file.dropna(subset=usedQuantities_A_G_file, inplace=True)\n",
    "A_G_error = A_G_file['std']\n",
    "\n",
    "d_error = d*(np.log(10)/5)*np.sqrt(G_error**2+A_G_error**2+M_G_error**2)\n",
    "\n",
    "hist, edges = np.histogram(d_error, density=False, bins=100)\n",
    "tools = \"pan, wheel_zoom, box_zoom, box_select, save, reset\"\n",
    "title = 'RR Lyrae distance uncertainties'\n",
    "\n",
    "fig = Figure(width=700, height=500, x_axis_label='Uncertainty on distance (kpc)', y_axis_label='Count', title=title, tools=tools)\n",
    "fig.quad(top=hist, bottom=0, left=edges[:-1], right=edges[1:], line_color='black')\n",
    "show(fig)"
   ]
  },
  {
   "cell_type": "markdown",
   "metadata": {
    "collapsed": true
   },
   "source": [
    "Save distances and uncertainties to file"
   ]
  },
  {
   "cell_type": "code",
   "execution_count": 46,
   "metadata": {
    "collapsed": true
   },
   "outputs": [],
   "source": [
    "with open('distance.csv','w') as f:\n",
    "    writer = csv.writer(f, delimiter=',')\n",
    "    writer.writerows(zip(Gaia['ra'],Gaia['dec'],A_G,d,d_error))"
   ]
  }
 ],
 "metadata": {
  "anaconda-cloud": {},
  "celltoolbar": "Edit Metadata",
  "kernelspec": {
   "display_name": "Python [conda root]",
   "language": "python",
   "name": "conda-root-py"
  },
  "language_info": {
   "codemirror_mode": {
    "name": "ipython",
    "version": 3
   },
   "file_extension": ".py",
   "mimetype": "text/x-python",
   "name": "python",
   "nbconvert_exporter": "python",
   "pygments_lexer": "ipython3",
   "version": "3.5.2"
  }
 },
 "nbformat": 4,
 "nbformat_minor": 1
}
