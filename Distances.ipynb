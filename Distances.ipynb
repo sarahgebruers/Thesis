{
 "cells": [
  {
   "cell_type": "code",
   "execution_count": 2,
   "metadata": {
    "collapsed": false
   },
   "outputs": [
    {
     "name": "stderr",
     "output_type": "stream",
     "text": [
      "C:\\Users\\Sarah\\Anaconda3\\lib\\site-packages\\sklearn\\utils\\fixes.py:313: FutureWarning: numpy not_equal will not check object identity in the future. The comparison did not return the same result as suggested by the identity (`is`)) and will change.\n",
      "  _nan_object_mask = _nan_object_array != _nan_object_array\n"
     ]
    },
    {
     "data": {
      "text/html": [
       "\n",
       "    <div class=\"bk-root\">\n",
       "        <a href=\"http://bokeh.pydata.org\" target=\"_blank\" class=\"bk-logo bk-logo-small bk-logo-notebook\"></a>\n",
       "        <span id=\"6ddc3815-0b62-4e98-831a-881cc85a49ba\">Loading BokehJS ...</span>\n",
       "    </div>"
      ]
     },
     "metadata": {},
     "output_type": "display_data"
    },
    {
     "data": {
      "application/javascript": [
       "\n",
       "(function(global) {\n",
       "  function now() {\n",
       "    return new Date();\n",
       "  }\n",
       "\n",
       "  var force = \"1\";\n",
       "\n",
       "  if (typeof (window._bokeh_onload_callbacks) === \"undefined\" || force !== \"\") {\n",
       "    window._bokeh_onload_callbacks = [];\n",
       "    window._bokeh_is_loading = undefined;\n",
       "  }\n",
       "\n",
       "\n",
       "  \n",
       "  if (typeof (window._bokeh_timeout) === \"undefined\" || force !== \"\") {\n",
       "    window._bokeh_timeout = Date.now() + 5000;\n",
       "    window._bokeh_failed_load = false;\n",
       "  }\n",
       "\n",
       "  var NB_LOAD_WARNING = {'data': {'text/html':\n",
       "     \"<div style='background-color: #fdd'>\\n\"+\n",
       "     \"<p>\\n\"+\n",
       "     \"BokehJS does not appear to have successfully loaded. If loading BokehJS from CDN, this \\n\"+\n",
       "     \"may be due to a slow or bad network connection. Possible fixes:\\n\"+\n",
       "     \"</p>\\n\"+\n",
       "     \"<ul>\\n\"+\n",
       "     \"<li>re-rerun `output_notebook()` to attempt to load from CDN again, or</li>\\n\"+\n",
       "     \"<li>use INLINE resources instead, as so:</li>\\n\"+\n",
       "     \"</ul>\\n\"+\n",
       "     \"<code>\\n\"+\n",
       "     \"from bokeh.resources import INLINE\\n\"+\n",
       "     \"output_notebook(resources=INLINE)\\n\"+\n",
       "     \"</code>\\n\"+\n",
       "     \"</div>\"}};\n",
       "\n",
       "  function display_loaded() {\n",
       "    if (window.Bokeh !== undefined) {\n",
       "      Bokeh.$(\"#6ddc3815-0b62-4e98-831a-881cc85a49ba\").text(\"BokehJS successfully loaded.\");\n",
       "    } else if (Date.now() < window._bokeh_timeout) {\n",
       "      setTimeout(display_loaded, 100)\n",
       "    }\n",
       "  }\n",
       "\n",
       "  function run_callbacks() {\n",
       "    window._bokeh_onload_callbacks.forEach(function(callback) { callback() });\n",
       "    delete window._bokeh_onload_callbacks\n",
       "    console.info(\"Bokeh: all callbacks have finished\");\n",
       "  }\n",
       "\n",
       "  function load_libs(js_urls, callback) {\n",
       "    window._bokeh_onload_callbacks.push(callback);\n",
       "    if (window._bokeh_is_loading > 0) {\n",
       "      console.log(\"Bokeh: BokehJS is being loaded, scheduling callback at\", now());\n",
       "      return null;\n",
       "    }\n",
       "    if (js_urls == null || js_urls.length === 0) {\n",
       "      run_callbacks();\n",
       "      return null;\n",
       "    }\n",
       "    console.log(\"Bokeh: BokehJS not loaded, scheduling load and callback at\", now());\n",
       "    window._bokeh_is_loading = js_urls.length;\n",
       "    for (var i = 0; i < js_urls.length; i++) {\n",
       "      var url = js_urls[i];\n",
       "      var s = document.createElement('script');\n",
       "      s.src = url;\n",
       "      s.async = false;\n",
       "      s.onreadystatechange = s.onload = function() {\n",
       "        window._bokeh_is_loading--;\n",
       "        if (window._bokeh_is_loading === 0) {\n",
       "          console.log(\"Bokeh: all BokehJS libraries loaded\");\n",
       "          run_callbacks()\n",
       "        }\n",
       "      };\n",
       "      s.onerror = function() {\n",
       "        console.warn(\"failed to load library \" + url);\n",
       "      };\n",
       "      console.log(\"Bokeh: injecting script tag for BokehJS library: \", url);\n",
       "      document.getElementsByTagName(\"head\")[0].appendChild(s);\n",
       "    }\n",
       "  };var element = document.getElementById(\"6ddc3815-0b62-4e98-831a-881cc85a49ba\");\n",
       "  if (element == null) {\n",
       "    console.log(\"Bokeh: ERROR: autoload.js configured with elementid '6ddc3815-0b62-4e98-831a-881cc85a49ba' but no matching script tag was found. \")\n",
       "    return false;\n",
       "  }\n",
       "\n",
       "  var js_urls = ['https://cdn.pydata.org/bokeh/release/bokeh-0.12.2.min.js', 'https://cdn.pydata.org/bokeh/release/bokeh-widgets-0.12.2.min.js', 'https://cdn.pydata.org/bokeh/release/bokeh-compiler-0.12.2.min.js'];\n",
       "\n",
       "  var inline_js = [\n",
       "    function(Bokeh) {\n",
       "      Bokeh.set_log_level(\"info\");\n",
       "    },\n",
       "    \n",
       "    function(Bokeh) {\n",
       "      \n",
       "      Bokeh.$(\"#6ddc3815-0b62-4e98-831a-881cc85a49ba\").text(\"BokehJS is loading...\");\n",
       "    },\n",
       "    function(Bokeh) {\n",
       "      console.log(\"Bokeh: injecting CSS: https://cdn.pydata.org/bokeh/release/bokeh-0.12.2.min.css\");\n",
       "      Bokeh.embed.inject_css(\"https://cdn.pydata.org/bokeh/release/bokeh-0.12.2.min.css\");\n",
       "      console.log(\"Bokeh: injecting CSS: https://cdn.pydata.org/bokeh/release/bokeh-widgets-0.12.2.min.css\");\n",
       "      Bokeh.embed.inject_css(\"https://cdn.pydata.org/bokeh/release/bokeh-widgets-0.12.2.min.css\");\n",
       "    }\n",
       "  ];\n",
       "\n",
       "  function run_inline_js() {\n",
       "    \n",
       "    if ((window.Bokeh !== undefined) || (force === \"1\")) {\n",
       "      for (var i = 0; i < inline_js.length; i++) {\n",
       "        inline_js[i](window.Bokeh);\n",
       "      }if (force === \"1\") {\n",
       "        display_loaded();\n",
       "      }} else if (Date.now() < window._bokeh_timeout) {\n",
       "      setTimeout(run_inline_js, 100);\n",
       "    } else if (!window._bokeh_failed_load) {\n",
       "      console.log(\"Bokeh: BokehJS failed to load within specified timeout.\");\n",
       "      window._bokeh_failed_load = true;\n",
       "    } else if (!force) {\n",
       "      var cell = $(\"#6ddc3815-0b62-4e98-831a-881cc85a49ba\").parents('.cell').data().cell;\n",
       "      cell.output_area.append_execute_result(NB_LOAD_WARNING)\n",
       "    }\n",
       "\n",
       "  }\n",
       "\n",
       "  if (window._bokeh_is_loading === 0) {\n",
       "    console.log(\"Bokeh: BokehJS loaded, going straight to plotting\");\n",
       "    run_inline_js();\n",
       "  } else {\n",
       "    load_libs(js_urls, function() {\n",
       "      console.log(\"Bokeh: BokehJS plotting callback run at\", now());\n",
       "      run_inline_js();\n",
       "    });\n",
       "  }\n",
       "}(this));"
      ]
     },
     "metadata": {},
     "output_type": "display_data"
    }
   ],
   "source": [
    "import pandas as pd\n",
    "import numpy as np\n",
    "import matplotlib.pyplot as plt\n",
    "import csv\n",
    "from scipy.stats import norm, skewnorm\n",
    "from scipy.optimize import curve_fit\n",
    "from sklearn import linear_model, datasets\n",
    "import bokeh\n",
    "from bokeh.plotting import figure, output_notebook, show\n",
    "from bokeh.models import Range1d, Ticker, Label\n",
    "from bokeh.layouts import gridplot, layout\n",
    "import bokeh.palettes as palettes\n",
    "output_notebook()\n"
   ]
  },
  {
   "cell_type": "code",
   "execution_count": 3,
   "metadata": {
    "collapsed": true
   },
   "outputs": [],
   "source": [
    "def Figure(*args, **kwargs):\n",
    "    fig = figure(*args, **kwargs)\n",
    "    fig.title.text_font_size = '13pt'\n",
    "    fig.xaxis.axis_label_text_font_size = \"13pt\"\n",
    "    fig.yaxis.axis_label_text_font_size = \"13pt\"\n",
    "    fig.xaxis.major_label_text_font_size = \"13pt\"\n",
    "    fig.yaxis.major_label_text_font_size = \"13pt\"\n",
    "    return fig"
   ]
  },
  {
   "cell_type": "markdown",
   "metadata": {},
   "source": [
    "# Import GDR2 data"
   ]
  },
  {
   "cell_type": "code",
   "execution_count": 4,
   "metadata": {
    "collapsed": false
   },
   "outputs": [
    {
     "name": "stderr",
     "output_type": "stream",
     "text": [
      "C:\\Users\\Sarah\\Anaconda3\\lib\\site-packages\\IPython\\core\\interactiveshell.py:2717: DtypeWarning: Columns (215,228) have mixed types. Specify dtype option on import or set low_memory=False.\n",
      "  interactivity=interactivity, compiler=compiler, result=result)\n"
     ]
    },
    {
     "name": "stdout",
     "output_type": "stream",
     "text": [
      "Number of stars in GDR2:  175162\n"
     ]
    }
   ],
   "source": [
    "Gaia = pd.read_csv('Data\\GDR2.csv')\n",
    "usedQuantities_Gaia = ['phot_g_mean_mag','phot_g_mean_flux_over_error','phot_bp_mean_mag','phot_bp_mean_flux_over_error','phot_rp_mean_mag','phot_rp_mean_flux_over_error']\n",
    "Gaia.dropna(subset=usedQuantities_Gaia, inplace=True)\n",
    "print('Number of stars in GDR2: ', len(Gaia))"
   ]
  },
  {
   "cell_type": "markdown",
   "metadata": {},
   "source": [
    "# Import Dambis data"
   ]
  },
  {
   "cell_type": "code",
   "execution_count": 22,
   "metadata": {
    "collapsed": false
   },
   "outputs": [
    {
     "name": "stdout",
     "output_type": "stream",
     "text": [
      "Number of stars in Dambis:  402\n"
     ]
    }
   ],
   "source": [
    "Dambis = pd.read_csv('Data\\RRL_Dambis2013.csv')\n",
    "usedQuantities_Dambis = ['FeH']\n",
    "Dambis.dropna(subset=usedQuantities_Dambis, inplace=True)\n",
    "print('Number of stars in Dambis: ', len(Dambis))"
   ]
  },
  {
   "cell_type": "markdown",
   "metadata": {},
   "source": [
    "# Mean G magnitude and uncertainty"
   ]
  },
  {
   "cell_type": "code",
   "execution_count": 23,
   "metadata": {
    "collapsed": false
   },
   "outputs": [],
   "source": [
    "G = Gaia['phot_g_mean_mag']\n",
    "G_error = 2.5/(np.log(10)*Gaia['phot_g_mean_flux_over_error'])"
   ]
  },
  {
   "cell_type": "markdown",
   "metadata": {},
   "source": [
    "# Metallicity"
   ]
  },
  {
   "cell_type": "markdown",
   "metadata": {},
   "source": [
    "## Metallicity histogram of Dambis sample"
   ]
  },
  {
   "cell_type": "code",
   "execution_count": 24,
   "metadata": {
    "collapsed": false
   },
   "outputs": [
    {
     "data": {
      "text/html": [
       "\n",
       "\n",
       "    <div class=\"bk-root\">\n",
       "        <div class=\"plotdiv\" id=\"707e1026-eaf5-457c-9ff6-2dd3e7b82979\"></div>\n",
       "    </div>\n",
       "<script type=\"text/javascript\">\n",
       "  \n",
       "  (function(global) {\n",
       "    function now() {\n",
       "      return new Date();\n",
       "    }\n",
       "  \n",
       "    var force = \"\";\n",
       "  \n",
       "    if (typeof (window._bokeh_onload_callbacks) === \"undefined\" || force !== \"\") {\n",
       "      window._bokeh_onload_callbacks = [];\n",
       "      window._bokeh_is_loading = undefined;\n",
       "    }\n",
       "  \n",
       "  \n",
       "    \n",
       "    if (typeof (window._bokeh_timeout) === \"undefined\" || force !== \"\") {\n",
       "      window._bokeh_timeout = Date.now() + 0;\n",
       "      window._bokeh_failed_load = false;\n",
       "    }\n",
       "  \n",
       "    var NB_LOAD_WARNING = {'data': {'text/html':\n",
       "       \"<div style='background-color: #fdd'>\\n\"+\n",
       "       \"<p>\\n\"+\n",
       "       \"BokehJS does not appear to have successfully loaded. If loading BokehJS from CDN, this \\n\"+\n",
       "       \"may be due to a slow or bad network connection. Possible fixes:\\n\"+\n",
       "       \"</p>\\n\"+\n",
       "       \"<ul>\\n\"+\n",
       "       \"<li>re-rerun `output_notebook()` to attempt to load from CDN again, or</li>\\n\"+\n",
       "       \"<li>use INLINE resources instead, as so:</li>\\n\"+\n",
       "       \"</ul>\\n\"+\n",
       "       \"<code>\\n\"+\n",
       "       \"from bokeh.resources import INLINE\\n\"+\n",
       "       \"output_notebook(resources=INLINE)\\n\"+\n",
       "       \"</code>\\n\"+\n",
       "       \"</div>\"}};\n",
       "  \n",
       "    function display_loaded() {\n",
       "      if (window.Bokeh !== undefined) {\n",
       "        Bokeh.$(\"#707e1026-eaf5-457c-9ff6-2dd3e7b82979\").text(\"BokehJS successfully loaded.\");\n",
       "      } else if (Date.now() < window._bokeh_timeout) {\n",
       "        setTimeout(display_loaded, 100)\n",
       "      }\n",
       "    }\n",
       "  \n",
       "    function run_callbacks() {\n",
       "      window._bokeh_onload_callbacks.forEach(function(callback) { callback() });\n",
       "      delete window._bokeh_onload_callbacks\n",
       "      console.info(\"Bokeh: all callbacks have finished\");\n",
       "    }\n",
       "  \n",
       "    function load_libs(js_urls, callback) {\n",
       "      window._bokeh_onload_callbacks.push(callback);\n",
       "      if (window._bokeh_is_loading > 0) {\n",
       "        console.log(\"Bokeh: BokehJS is being loaded, scheduling callback at\", now());\n",
       "        return null;\n",
       "      }\n",
       "      if (js_urls == null || js_urls.length === 0) {\n",
       "        run_callbacks();\n",
       "        return null;\n",
       "      }\n",
       "      console.log(\"Bokeh: BokehJS not loaded, scheduling load and callback at\", now());\n",
       "      window._bokeh_is_loading = js_urls.length;\n",
       "      for (var i = 0; i < js_urls.length; i++) {\n",
       "        var url = js_urls[i];\n",
       "        var s = document.createElement('script');\n",
       "        s.src = url;\n",
       "        s.async = false;\n",
       "        s.onreadystatechange = s.onload = function() {\n",
       "          window._bokeh_is_loading--;\n",
       "          if (window._bokeh_is_loading === 0) {\n",
       "            console.log(\"Bokeh: all BokehJS libraries loaded\");\n",
       "            run_callbacks()\n",
       "          }\n",
       "        };\n",
       "        s.onerror = function() {\n",
       "          console.warn(\"failed to load library \" + url);\n",
       "        };\n",
       "        console.log(\"Bokeh: injecting script tag for BokehJS library: \", url);\n",
       "        document.getElementsByTagName(\"head\")[0].appendChild(s);\n",
       "      }\n",
       "    };var element = document.getElementById(\"707e1026-eaf5-457c-9ff6-2dd3e7b82979\");\n",
       "    if (element == null) {\n",
       "      console.log(\"Bokeh: ERROR: autoload.js configured with elementid '707e1026-eaf5-457c-9ff6-2dd3e7b82979' but no matching script tag was found. \")\n",
       "      return false;\n",
       "    }\n",
       "  \n",
       "    var js_urls = [];\n",
       "  \n",
       "    var inline_js = [\n",
       "      function(Bokeh) {\n",
       "        Bokeh.$(function() {\n",
       "            var docs_json = {\"fd053991-2e45-45bc-bc17-80e40b3f0f81\":{\"roots\":{\"references\":[{\"attributes\":{\"plot\":{\"id\":\"1853e6cb-d322-4583-8a62-5c3b80a5c80d\",\"subtype\":\"Figure\",\"type\":\"Plot\"}},\"id\":\"68908913-11a1-4605-afdb-da6eef234809\",\"type\":\"ResetTool\"},{\"attributes\":{\"callback\":null,\"overlay\":{\"id\":\"1710aeb4-913a-46f9-8a75-a98747ed8394\",\"type\":\"BoxAnnotation\"},\"plot\":{\"id\":\"1853e6cb-d322-4583-8a62-5c3b80a5c80d\",\"subtype\":\"Figure\",\"type\":\"Plot\"},\"renderers\":[{\"id\":\"4d196d85-c336-4b81-99a4-09fcf048820b\",\"type\":\"GlyphRenderer\"}]},\"id\":\"0ccd33c3-e1be-4077-a769-c753f2be452e\",\"type\":\"BoxSelectTool\"},{\"attributes\":{\"bottom\":{\"value\":0},\"fill_color\":{\"value\":\"#1f77b4\"},\"left\":{\"field\":\"left\"},\"right\":{\"field\":\"right\"},\"top\":{\"field\":\"top\"}},\"id\":\"8e25fd2c-4b03-4476-a101-4f01544627ec\",\"type\":\"Quad\"},{\"attributes\":{\"callback\":null},\"id\":\"4c5e1c70-327f-4712-923a-3b6b7548514a\",\"type\":\"DataRange1d\"},{\"attributes\":{\"axis_label\":\"[Fe/H]\",\"axis_label_text_font_size\":{\"value\":\"13pt\"},\"formatter\":{\"id\":\"37e3875c-c5ee-4382-b741-543318e399d9\",\"type\":\"BasicTickFormatter\"},\"major_label_text_font_size\":{\"value\":\"13pt\"},\"plot\":{\"id\":\"1853e6cb-d322-4583-8a62-5c3b80a5c80d\",\"subtype\":\"Figure\",\"type\":\"Plot\"},\"ticker\":{\"id\":\"0d64d6f2-1f71-4a10-b097-b66d7ef4b8d2\",\"type\":\"BasicTicker\"}},\"id\":\"bffb738f-42d9-4fe8-a210-8cdc25c45802\",\"type\":\"LinearAxis\"},{\"attributes\":{},\"id\":\"0d64d6f2-1f71-4a10-b097-b66d7ef4b8d2\",\"type\":\"BasicTicker\"},{\"attributes\":{\"below\":[{\"id\":\"bffb738f-42d9-4fe8-a210-8cdc25c45802\",\"type\":\"LinearAxis\"}],\"left\":[{\"id\":\"eb5f1aa9-b15b-4251-8f25-007f90865924\",\"type\":\"LinearAxis\"}],\"plot_height\":500,\"plot_width\":700,\"renderers\":[{\"id\":\"bffb738f-42d9-4fe8-a210-8cdc25c45802\",\"type\":\"LinearAxis\"},{\"id\":\"31192033-1b26-493f-955f-bbf16972e8fb\",\"type\":\"Grid\"},{\"id\":\"eb5f1aa9-b15b-4251-8f25-007f90865924\",\"type\":\"LinearAxis\"},{\"id\":\"20f42210-8d9d-4e6b-9f24-2d0b0f0f3514\",\"type\":\"Grid\"},{\"id\":\"ae282328-5cdf-4459-9ffc-751625e0ee4d\",\"type\":\"BoxAnnotation\"},{\"id\":\"1710aeb4-913a-46f9-8a75-a98747ed8394\",\"type\":\"BoxAnnotation\"},{\"id\":\"4d196d85-c336-4b81-99a4-09fcf048820b\",\"type\":\"GlyphRenderer\"}],\"title\":{\"id\":\"6fba2297-3b5a-4256-aaac-c54af4a8fefd\",\"type\":\"Title\"},\"tool_events\":{\"id\":\"9941dfd9-1843-4087-8ce6-e20c9c081fb2\",\"type\":\"ToolEvents\"},\"toolbar\":{\"id\":\"496c644f-ae30-400d-a811-c1a608e59e2c\",\"type\":\"Toolbar\"},\"x_range\":{\"id\":\"8b0f4bba-b176-43d2-945e-4d1881a4ac43\",\"type\":\"Range1d\"},\"y_range\":{\"id\":\"4c5e1c70-327f-4712-923a-3b6b7548514a\",\"type\":\"DataRange1d\"}},\"id\":\"1853e6cb-d322-4583-8a62-5c3b80a5c80d\",\"subtype\":\"Figure\",\"type\":\"Plot\"},{\"attributes\":{\"dimension\":1,\"plot\":{\"id\":\"1853e6cb-d322-4583-8a62-5c3b80a5c80d\",\"subtype\":\"Figure\",\"type\":\"Plot\"},\"ticker\":{\"id\":\"bb8e7396-95d6-45d2-b4dc-ae3ec5719e30\",\"type\":\"BasicTicker\"}},\"id\":\"20f42210-8d9d-4e6b-9f24-2d0b0f0f3514\",\"type\":\"Grid\"},{\"attributes\":{},\"id\":\"41df8325-155b-4b39-ab66-eb3473d39eb9\",\"type\":\"BasicTickFormatter\"},{\"attributes\":{},\"id\":\"37e3875c-c5ee-4382-b741-543318e399d9\",\"type\":\"BasicTickFormatter\"},{\"attributes\":{\"plot\":{\"id\":\"1853e6cb-d322-4583-8a62-5c3b80a5c80d\",\"subtype\":\"Figure\",\"type\":\"Plot\"},\"ticker\":{\"id\":\"0d64d6f2-1f71-4a10-b097-b66d7ef4b8d2\",\"type\":\"BasicTicker\"}},\"id\":\"31192033-1b26-493f-955f-bbf16972e8fb\",\"type\":\"Grid\"},{\"attributes\":{},\"id\":\"bb8e7396-95d6-45d2-b4dc-ae3ec5719e30\",\"type\":\"BasicTicker\"},{\"attributes\":{\"data_source\":{\"id\":\"fd2385b6-8ea8-4bb7-826c-13370dd9254d\",\"type\":\"ColumnDataSource\"},\"glyph\":{\"id\":\"8e25fd2c-4b03-4476-a101-4f01544627ec\",\"type\":\"Quad\"},\"hover_glyph\":null,\"nonselection_glyph\":{\"id\":\"a8d1d770-254e-4b42-a0b3-6a79d6f9f2df\",\"type\":\"Quad\"},\"selection_glyph\":null},\"id\":\"4d196d85-c336-4b81-99a4-09fcf048820b\",\"type\":\"GlyphRenderer\"},{\"attributes\":{\"active_drag\":\"auto\",\"active_scroll\":\"auto\",\"active_tap\":\"auto\",\"tools\":[{\"id\":\"46d1ad97-6fbc-4ca4-8e7a-a80f6160c796\",\"type\":\"PanTool\"},{\"id\":\"aa635ef4-6b5f-4908-a248-2a4b681cc6ce\",\"type\":\"WheelZoomTool\"},{\"id\":\"f9a7f8ca-b9fd-4086-9c57-11de033c33a9\",\"type\":\"BoxZoomTool\"},{\"id\":\"0ccd33c3-e1be-4077-a769-c753f2be452e\",\"type\":\"BoxSelectTool\"},{\"id\":\"8c85bf85-b206-414b-9b49-6d33bccf0f6e\",\"type\":\"SaveTool\"},{\"id\":\"68908913-11a1-4605-afdb-da6eef234809\",\"type\":\"ResetTool\"}]},\"id\":\"496c644f-ae30-400d-a811-c1a608e59e2c\",\"type\":\"Toolbar\"},{\"attributes\":{\"bottom\":{\"value\":0},\"fill_alpha\":{\"value\":0.1},\"fill_color\":{\"value\":\"#1f77b4\"},\"left\":{\"field\":\"left\"},\"line_alpha\":{\"value\":0.1},\"line_color\":{\"value\":\"#1f77b4\"},\"right\":{\"field\":\"right\"},\"top\":{\"field\":\"top\"}},\"id\":\"a8d1d770-254e-4b42-a0b3-6a79d6f9f2df\",\"type\":\"Quad\"},{\"attributes\":{\"overlay\":{\"id\":\"ae282328-5cdf-4459-9ffc-751625e0ee4d\",\"type\":\"BoxAnnotation\"},\"plot\":{\"id\":\"1853e6cb-d322-4583-8a62-5c3b80a5c80d\",\"subtype\":\"Figure\",\"type\":\"Plot\"}},\"id\":\"f9a7f8ca-b9fd-4086-9c57-11de033c33a9\",\"type\":\"BoxZoomTool\"},{\"attributes\":{\"bottom_units\":\"screen\",\"fill_alpha\":{\"value\":0.5},\"fill_color\":{\"value\":\"lightgrey\"},\"left_units\":\"screen\",\"level\":\"overlay\",\"line_alpha\":{\"value\":1.0},\"line_color\":{\"value\":\"black\"},\"line_dash\":[4,4],\"line_width\":{\"value\":2},\"plot\":null,\"render_mode\":\"css\",\"right_units\":\"screen\",\"top_units\":\"screen\"},\"id\":\"ae282328-5cdf-4459-9ffc-751625e0ee4d\",\"type\":\"BoxAnnotation\"},{\"attributes\":{\"plot\":null,\"text\":\"Sample of Dambis et al (2013)\",\"text_font_size\":{\"value\":\"13pt\"}},\"id\":\"6fba2297-3b5a-4256-aaac-c54af4a8fefd\",\"type\":\"Title\"},{\"attributes\":{\"plot\":{\"id\":\"1853e6cb-d322-4583-8a62-5c3b80a5c80d\",\"subtype\":\"Figure\",\"type\":\"Plot\"}},\"id\":\"46d1ad97-6fbc-4ca4-8e7a-a80f6160c796\",\"type\":\"PanTool\"},{\"attributes\":{\"plot\":{\"id\":\"1853e6cb-d322-4583-8a62-5c3b80a5c80d\",\"subtype\":\"Figure\",\"type\":\"Plot\"}},\"id\":\"8c85bf85-b206-414b-9b49-6d33bccf0f6e\",\"type\":\"SaveTool\"},{\"attributes\":{},\"id\":\"9941dfd9-1843-4087-8ce6-e20c9c081fb2\",\"type\":\"ToolEvents\"},{\"attributes\":{\"bottom_units\":\"screen\",\"fill_alpha\":{\"value\":0.5},\"fill_color\":{\"value\":\"lightgrey\"},\"left_units\":\"screen\",\"level\":\"overlay\",\"line_alpha\":{\"value\":1.0},\"line_color\":{\"value\":\"black\"},\"line_dash\":[4,4],\"line_width\":{\"value\":2},\"plot\":null,\"render_mode\":\"css\",\"right_units\":\"screen\",\"top_units\":\"screen\"},\"id\":\"1710aeb4-913a-46f9-8a75-a98747ed8394\",\"type\":\"BoxAnnotation\"},{\"attributes\":{\"callback\":null,\"column_names\":[\"right\",\"top\",\"left\"],\"data\":{\"left\":[-2.84,-2.743,-2.646,-2.549,-2.452,-2.355,-2.258,-2.161,-2.064,-1.967,-1.87,-1.773,-1.676,-1.579,-1.482,-1.385,-1.288,-1.191,-1.094,-0.9970000000000001,-0.9000000000000001,-0.8029999999999999,-0.706,-0.609,-0.512,-0.41500000000000004,-0.31800000000000006,-0.22100000000000009,-0.12400000000000011,-0.027000000000000135],\"right\":[-2.743,-2.646,-2.549,-2.452,-2.355,-2.258,-2.161,-2.064,-1.967,-1.87,-1.773,-1.676,-1.579,-1.482,-1.385,-1.288,-1.191,-1.094,-0.9970000000000001,-0.9000000000000001,-0.8029999999999999,-0.706,-0.609,-0.512,-0.41500000000000004,-0.31800000000000006,-0.22100000000000009,-0.12400000000000011,-0.027000000000000135,0.07],\"top\":[1,0,1,2,2,6,5,8,18,19,25,31,33,49,43,32,22,20,14,8,17,10,4,7,10,4,5,2,3,1]}},\"id\":\"fd2385b6-8ea8-4bb7-826c-13370dd9254d\",\"type\":\"ColumnDataSource\"},{\"attributes\":{\"axis_label\":\"Count\",\"axis_label_text_font_size\":{\"value\":\"13pt\"},\"formatter\":{\"id\":\"41df8325-155b-4b39-ab66-eb3473d39eb9\",\"type\":\"BasicTickFormatter\"},\"major_label_text_font_size\":{\"value\":\"13pt\"},\"plot\":{\"id\":\"1853e6cb-d322-4583-8a62-5c3b80a5c80d\",\"subtype\":\"Figure\",\"type\":\"Plot\"},\"ticker\":{\"id\":\"bb8e7396-95d6-45d2-b4dc-ae3ec5719e30\",\"type\":\"BasicTicker\"}},\"id\":\"eb5f1aa9-b15b-4251-8f25-007f90865924\",\"type\":\"LinearAxis\"},{\"attributes\":{\"plot\":{\"id\":\"1853e6cb-d322-4583-8a62-5c3b80a5c80d\",\"subtype\":\"Figure\",\"type\":\"Plot\"}},\"id\":\"aa635ef4-6b5f-4908-a248-2a4b681cc6ce\",\"type\":\"WheelZoomTool\"},{\"attributes\":{\"callback\":null,\"end\":0.6,\"start\":-3.1},\"id\":\"8b0f4bba-b176-43d2-945e-4d1881a4ac43\",\"type\":\"Range1d\"}],\"root_ids\":[\"1853e6cb-d322-4583-8a62-5c3b80a5c80d\"]},\"title\":\"Bokeh Application\",\"version\":\"0.12.2\"}};\n",
       "            var render_items = [{\"docid\":\"fd053991-2e45-45bc-bc17-80e40b3f0f81\",\"elementid\":\"707e1026-eaf5-457c-9ff6-2dd3e7b82979\",\"modelid\":\"1853e6cb-d322-4583-8a62-5c3b80a5c80d\"}];\n",
       "            \n",
       "            Bokeh.embed.embed_items(docs_json, render_items);\n",
       "        });\n",
       "      },\n",
       "      function(Bokeh) {\n",
       "      }\n",
       "    ];\n",
       "  \n",
       "    function run_inline_js() {\n",
       "      \n",
       "      if ((window.Bokeh !== undefined) || (force === \"1\")) {\n",
       "        for (var i = 0; i < inline_js.length; i++) {\n",
       "          inline_js[i](window.Bokeh);\n",
       "        }if (force === \"1\") {\n",
       "          display_loaded();\n",
       "        }} else if (Date.now() < window._bokeh_timeout) {\n",
       "        setTimeout(run_inline_js, 100);\n",
       "      } else if (!window._bokeh_failed_load) {\n",
       "        console.log(\"Bokeh: BokehJS failed to load within specified timeout.\");\n",
       "        window._bokeh_failed_load = true;\n",
       "      } else if (!force) {\n",
       "        var cell = $(\"#707e1026-eaf5-457c-9ff6-2dd3e7b82979\").parents('.cell').data().cell;\n",
       "        cell.output_area.append_execute_result(NB_LOAD_WARNING)\n",
       "      }\n",
       "  \n",
       "    }\n",
       "  \n",
       "    if (window._bokeh_is_loading === 0) {\n",
       "      console.log(\"Bokeh: BokehJS loaded, going straight to plotting\");\n",
       "      run_inline_js();\n",
       "    } else {\n",
       "      load_libs(js_urls, function() {\n",
       "        console.log(\"Bokeh: BokehJS plotting callback run at\", now());\n",
       "        run_inline_js();\n",
       "      });\n",
       "    }\n",
       "  }(this));\n",
       "</script>"
      ]
     },
     "metadata": {},
     "output_type": "display_data"
    }
   ],
   "source": [
    "hist, edges = np.histogram(Dambis['FeH'], density=False, bins=30)\n",
    "tools = \"pan, wheel_zoom, box_zoom, box_select, save, reset\"\n",
    "title = 'Sample of Dambis et al (2013)'\n",
    "\n",
    "fig = Figure(width=700, height=500, x_axis_label='[Fe/H]', y_axis_label='Count', x_range=(-3.1,0.6), title=title, tools=tools)\n",
    "fig.quad(top=hist, bottom=0, left=edges[:-1], right=edges[1:], line_color='black')\n",
    "show(fig)\n"
   ]
  },
  {
   "cell_type": "markdown",
   "metadata": {},
   "source": [
    "## Metallicity histogram of GDR2 sample"
   ]
  },
  {
   "cell_type": "code",
   "execution_count": 7,
   "metadata": {
    "collapsed": false
   },
   "outputs": [
    {
     "data": {
      "text/html": [
       "\n",
       "\n",
       "    <div class=\"bk-root\">\n",
       "        <div class=\"plotdiv\" id=\"6b382a83-9ef6-49ba-8c24-9cc979599a72\"></div>\n",
       "    </div>\n",
       "<script type=\"text/javascript\">\n",
       "  \n",
       "  (function(global) {\n",
       "    function now() {\n",
       "      return new Date();\n",
       "    }\n",
       "  \n",
       "    var force = \"\";\n",
       "  \n",
       "    if (typeof (window._bokeh_onload_callbacks) === \"undefined\" || force !== \"\") {\n",
       "      window._bokeh_onload_callbacks = [];\n",
       "      window._bokeh_is_loading = undefined;\n",
       "    }\n",
       "  \n",
       "  \n",
       "    \n",
       "    if (typeof (window._bokeh_timeout) === \"undefined\" || force !== \"\") {\n",
       "      window._bokeh_timeout = Date.now() + 0;\n",
       "      window._bokeh_failed_load = false;\n",
       "    }\n",
       "  \n",
       "    var NB_LOAD_WARNING = {'data': {'text/html':\n",
       "       \"<div style='background-color: #fdd'>\\n\"+\n",
       "       \"<p>\\n\"+\n",
       "       \"BokehJS does not appear to have successfully loaded. If loading BokehJS from CDN, this \\n\"+\n",
       "       \"may be due to a slow or bad network connection. Possible fixes:\\n\"+\n",
       "       \"</p>\\n\"+\n",
       "       \"<ul>\\n\"+\n",
       "       \"<li>re-rerun `output_notebook()` to attempt to load from CDN again, or</li>\\n\"+\n",
       "       \"<li>use INLINE resources instead, as so:</li>\\n\"+\n",
       "       \"</ul>\\n\"+\n",
       "       \"<code>\\n\"+\n",
       "       \"from bokeh.resources import INLINE\\n\"+\n",
       "       \"output_notebook(resources=INLINE)\\n\"+\n",
       "       \"</code>\\n\"+\n",
       "       \"</div>\"}};\n",
       "  \n",
       "    function display_loaded() {\n",
       "      if (window.Bokeh !== undefined) {\n",
       "        Bokeh.$(\"#6b382a83-9ef6-49ba-8c24-9cc979599a72\").text(\"BokehJS successfully loaded.\");\n",
       "      } else if (Date.now() < window._bokeh_timeout) {\n",
       "        setTimeout(display_loaded, 100)\n",
       "      }\n",
       "    }\n",
       "  \n",
       "    function run_callbacks() {\n",
       "      window._bokeh_onload_callbacks.forEach(function(callback) { callback() });\n",
       "      delete window._bokeh_onload_callbacks\n",
       "      console.info(\"Bokeh: all callbacks have finished\");\n",
       "    }\n",
       "  \n",
       "    function load_libs(js_urls, callback) {\n",
       "      window._bokeh_onload_callbacks.push(callback);\n",
       "      if (window._bokeh_is_loading > 0) {\n",
       "        console.log(\"Bokeh: BokehJS is being loaded, scheduling callback at\", now());\n",
       "        return null;\n",
       "      }\n",
       "      if (js_urls == null || js_urls.length === 0) {\n",
       "        run_callbacks();\n",
       "        return null;\n",
       "      }\n",
       "      console.log(\"Bokeh: BokehJS not loaded, scheduling load and callback at\", now());\n",
       "      window._bokeh_is_loading = js_urls.length;\n",
       "      for (var i = 0; i < js_urls.length; i++) {\n",
       "        var url = js_urls[i];\n",
       "        var s = document.createElement('script');\n",
       "        s.src = url;\n",
       "        s.async = false;\n",
       "        s.onreadystatechange = s.onload = function() {\n",
       "          window._bokeh_is_loading--;\n",
       "          if (window._bokeh_is_loading === 0) {\n",
       "            console.log(\"Bokeh: all BokehJS libraries loaded\");\n",
       "            run_callbacks()\n",
       "          }\n",
       "        };\n",
       "        s.onerror = function() {\n",
       "          console.warn(\"failed to load library \" + url);\n",
       "        };\n",
       "        console.log(\"Bokeh: injecting script tag for BokehJS library: \", url);\n",
       "        document.getElementsByTagName(\"head\")[0].appendChild(s);\n",
       "      }\n",
       "    };var element = document.getElementById(\"6b382a83-9ef6-49ba-8c24-9cc979599a72\");\n",
       "    if (element == null) {\n",
       "      console.log(\"Bokeh: ERROR: autoload.js configured with elementid '6b382a83-9ef6-49ba-8c24-9cc979599a72' but no matching script tag was found. \")\n",
       "      return false;\n",
       "    }\n",
       "  \n",
       "    var js_urls = [];\n",
       "  \n",
       "    var inline_js = [\n",
       "      function(Bokeh) {\n",
       "        Bokeh.$(function() {\n",
       "            var docs_json = {\"db6444b8-cc83-4662-b1b4-dff4c96d18f0\":{\"roots\":{\"references\":[{\"attributes\":{},\"id\":\"20fd313f-80c7-438b-846a-189c58f50df5\",\"type\":\"BasicTickFormatter\"},{\"attributes\":{\"bottom_units\":\"screen\",\"fill_alpha\":{\"value\":0.5},\"fill_color\":{\"value\":\"lightgrey\"},\"left_units\":\"screen\",\"level\":\"overlay\",\"line_alpha\":{\"value\":1.0},\"line_color\":{\"value\":\"black\"},\"line_dash\":[4,4],\"line_width\":{\"value\":2},\"plot\":null,\"render_mode\":\"css\",\"right_units\":\"screen\",\"top_units\":\"screen\"},\"id\":\"84858644-14e9-487a-b4fe-af31790b05f2\",\"type\":\"BoxAnnotation\"},{\"attributes\":{\"callback\":null,\"end\":0.6,\"start\":-3.1},\"id\":\"cbdd1440-586b-4bee-8ed3-5bcaae95ab81\",\"type\":\"Range1d\"},{\"attributes\":{\"plot\":null,\"text\":\"Gaia DR2 sample\",\"text_font_size\":{\"value\":\"13pt\"}},\"id\":\"52bb748b-6613-4f6c-b0ca-71fcf8a7289c\",\"type\":\"Title\"},{\"attributes\":{\"callback\":null},\"id\":\"52b83c4c-454a-45ab-8621-b98a176add98\",\"type\":\"DataRange1d\"},{\"attributes\":{\"plot\":{\"id\":\"b4ffde9c-674b-4ae4-b5f2-bd8aa4e3bd29\",\"subtype\":\"Figure\",\"type\":\"Plot\"}},\"id\":\"240c5cb9-1970-45ec-8c33-91abb751b98f\",\"type\":\"ResetTool\"},{\"attributes\":{\"callback\":null,\"overlay\":{\"id\":\"84858644-14e9-487a-b4fe-af31790b05f2\",\"type\":\"BoxAnnotation\"},\"plot\":{\"id\":\"b4ffde9c-674b-4ae4-b5f2-bd8aa4e3bd29\",\"subtype\":\"Figure\",\"type\":\"Plot\"},\"renderers\":[{\"id\":\"9b2f9943-0371-4e1c-987e-7b3df703708a\",\"type\":\"GlyphRenderer\"}]},\"id\":\"92815fad-baa0-491e-8e82-70918f932028\",\"type\":\"BoxSelectTool\"},{\"attributes\":{\"bottom_units\":\"screen\",\"fill_alpha\":{\"value\":0.5},\"fill_color\":{\"value\":\"lightgrey\"},\"left_units\":\"screen\",\"level\":\"overlay\",\"line_alpha\":{\"value\":1.0},\"line_color\":{\"value\":\"black\"},\"line_dash\":[4,4],\"line_width\":{\"value\":2},\"plot\":null,\"render_mode\":\"css\",\"right_units\":\"screen\",\"top_units\":\"screen\"},\"id\":\"468047fc-ee63-4a62-a514-71ca4c02eb19\",\"type\":\"BoxAnnotation\"},{\"attributes\":{},\"id\":\"f29cfb90-868a-4f38-9843-985fe9fd8055\",\"type\":\"BasicTicker\"},{\"attributes\":{\"plot\":{\"id\":\"b4ffde9c-674b-4ae4-b5f2-bd8aa4e3bd29\",\"subtype\":\"Figure\",\"type\":\"Plot\"}},\"id\":\"93338560-e48a-4034-9fec-4dc55e708305\",\"type\":\"PanTool\"},{\"attributes\":{\"bottom\":{\"value\":0},\"fill_color\":{\"value\":\"#1f77b4\"},\"left\":{\"field\":\"left\"},\"right\":{\"field\":\"right\"},\"top\":{\"field\":\"top\"}},\"id\":\"2ef1eb4f-bf49-4e2c-a3dd-43acf616d24c\",\"type\":\"Quad\"},{\"attributes\":{\"plot\":{\"id\":\"b4ffde9c-674b-4ae4-b5f2-bd8aa4e3bd29\",\"subtype\":\"Figure\",\"type\":\"Plot\"}},\"id\":\"f36439f0-8fde-4a53-b325-7270af662109\",\"type\":\"WheelZoomTool\"},{\"attributes\":{\"overlay\":{\"id\":\"468047fc-ee63-4a62-a514-71ca4c02eb19\",\"type\":\"BoxAnnotation\"},\"plot\":{\"id\":\"b4ffde9c-674b-4ae4-b5f2-bd8aa4e3bd29\",\"subtype\":\"Figure\",\"type\":\"Plot\"}},\"id\":\"a6625cb6-3b53-4a62-967a-410ff6603327\",\"type\":\"BoxZoomTool\"},{\"attributes\":{\"active_drag\":\"auto\",\"active_scroll\":\"auto\",\"active_tap\":\"auto\",\"tools\":[{\"id\":\"93338560-e48a-4034-9fec-4dc55e708305\",\"type\":\"PanTool\"},{\"id\":\"f36439f0-8fde-4a53-b325-7270af662109\",\"type\":\"WheelZoomTool\"},{\"id\":\"a6625cb6-3b53-4a62-967a-410ff6603327\",\"type\":\"BoxZoomTool\"},{\"id\":\"92815fad-baa0-491e-8e82-70918f932028\",\"type\":\"BoxSelectTool\"},{\"id\":\"6ab49d68-9438-47df-ac2d-8c04cb81d28f\",\"type\":\"SaveTool\"},{\"id\":\"240c5cb9-1970-45ec-8c33-91abb751b98f\",\"type\":\"ResetTool\"}]},\"id\":\"6eb9b090-cda7-4cd5-8e95-bee3439673d7\",\"type\":\"Toolbar\"},{\"attributes\":{\"bottom\":{\"value\":0},\"fill_alpha\":{\"value\":0.1},\"fill_color\":{\"value\":\"#1f77b4\"},\"left\":{\"field\":\"left\"},\"line_alpha\":{\"value\":0.1},\"line_color\":{\"value\":\"#1f77b4\"},\"right\":{\"field\":\"right\"},\"top\":{\"field\":\"top\"}},\"id\":\"444c3185-2dc0-476e-8b57-0291f177a70c\",\"type\":\"Quad\"},{\"attributes\":{\"data_source\":{\"id\":\"fbf0aeb9-882c-4cd2-8182-5367c1f0da73\",\"type\":\"ColumnDataSource\"},\"glyph\":{\"id\":\"2ef1eb4f-bf49-4e2c-a3dd-43acf616d24c\",\"type\":\"Quad\"},\"hover_glyph\":null,\"nonselection_glyph\":{\"id\":\"444c3185-2dc0-476e-8b57-0291f177a70c\",\"type\":\"Quad\"},\"selection_glyph\":null},\"id\":\"9b2f9943-0371-4e1c-987e-7b3df703708a\",\"type\":\"GlyphRenderer\"},{\"attributes\":{\"axis_label\":\"[Fe/H]\",\"axis_label_text_font_size\":{\"value\":\"13pt\"},\"formatter\":{\"id\":\"20fd313f-80c7-438b-846a-189c58f50df5\",\"type\":\"BasicTickFormatter\"},\"major_label_text_font_size\":{\"value\":\"13pt\"},\"plot\":{\"id\":\"b4ffde9c-674b-4ae4-b5f2-bd8aa4e3bd29\",\"subtype\":\"Figure\",\"type\":\"Plot\"},\"ticker\":{\"id\":\"5fadd94a-67b3-48c2-9ade-8d0138ec61a9\",\"type\":\"BasicTicker\"}},\"id\":\"a3e4b29d-ba98-49b3-8a72-f081c05fe7b0\",\"type\":\"LinearAxis\"},{\"attributes\":{\"plot\":{\"id\":\"b4ffde9c-674b-4ae4-b5f2-bd8aa4e3bd29\",\"subtype\":\"Figure\",\"type\":\"Plot\"}},\"id\":\"6ab49d68-9438-47df-ac2d-8c04cb81d28f\",\"type\":\"SaveTool\"},{\"attributes\":{\"dimension\":1,\"plot\":{\"id\":\"b4ffde9c-674b-4ae4-b5f2-bd8aa4e3bd29\",\"subtype\":\"Figure\",\"type\":\"Plot\"},\"ticker\":{\"id\":\"f29cfb90-868a-4f38-9843-985fe9fd8055\",\"type\":\"BasicTicker\"}},\"id\":\"5dcaa18b-09f3-4f68-a59a-de37276e93de\",\"type\":\"Grid\"},{\"attributes\":{},\"id\":\"c39b8ac7-c097-4585-8671-4ed2404b2999\",\"type\":\"ToolEvents\"},{\"attributes\":{\"axis_label\":\"Count\",\"axis_label_text_font_size\":{\"value\":\"13pt\"},\"formatter\":{\"id\":\"4aaf40fb-f213-4eeb-9042-e954ede025b0\",\"type\":\"BasicTickFormatter\"},\"major_label_text_font_size\":{\"value\":\"13pt\"},\"plot\":{\"id\":\"b4ffde9c-674b-4ae4-b5f2-bd8aa4e3bd29\",\"subtype\":\"Figure\",\"type\":\"Plot\"},\"ticker\":{\"id\":\"f29cfb90-868a-4f38-9843-985fe9fd8055\",\"type\":\"BasicTicker\"}},\"id\":\"f601bbff-5218-4438-9d66-78b5485b06ef\",\"type\":\"LinearAxis\"},{\"attributes\":{\"below\":[{\"id\":\"a3e4b29d-ba98-49b3-8a72-f081c05fe7b0\",\"type\":\"LinearAxis\"}],\"left\":[{\"id\":\"f601bbff-5218-4438-9d66-78b5485b06ef\",\"type\":\"LinearAxis\"}],\"plot_height\":500,\"plot_width\":700,\"renderers\":[{\"id\":\"a3e4b29d-ba98-49b3-8a72-f081c05fe7b0\",\"type\":\"LinearAxis\"},{\"id\":\"c02b6c49-35f5-4b94-9689-bf2783ac41fd\",\"type\":\"Grid\"},{\"id\":\"f601bbff-5218-4438-9d66-78b5485b06ef\",\"type\":\"LinearAxis\"},{\"id\":\"5dcaa18b-09f3-4f68-a59a-de37276e93de\",\"type\":\"Grid\"},{\"id\":\"468047fc-ee63-4a62-a514-71ca4c02eb19\",\"type\":\"BoxAnnotation\"},{\"id\":\"84858644-14e9-487a-b4fe-af31790b05f2\",\"type\":\"BoxAnnotation\"},{\"id\":\"9b2f9943-0371-4e1c-987e-7b3df703708a\",\"type\":\"GlyphRenderer\"}],\"title\":{\"id\":\"52bb748b-6613-4f6c-b0ca-71fcf8a7289c\",\"type\":\"Title\"},\"tool_events\":{\"id\":\"c39b8ac7-c097-4585-8671-4ed2404b2999\",\"type\":\"ToolEvents\"},\"toolbar\":{\"id\":\"6eb9b090-cda7-4cd5-8e95-bee3439673d7\",\"type\":\"Toolbar\"},\"x_range\":{\"id\":\"cbdd1440-586b-4bee-8ed3-5bcaae95ab81\",\"type\":\"Range1d\"},\"y_range\":{\"id\":\"52b83c4c-454a-45ab-8621-b98a176add98\",\"type\":\"DataRange1d\"}},\"id\":\"b4ffde9c-674b-4ae4-b5f2-bd8aa4e3bd29\",\"subtype\":\"Figure\",\"type\":\"Plot\"},{\"attributes\":{},\"id\":\"4aaf40fb-f213-4eeb-9042-e954ede025b0\",\"type\":\"BasicTickFormatter\"},{\"attributes\":{\"callback\":null,\"column_names\":[\"left\",\"top\",\"right\"],\"data\":{\"left\":[-2.99996066045,-2.8833671623437667,-2.7667736642375336,-2.6501801661313,-2.533586668025067,-2.4169931699188334,-2.3003996718126003,-2.1838061737063668,-2.0672126756001337,-1.9506191774939001,-1.8340256793876668,-1.7174321812814335,-1.6008386831752002,-1.4842451850689669,-1.3676516869627335,-1.2510581888565002,-1.134464690750267,-1.0178711926440336,-0.9012776945378,-0.784684196431567,-0.6680906983253334,-0.5514972002191003,-0.4349037021128668,-0.3183102040066337,-0.20171670590040014,-0.08512320779416704,0.031470290312066496,0.1480637884182996,0.26465728652453313,0.3812507846307662],\"right\":[-2.8833671623437667,-2.7667736642375336,-2.6501801661313,-2.533586668025067,-2.4169931699188334,-2.3003996718126003,-2.1838061737063668,-2.0672126756001337,-1.9506191774939001,-1.8340256793876668,-1.7174321812814335,-1.6008386831752002,-1.4842451850689669,-1.3676516869627335,-1.2510581888565002,-1.134464690750267,-1.0178711926440336,-0.9012776945378,-0.784684196431567,-0.6680906983253334,-0.5514972002191003,-0.4349037021128668,-0.3183102040066337,-0.20171670590040014,-0.08512320779416704,0.031470290312066496,0.1480637884182996,0.26465728652453313,0.3812507846307662,0.497844282737],\"top\":[289,371,443,588,697,1051,1325,1429,1777,2310,2693,3226,3594,4097,4442,4565,4494,4186,3805,3427,2976,2524,2273,1878,1515,1542,713,268,119,58]}},\"id\":\"fbf0aeb9-882c-4cd2-8182-5367c1f0da73\",\"type\":\"ColumnDataSource\"},{\"attributes\":{\"plot\":{\"id\":\"b4ffde9c-674b-4ae4-b5f2-bd8aa4e3bd29\",\"subtype\":\"Figure\",\"type\":\"Plot\"},\"ticker\":{\"id\":\"5fadd94a-67b3-48c2-9ade-8d0138ec61a9\",\"type\":\"BasicTicker\"}},\"id\":\"c02b6c49-35f5-4b94-9689-bf2783ac41fd\",\"type\":\"Grid\"},{\"attributes\":{},\"id\":\"5fadd94a-67b3-48c2-9ade-8d0138ec61a9\",\"type\":\"BasicTicker\"}],\"root_ids\":[\"b4ffde9c-674b-4ae4-b5f2-bd8aa4e3bd29\"]},\"title\":\"Bokeh Application\",\"version\":\"0.12.2\"}};\n",
       "            var render_items = [{\"docid\":\"db6444b8-cc83-4662-b1b4-dff4c96d18f0\",\"elementid\":\"6b382a83-9ef6-49ba-8c24-9cc979599a72\",\"modelid\":\"b4ffde9c-674b-4ae4-b5f2-bd8aa4e3bd29\"}];\n",
       "            \n",
       "            Bokeh.embed.embed_items(docs_json, render_items);\n",
       "        });\n",
       "      },\n",
       "      function(Bokeh) {\n",
       "      }\n",
       "    ];\n",
       "  \n",
       "    function run_inline_js() {\n",
       "      \n",
       "      if ((window.Bokeh !== undefined) || (force === \"1\")) {\n",
       "        for (var i = 0; i < inline_js.length; i++) {\n",
       "          inline_js[i](window.Bokeh);\n",
       "        }if (force === \"1\") {\n",
       "          display_loaded();\n",
       "        }} else if (Date.now() < window._bokeh_timeout) {\n",
       "        setTimeout(run_inline_js, 100);\n",
       "      } else if (!window._bokeh_failed_load) {\n",
       "        console.log(\"Bokeh: BokehJS failed to load within specified timeout.\");\n",
       "        window._bokeh_failed_load = true;\n",
       "      } else if (!force) {\n",
       "        var cell = $(\"#6b382a83-9ef6-49ba-8c24-9cc979599a72\").parents('.cell').data().cell;\n",
       "        cell.output_area.append_execute_result(NB_LOAD_WARNING)\n",
       "      }\n",
       "  \n",
       "    }\n",
       "  \n",
       "    if (window._bokeh_is_loading === 0) {\n",
       "      console.log(\"Bokeh: BokehJS loaded, going straight to plotting\");\n",
       "      run_inline_js();\n",
       "    } else {\n",
       "      load_libs(js_urls, function() {\n",
       "        console.log(\"Bokeh: BokehJS plotting callback run at\", now());\n",
       "        run_inline_js();\n",
       "      });\n",
       "    }\n",
       "  }(this));\n",
       "</script>"
      ]
     },
     "metadata": {},
     "output_type": "display_data"
    }
   ],
   "source": [
    "hist, edges = np.histogram(Gaia['metallicity'].dropna(), density=False, bins=30)\n",
    "tools = \"pan, wheel_zoom, box_zoom, box_select, save, reset\"\n",
    "title = 'Gaia DR2 sample'\n",
    "\n",
    "fig = Figure(width=700, height=500, x_axis_label='[Fe/H]', y_axis_label='Count', x_range=(-3.1,0.6), title=title, tools=tools)\n",
    "fig.quad(top=hist, bottom=0, left=edges[:-1], right=edges[1:], line_color='black')\n",
    "show(fig)"
   ]
  },
  {
   "cell_type": "markdown",
   "metadata": {},
   "source": [
    "## Comparison Dambis FeH and GDR2 metallicity"
   ]
  },
  {
   "cell_type": "code",
   "execution_count": 25,
   "metadata": {
    "collapsed": false
   },
   "outputs": [
    {
     "name": "stdout",
     "output_type": "stream",
     "text": [
      "Number of Dambis stars with GDR2 photometric metallicity:  224\n"
     ]
    }
   ],
   "source": [
    "Xmatch = pd.read_csv(\"Data\\DambisGaiaXmatch.csv\")\n",
    "intermediate = pd.merge(Xmatch, Dambis, how=\"inner\", left_on=[\"Identifier\"], right_on=[\"Name\"])\n",
    "subDambis = pd.merge(intermediate, Gaia, how=\"inner\", left_on=[\"GaiaID\"], right_on=[\"designation\"])\n",
    "usedQuantities = ['FeH', 'metallicity']\n",
    "subDambis.dropna(subset=usedQuantities, inplace=True)\n",
    "print(\"Number of Dambis stars with GDR2 photometric metallicity: \", len(subDambis))"
   ]
  },
  {
   "cell_type": "code",
   "execution_count": 26,
   "metadata": {
    "collapsed": false
   },
   "outputs": [
    {
     "data": {
      "text/html": [
       "\n",
       "\n",
       "    <div class=\"bk-root\">\n",
       "        <div class=\"plotdiv\" id=\"2ba98769-ab3f-4e37-8a92-03fe51ca4d1f\"></div>\n",
       "    </div>\n",
       "<script type=\"text/javascript\">\n",
       "  \n",
       "  (function(global) {\n",
       "    function now() {\n",
       "      return new Date();\n",
       "    }\n",
       "  \n",
       "    var force = \"\";\n",
       "  \n",
       "    if (typeof (window._bokeh_onload_callbacks) === \"undefined\" || force !== \"\") {\n",
       "      window._bokeh_onload_callbacks = [];\n",
       "      window._bokeh_is_loading = undefined;\n",
       "    }\n",
       "  \n",
       "  \n",
       "    \n",
       "    if (typeof (window._bokeh_timeout) === \"undefined\" || force !== \"\") {\n",
       "      window._bokeh_timeout = Date.now() + 0;\n",
       "      window._bokeh_failed_load = false;\n",
       "    }\n",
       "  \n",
       "    var NB_LOAD_WARNING = {'data': {'text/html':\n",
       "       \"<div style='background-color: #fdd'>\\n\"+\n",
       "       \"<p>\\n\"+\n",
       "       \"BokehJS does not appear to have successfully loaded. If loading BokehJS from CDN, this \\n\"+\n",
       "       \"may be due to a slow or bad network connection. Possible fixes:\\n\"+\n",
       "       \"</p>\\n\"+\n",
       "       \"<ul>\\n\"+\n",
       "       \"<li>re-rerun `output_notebook()` to attempt to load from CDN again, or</li>\\n\"+\n",
       "       \"<li>use INLINE resources instead, as so:</li>\\n\"+\n",
       "       \"</ul>\\n\"+\n",
       "       \"<code>\\n\"+\n",
       "       \"from bokeh.resources import INLINE\\n\"+\n",
       "       \"output_notebook(resources=INLINE)\\n\"+\n",
       "       \"</code>\\n\"+\n",
       "       \"</div>\"}};\n",
       "  \n",
       "    function display_loaded() {\n",
       "      if (window.Bokeh !== undefined) {\n",
       "        Bokeh.$(\"#2ba98769-ab3f-4e37-8a92-03fe51ca4d1f\").text(\"BokehJS successfully loaded.\");\n",
       "      } else if (Date.now() < window._bokeh_timeout) {\n",
       "        setTimeout(display_loaded, 100)\n",
       "      }\n",
       "    }\n",
       "  \n",
       "    function run_callbacks() {\n",
       "      window._bokeh_onload_callbacks.forEach(function(callback) { callback() });\n",
       "      delete window._bokeh_onload_callbacks\n",
       "      console.info(\"Bokeh: all callbacks have finished\");\n",
       "    }\n",
       "  \n",
       "    function load_libs(js_urls, callback) {\n",
       "      window._bokeh_onload_callbacks.push(callback);\n",
       "      if (window._bokeh_is_loading > 0) {\n",
       "        console.log(\"Bokeh: BokehJS is being loaded, scheduling callback at\", now());\n",
       "        return null;\n",
       "      }\n",
       "      if (js_urls == null || js_urls.length === 0) {\n",
       "        run_callbacks();\n",
       "        return null;\n",
       "      }\n",
       "      console.log(\"Bokeh: BokehJS not loaded, scheduling load and callback at\", now());\n",
       "      window._bokeh_is_loading = js_urls.length;\n",
       "      for (var i = 0; i < js_urls.length; i++) {\n",
       "        var url = js_urls[i];\n",
       "        var s = document.createElement('script');\n",
       "        s.src = url;\n",
       "        s.async = false;\n",
       "        s.onreadystatechange = s.onload = function() {\n",
       "          window._bokeh_is_loading--;\n",
       "          if (window._bokeh_is_loading === 0) {\n",
       "            console.log(\"Bokeh: all BokehJS libraries loaded\");\n",
       "            run_callbacks()\n",
       "          }\n",
       "        };\n",
       "        s.onerror = function() {\n",
       "          console.warn(\"failed to load library \" + url);\n",
       "        };\n",
       "        console.log(\"Bokeh: injecting script tag for BokehJS library: \", url);\n",
       "        document.getElementsByTagName(\"head\")[0].appendChild(s);\n",
       "      }\n",
       "    };var element = document.getElementById(\"2ba98769-ab3f-4e37-8a92-03fe51ca4d1f\");\n",
       "    if (element == null) {\n",
       "      console.log(\"Bokeh: ERROR: autoload.js configured with elementid '2ba98769-ab3f-4e37-8a92-03fe51ca4d1f' but no matching script tag was found. \")\n",
       "      return false;\n",
       "    }\n",
       "  \n",
       "    var js_urls = [];\n",
       "  \n",
       "    var inline_js = [\n",
       "      function(Bokeh) {\n",
       "        Bokeh.$(function() {\n",
       "            var docs_json = {\"978e438a-f813-4b67-9ad4-f7e845bbb2c9\":{\"roots\":{\"references\":[{\"attributes\":{\"line_color\":{\"value\":\"red\"},\"x\":{\"field\":\"x\"},\"y\":{\"field\":\"y\"}},\"id\":\"6b3c6756-794a-43ec-8a2d-2ac44e43deda\",\"type\":\"Line\"},{\"attributes\":{\"callback\":null},\"id\":\"d2e890da-b0d5-4d08-970c-0a0e6f655c97\",\"type\":\"DataRange1d\"},{\"attributes\":{\"data_source\":{\"id\":\"1a15501f-858d-4999-b568-82a389a64b11\",\"type\":\"ColumnDataSource\"},\"glyph\":{\"id\":\"6b3c6756-794a-43ec-8a2d-2ac44e43deda\",\"type\":\"Line\"},\"hover_glyph\":null,\"nonselection_glyph\":{\"id\":\"df1c8dbb-13ad-48a2-836e-9407b6abf6c2\",\"type\":\"Line\"},\"selection_glyph\":null},\"id\":\"93e8db02-6cdc-462b-a8ee-e43b9e13c573\",\"type\":\"GlyphRenderer\"},{\"attributes\":{\"axis_label\":\"Dambis Metallicity\",\"axis_label_text_font_size\":{\"value\":\"13pt\"},\"formatter\":{\"id\":\"219164f9-9d0e-4c0c-8951-d62a69fb3268\",\"type\":\"BasicTickFormatter\"},\"major_label_text_font_size\":{\"value\":\"13pt\"},\"plot\":{\"id\":\"b567fb7d-a6fd-4203-a1da-2c93da0e18d4\",\"subtype\":\"Figure\",\"type\":\"Plot\"},\"ticker\":{\"id\":\"e217df7a-5f1a-4e95-b5fb-3e196aff837c\",\"type\":\"BasicTicker\"}},\"id\":\"05ba5f51-7862-44d4-9d85-476a7a44f9c1\",\"type\":\"LinearAxis\"},{\"attributes\":{\"overlay\":{\"id\":\"134ddc20-a372-4d35-807b-04aece64b55d\",\"type\":\"BoxAnnotation\"},\"plot\":{\"id\":\"b567fb7d-a6fd-4203-a1da-2c93da0e18d4\",\"subtype\":\"Figure\",\"type\":\"Plot\"}},\"id\":\"35648794-c2ad-428b-824b-25d9d8725162\",\"type\":\"BoxZoomTool\"},{\"attributes\":{},\"id\":\"e217df7a-5f1a-4e95-b5fb-3e196aff837c\",\"type\":\"BasicTicker\"},{\"attributes\":{\"bottom_units\":\"screen\",\"fill_alpha\":{\"value\":0.5},\"fill_color\":{\"value\":\"lightgrey\"},\"left_units\":\"screen\",\"level\":\"overlay\",\"line_alpha\":{\"value\":1.0},\"line_color\":{\"value\":\"black\"},\"line_dash\":[4,4],\"line_width\":{\"value\":2},\"plot\":null,\"render_mode\":\"css\",\"right_units\":\"screen\",\"top_units\":\"screen\"},\"id\":\"134ddc20-a372-4d35-807b-04aece64b55d\",\"type\":\"BoxAnnotation\"},{\"attributes\":{},\"id\":\"ecd27019-0e25-4e46-a0a7-87fa9c682f1d\",\"type\":\"BasicTicker\"},{\"attributes\":{\"plot\":null,\"text\":\"Dambis spectroscopic vs GDR2 photometric metallicity of RR Lyr stars\",\"text_font_size\":{\"value\":\"13pt\"}},\"id\":\"2015efe5-c32b-482d-b9ce-e746020b61b7\",\"type\":\"Title\"},{\"attributes\":{\"plot\":{\"id\":\"b567fb7d-a6fd-4203-a1da-2c93da0e18d4\",\"subtype\":\"Figure\",\"type\":\"Plot\"},\"ticker\":{\"id\":\"e217df7a-5f1a-4e95-b5fb-3e196aff837c\",\"type\":\"BasicTicker\"}},\"id\":\"3e4bfc0a-deec-4cda-abc3-c7a1f1d34503\",\"type\":\"Grid\"},{\"attributes\":{\"callback\":null,\"overlay\":{\"id\":\"c2a39e47-7d67-47df-a8e3-d57c5111b44b\",\"type\":\"BoxAnnotation\"},\"plot\":{\"id\":\"b567fb7d-a6fd-4203-a1da-2c93da0e18d4\",\"subtype\":\"Figure\",\"type\":\"Plot\"},\"renderers\":[{\"id\":\"96fefd5a-f776-4daf-bbda-d492492d8cac\",\"type\":\"GlyphRenderer\"},{\"id\":\"93e8db02-6cdc-462b-a8ee-e43b9e13c573\",\"type\":\"GlyphRenderer\"}]},\"id\":\"e0532459-dab4-4881-ad79-614d612ef11f\",\"type\":\"BoxSelectTool\"},{\"attributes\":{\"plot\":{\"id\":\"b567fb7d-a6fd-4203-a1da-2c93da0e18d4\",\"subtype\":\"Figure\",\"type\":\"Plot\"}},\"id\":\"c14a764a-bbdd-4eb7-beb9-467eea3a5522\",\"type\":\"ResetTool\"},{\"attributes\":{\"plot\":{\"id\":\"b567fb7d-a6fd-4203-a1da-2c93da0e18d4\",\"subtype\":\"Figure\",\"type\":\"Plot\"}},\"id\":\"74cfcc98-915f-41ce-a9bd-1bf0c610a40a\",\"type\":\"PanTool\"},{\"attributes\":{\"callback\":null,\"column_names\":[\"y\",\"x\"],\"data\":{\"x\":[-3.0,0.5],\"y\":[-3.0,0.5]}},\"id\":\"1a15501f-858d-4999-b568-82a389a64b11\",\"type\":\"ColumnDataSource\"},{\"attributes\":{\"callback\":null,\"column_names\":[\"y\",\"x\"],\"data\":{\"x\":[-0.97,-0.08,-1.43,-1.21,-0.68,-1.44,-1.57,-1.3,-1.77,-1.33,-1.49,-1.06,-1.56,-1.39,-0.81,-2.06,-0.58,-0.88,-1.37,-0.84,-0.29,-1.75,-1.48,-0.32,-1.5,-1.92,-0.43,-1.12,-1.41,-1.68,-1.48,-0.85,-1.21,-1.98,-1.08,-1.37,-1.31,-1.92,-1.52,-1.53,-1.23,-1.89,-1.56,-2.0,-1.11,-1.01,-0.83,-1.89,-1.83,-1.6,-1.32,-1.66,-0.07,-1.45,-1.43,-1.7,-1.75,-1.36,-2.0,-1.5,-1.65,-1.26,-1.59,-1.61,-1.17,-1.68,-1.74,-1.8,-1.67,-1.54,-1.38,-1.69,-2.33,-0.5,-1.75,-0.54,-1.03,-0.14,-1.71,-1.26,-0.56,-1.24,-1.74,-1.24,-0.87,-2.12,-1.55,-1.33,-1.51,-1.11,-1.48,-1.26,-1.35,-0.93,-1.95,-1.62,-1.81,-0.45,-1.49,-2.0,-1.68,-1.92,-1.5,-0.67,-1.52,-2.01,-1.4,-2.09,-1.32,-1.48,-1.8,-1.7,-1.33,-1.42,-1.55,-1.45,-0.83,-1.36,-1.34,-1.66,-1.5,-2.04,-1.48,-1.47,-2.28,-1.93,-1.48,-1.47,-1.32,-0.59,-1.56,-1.59,-1.73,-0.9,-1.39,-1.98,-1.44,-1.03,-2.13,-0.26,-1.79,-1.56,-2.01,-2.42,-0.85,-1.54,-1.09,-1.28,-0.9,-1.22,-1.17,-1.25,-1.63,-1.55,-1.52,-1.34,-1.83,-1.6,-1.3,-1.8,-0.23,-1.72,-1.21,-1.89,-2.31,-0.98,-1.6,-1.48,-1.54,-1.64,-1.77,-1.52,-1.99,-1.54,-0.8,-1.41,-1.62,-2.13,-1.5,-0.43,-1.6,-1.29,-0.73,-1.42,-0.57,-1.26,-2.16,-1.79,-1.25,-1.75,-1.06,-2.25,-1.51,-1.89,-1.18,-0.04,-2.03,-1.2,-1.67,-1.59,-0.74,-1.47,-2.51,-1.16,-0.28,-1.02,-0.17,-1.81,0.07,-1.64,-1.82,-1.95,-1.82,-1.19,-1.49,-1.64,-1.17,-0.82,-1.19,-1.49,-1.32,-2.18,-1.52,-0.85],\"y\":[-1.14039800251,0.0482333484229,-1.2133542582799999,-0.9707965625839999,-0.136747855664,-1.8265787173400003,-1.4979770918900002,0.020998641812,-1.93920123754,-0.7874932912170001,-1.50165087657,-0.8248083290189999,-0.674231310429,-0.25910725218499997,-0.463814628547,-0.767688509564,0.012024773275600002,-0.6545043420269999,-1.92026538915,-0.5165743233300001,0.06513667400880001,-1.81054751115,-1.02838234109,0.143415407311,-1.3316133119,-1.1304964852,-0.484991011717,-1.4501941466400001,-1.3526378275,-1.68814899792,-2.2134467767099997,-0.100421874092,-0.876890449277,-1.14729498888,-1.9812690076599997,-1.53621632963,-0.9251351399850001,-1.5750332473700002,-1.73076002336,-1.64376961056,-1.25921696504,-1.76104004463,-0.541072628819,-1.5464497062,-0.963809709596,-0.76672828631,-0.900425250089,-0.337560794444,-2.31347590712,-0.996543741249,-1.69966126004,-0.673679149166,0.061589454423000005,-1.8822573516799999,-0.783058053037,-0.899768109605,-1.2214446670899999,-1.4262717883200002,-1.86586174363,-1.7433713743500001,-1.3829063290099999,-1.12135271821,-0.273152466991,-0.9089650011570001,-1.6058480120700003,-0.7503434302259999,-1.24044547918,-0.890684996717,-0.541658138936,-0.434548680097,-0.979239436758,-1.92741405004,-2.0677398118,-0.30193926513700003,-1.32063544066,-1.89342294254,-1.16797539842,0.0290079207595,-1.6558941906,-1.64834548572,-0.165328477918,-0.887508635495,-2.0030533145700002,-1.12757797616,-0.20863155325399999,-1.9737125395099997,-1.64799676166,-1.09350198898,-1.31146562527,-1.18230626,-1.4884588957799998,-1.44997308591,-1.64879963581,-0.202950775381,-0.511835151652,-1.25528031807,-1.5878611533899998,-0.364363276259,-2.33819859081,-1.18949098419,-1.1687347153799998,-1.67759509966,-1.58178258194,-0.17443322478599999,-0.652379366512,-2.09629677042,-2.26752014393,-0.93638467506,-1.28424881231,-2.1358814588799997,-1.54829155197,-0.934371353443,-2.23460864417,-1.05375737662,-0.37089524457199996,-1.1338062548799999,-0.45632368330300005,-2.04856631768,-1.79029664025,-1.8351569077599998,-0.817687586052,-1.9257165742099998,-0.9861175587190001,-0.367247866179,-2.9658061189700002,-1.81620749383,-0.841211160816,-1.18148755698,-0.985698501526,0.0202819644094,-1.07390497717,-0.973780770712,-1.84059736165,-1.7689303828599998,-2.55327369999,-1.82007877631,-0.991443050125,-1.03054532446,-1.3178968640000002,0.13277878420199998,-0.295209135734,-0.5216343876380001,-1.90567677688,-2.99719495515,-0.702590600679,-0.659740415809,-1.1672047838500001,-0.588933357486,-0.180073640909,-0.772624495446,-1.3266886490899998,-0.9238300575030001,-1.27287956138,-0.9663356814700002,-1.7554765901400002,-1.35306728697,-2.6880528746,-1.84878895779,-1.20722098312,-1.35653051387,-2.3822000726,-2.9575627451899997,-0.630359072097,-2.64797127364,-1.14520573654,-0.330455814992,-2.0516485645800002,-1.50600228462,-1.89675188277,-0.663766912597,-1.62921984956,-1.7740509194799998,-2.3437657614,-1.15573718525,-1.4106527185799997,-0.57246062413,-0.8977548226600001,-2.44306472761,-1.6222696615099998,-0.008753337476790002,-1.5487570521,-0.526238656967,-0.410388741303,-1.72565706605,-0.306054148217,-0.418475622371,-0.5909668339190001,-1.3677912838799997,-1.02780991513,-2.20000018961,-0.660053221313,-2.20234297412,-1.0427860822,-2.3295831324400003,-0.300142392497,-0.24514049719300002,-1.9427459885099998,-0.46329840438600006,-1.52865582106,-0.9912806473810001,0.0965995086521,-2.19624483294,-2.5686401608400002,-1.11235246354,-0.268676475936,-0.693387639861,0.0169555253798,-1.9173391082900002,-2.32568675973,-1.46188938461,-2.99078246869,-2.50174539901,-1.4307974141799997,-0.900282824541,-0.5604997292939999,-1.4618268631,-0.90387396205,-0.220682369969,-1.9995485376700002,-1.87754708507,-1.21917263915,-1.37628594805,-1.62821618354,-0.254631197962]}},\"id\":\"5871955c-fdad-454c-b8f3-1928ed508226\",\"type\":\"ColumnDataSource\"},{\"attributes\":{\"plot\":{\"id\":\"b567fb7d-a6fd-4203-a1da-2c93da0e18d4\",\"subtype\":\"Figure\",\"type\":\"Plot\"}},\"id\":\"9a387520-80f7-4ae1-adad-db5be5e47782\",\"type\":\"SaveTool\"},{\"attributes\":{\"bottom_units\":\"screen\",\"fill_alpha\":{\"value\":0.5},\"fill_color\":{\"value\":\"lightgrey\"},\"left_units\":\"screen\",\"level\":\"overlay\",\"line_alpha\":{\"value\":1.0},\"line_color\":{\"value\":\"black\"},\"line_dash\":[4,4],\"line_width\":{\"value\":2},\"plot\":null,\"render_mode\":\"css\",\"right_units\":\"screen\",\"top_units\":\"screen\"},\"id\":\"c2a39e47-7d67-47df-a8e3-d57c5111b44b\",\"type\":\"BoxAnnotation\"},{\"attributes\":{\"line_alpha\":{\"value\":0.1},\"line_color\":{\"value\":\"#1f77b4\"},\"x\":{\"field\":\"x\"},\"y\":{\"field\":\"y\"}},\"id\":\"df1c8dbb-13ad-48a2-836e-9407b6abf6c2\",\"type\":\"Line\"},{\"attributes\":{\"active_drag\":\"auto\",\"active_scroll\":\"auto\",\"active_tap\":\"auto\",\"tools\":[{\"id\":\"74cfcc98-915f-41ce-a9bd-1bf0c610a40a\",\"type\":\"PanTool\"},{\"id\":\"93662f6a-6085-4841-a431-b6582c098461\",\"type\":\"WheelZoomTool\"},{\"id\":\"35648794-c2ad-428b-824b-25d9d8725162\",\"type\":\"BoxZoomTool\"},{\"id\":\"e0532459-dab4-4881-ad79-614d612ef11f\",\"type\":\"BoxSelectTool\"},{\"id\":\"9a387520-80f7-4ae1-adad-db5be5e47782\",\"type\":\"SaveTool\"},{\"id\":\"c14a764a-bbdd-4eb7-beb9-467eea3a5522\",\"type\":\"ResetTool\"}]},\"id\":\"b92653f0-65c4-4efb-80fe-b7bcafa15855\",\"type\":\"Toolbar\"},{\"attributes\":{\"callback\":null},\"id\":\"d1d98910-ec22-4588-886a-a84abc6e61c0\",\"type\":\"DataRange1d\"},{\"attributes\":{},\"id\":\"219164f9-9d0e-4c0c-8951-d62a69fb3268\",\"type\":\"BasicTickFormatter\"},{\"attributes\":{\"plot\":{\"id\":\"b567fb7d-a6fd-4203-a1da-2c93da0e18d4\",\"subtype\":\"Figure\",\"type\":\"Plot\"}},\"id\":\"93662f6a-6085-4841-a431-b6582c098461\",\"type\":\"WheelZoomTool\"},{\"attributes\":{},\"id\":\"dfc7b2c8-cf58-4235-86fd-bccabc95f42c\",\"type\":\"BasicTickFormatter\"},{\"attributes\":{\"below\":[{\"id\":\"05ba5f51-7862-44d4-9d85-476a7a44f9c1\",\"type\":\"LinearAxis\"}],\"left\":[{\"id\":\"63a39467-0a28-4dea-8982-7872420a484c\",\"type\":\"LinearAxis\"}],\"plot_height\":500,\"plot_width\":700,\"renderers\":[{\"id\":\"05ba5f51-7862-44d4-9d85-476a7a44f9c1\",\"type\":\"LinearAxis\"},{\"id\":\"3e4bfc0a-deec-4cda-abc3-c7a1f1d34503\",\"type\":\"Grid\"},{\"id\":\"63a39467-0a28-4dea-8982-7872420a484c\",\"type\":\"LinearAxis\"},{\"id\":\"6c392ae3-2015-4def-8007-4236b40ddf06\",\"type\":\"Grid\"},{\"id\":\"134ddc20-a372-4d35-807b-04aece64b55d\",\"type\":\"BoxAnnotation\"},{\"id\":\"c2a39e47-7d67-47df-a8e3-d57c5111b44b\",\"type\":\"BoxAnnotation\"},{\"id\":\"96fefd5a-f776-4daf-bbda-d492492d8cac\",\"type\":\"GlyphRenderer\"},{\"id\":\"93e8db02-6cdc-462b-a8ee-e43b9e13c573\",\"type\":\"GlyphRenderer\"}],\"title\":{\"id\":\"2015efe5-c32b-482d-b9ce-e746020b61b7\",\"type\":\"Title\"},\"tool_events\":{\"id\":\"c482b78b-e322-417c-823f-9a6836a19ea2\",\"type\":\"ToolEvents\"},\"toolbar\":{\"id\":\"b92653f0-65c4-4efb-80fe-b7bcafa15855\",\"type\":\"Toolbar\"},\"x_range\":{\"id\":\"d2e890da-b0d5-4d08-970c-0a0e6f655c97\",\"type\":\"DataRange1d\"},\"y_range\":{\"id\":\"d1d98910-ec22-4588-886a-a84abc6e61c0\",\"type\":\"DataRange1d\"}},\"id\":\"b567fb7d-a6fd-4203-a1da-2c93da0e18d4\",\"subtype\":\"Figure\",\"type\":\"Plot\"},{\"attributes\":{},\"id\":\"c482b78b-e322-417c-823f-9a6836a19ea2\",\"type\":\"ToolEvents\"},{\"attributes\":{\"data_source\":{\"id\":\"5871955c-fdad-454c-b8f3-1928ed508226\",\"type\":\"ColumnDataSource\"},\"glyph\":{\"id\":\"835eac02-da71-4c21-845f-7f2103c0bdf0\",\"type\":\"Circle\"},\"hover_glyph\":null,\"nonselection_glyph\":{\"id\":\"0afeeb1a-aa51-4e97-89a2-b65174e1355c\",\"type\":\"Circle\"},\"selection_glyph\":null},\"id\":\"96fefd5a-f776-4daf-bbda-d492492d8cac\",\"type\":\"GlyphRenderer\"},{\"attributes\":{\"fill_alpha\":{\"value\":0.1},\"fill_color\":{\"value\":\"#1f77b4\"},\"line_alpha\":{\"value\":0.1},\"line_color\":{\"value\":\"#1f77b4\"},\"x\":{\"field\":\"x\"},\"y\":{\"field\":\"y\"}},\"id\":\"0afeeb1a-aa51-4e97-89a2-b65174e1355c\",\"type\":\"Circle\"},{\"attributes\":{\"dimension\":1,\"plot\":{\"id\":\"b567fb7d-a6fd-4203-a1da-2c93da0e18d4\",\"subtype\":\"Figure\",\"type\":\"Plot\"},\"ticker\":{\"id\":\"ecd27019-0e25-4e46-a0a7-87fa9c682f1d\",\"type\":\"BasicTicker\"}},\"id\":\"6c392ae3-2015-4def-8007-4236b40ddf06\",\"type\":\"Grid\"},{\"attributes\":{\"axis_label\":\"GDR2 Metallicity\",\"axis_label_text_font_size\":{\"value\":\"13pt\"},\"formatter\":{\"id\":\"dfc7b2c8-cf58-4235-86fd-bccabc95f42c\",\"type\":\"BasicTickFormatter\"},\"major_label_text_font_size\":{\"value\":\"13pt\"},\"plot\":{\"id\":\"b567fb7d-a6fd-4203-a1da-2c93da0e18d4\",\"subtype\":\"Figure\",\"type\":\"Plot\"},\"ticker\":{\"id\":\"ecd27019-0e25-4e46-a0a7-87fa9c682f1d\",\"type\":\"BasicTicker\"}},\"id\":\"63a39467-0a28-4dea-8982-7872420a484c\",\"type\":\"LinearAxis\"},{\"attributes\":{\"fill_color\":{\"value\":\"#1f77b4\"},\"line_color\":{\"value\":\"#1f77b4\"},\"x\":{\"field\":\"x\"},\"y\":{\"field\":\"y\"}},\"id\":\"835eac02-da71-4c21-845f-7f2103c0bdf0\",\"type\":\"Circle\"}],\"root_ids\":[\"b567fb7d-a6fd-4203-a1da-2c93da0e18d4\"]},\"title\":\"Bokeh Application\",\"version\":\"0.12.2\"}};\n",
       "            var render_items = [{\"docid\":\"978e438a-f813-4b67-9ad4-f7e845bbb2c9\",\"elementid\":\"2ba98769-ab3f-4e37-8a92-03fe51ca4d1f\",\"modelid\":\"b567fb7d-a6fd-4203-a1da-2c93da0e18d4\"}];\n",
       "            \n",
       "            Bokeh.embed.embed_items(docs_json, render_items);\n",
       "        });\n",
       "      },\n",
       "      function(Bokeh) {\n",
       "      }\n",
       "    ];\n",
       "  \n",
       "    function run_inline_js() {\n",
       "      \n",
       "      if ((window.Bokeh !== undefined) || (force === \"1\")) {\n",
       "        for (var i = 0; i < inline_js.length; i++) {\n",
       "          inline_js[i](window.Bokeh);\n",
       "        }if (force === \"1\") {\n",
       "          display_loaded();\n",
       "        }} else if (Date.now() < window._bokeh_timeout) {\n",
       "        setTimeout(run_inline_js, 100);\n",
       "      } else if (!window._bokeh_failed_load) {\n",
       "        console.log(\"Bokeh: BokehJS failed to load within specified timeout.\");\n",
       "        window._bokeh_failed_load = true;\n",
       "      } else if (!force) {\n",
       "        var cell = $(\"#2ba98769-ab3f-4e37-8a92-03fe51ca4d1f\").parents('.cell').data().cell;\n",
       "        cell.output_area.append_execute_result(NB_LOAD_WARNING)\n",
       "      }\n",
       "  \n",
       "    }\n",
       "  \n",
       "    if (window._bokeh_is_loading === 0) {\n",
       "      console.log(\"Bokeh: BokehJS loaded, going straight to plotting\");\n",
       "      run_inline_js();\n",
       "    } else {\n",
       "      load_libs(js_urls, function() {\n",
       "        console.log(\"Bokeh: BokehJS plotting callback run at\", now());\n",
       "        run_inline_js();\n",
       "      });\n",
       "    }\n",
       "  }(this));\n",
       "</script>"
      ]
     },
     "metadata": {},
     "output_type": "display_data"
    }
   ],
   "source": [
    "tools = \"pan, wheel_zoom, box_zoom, box_select, save, reset\"\n",
    "title = 'Dambis spectroscopic vs GDR2 photometric metallicity of RR Lyr stars'\n",
    "\n",
    "fig = Figure(width=700, height=500, x_axis_label='Dambis Metallicity', y_axis_label='GDR2 Metallicity', title=title, tools=tools)\n",
    "fig.circle(subDambis['FeH'], subDambis['metallicity'])\n",
    "fig.line([-3, 0.5], [-3, 0.5], color=\"red\")\n",
    "show(fig)"
   ]
  },
  {
   "cell_type": "code",
   "execution_count": 27,
   "metadata": {
    "collapsed": false
   },
   "outputs": [
    {
     "name": "stdout",
     "output_type": "stream",
     "text": [
      "Slope:  0.816518239982\n",
      "Intercept:  -0.0682403116796\n"
     ]
    }
   ],
   "source": [
    "slope, intercept = np.polyfit(subDambis['FeH'], subDambis['metallicity'], 1)\n",
    "print(\"Slope: \", slope)\n",
    "print(\"Intercept: \",intercept)"
   ]
  },
  {
   "cell_type": "code",
   "execution_count": 28,
   "metadata": {
    "collapsed": false
   },
   "outputs": [
    {
     "name": "stdout",
     "output_type": "stream",
     "text": [
      "RANSAC Slope:  1.15075942117\n",
      "RANSAC Intercept:  0.0\n"
     ]
    }
   ],
   "source": [
    "X = np.ones([len(subDambis), 2])\n",
    "X[:,0] = subDambis['FeH']\n",
    "y = subDambis['metallicity']\n",
    "ransac = linear_model.RANSACRegressor()\n",
    "ransac.fit(X, y)\n",
    "slope, intercept = ransac.estimator_.coef_\n",
    "print(\"RANSAC Slope: \", slope)\n",
    "print(\"RANSAC Intercept: \", intercept)"
   ]
  },
  {
   "cell_type": "markdown",
   "metadata": {},
   "source": [
    "# Mean absolute G magnitude and uncertainty"
   ]
  },
  {
   "cell_type": "markdown",
   "metadata": {},
   "source": [
    "M_G-[Fe/H] relation and coefficients from Muraveva et al. (2018)"
   ]
  },
  {
   "cell_type": "code",
   "execution_count": 29,
   "metadata": {
    "collapsed": false
   },
   "outputs": [],
   "source": [
    "a = 0.32\n",
    "a_error = 0.04\n",
    "b = 1.11\n",
    "b_error = 0.06\n",
    "Cov_ab = 0.95*0.04*0.06\n",
    "\n",
    "Z = Dambis['FeH']\n",
    "abs_mag = a*Z + b"
   ]
  },
  {
   "cell_type": "markdown",
   "metadata": {},
   "source": [
    "Fit Gaussian to absolute magnitudes from Dambis sample"
   ]
  },
  {
   "cell_type": "code",
   "execution_count": 30,
   "metadata": {
    "collapsed": false
   },
   "outputs": [
    {
     "data": {
      "image/png": "[encoded data removed]",
      "text/plain": [
       "<Figure size 432x288 with 1 Axes>"
      ]
     },
     "metadata": {},
     "output_type": "display_data"
    }
   ],
   "source": [
    "def gauss(x,a,x0,sigma):\n",
    "    return a*np.exp(-(x-x0)**2/(2*sigma**2))/(sigma*np.sqrt(2*np.pi))\n",
    "\n",
    "bin = 30\n",
    "bins = np.linspace(min(abs_mag),max(abs_mag), bin+1)\n",
    "hist, edges = np.histogram(abs_mag, density=False, bins=bins)\n",
    "binscenters = np.array([(edges[i] + edges[i+1])/2 for i in range(len(edges)-1)])\n",
    "popt, pcov = curve_fit(gauss, xdata=binscenters, ydata=hist, p0=[max(hist), np.mean(abs_mag), np.std(abs_mag)])\n",
    "\n",
    "\n",
    "xspace = np.linspace(min(abs_mag), max(abs_mag), 100000)\n",
    "plt.bar(binscenters, hist, width=(edges[1]-edges[0]), color='navy')\n",
    "plt.plot(xspace, gauss(xspace, *popt), color='red', linewidth=2.5)\n",
    "plt.xlim(min(abs_mag),max(abs_mag))\n",
    "plt.xlabel('Absolute magnitude')\n",
    "plt.ylabel('Amount')\n",
    "plt.title('Histogram of $\\mathrm{M_G}$: bins=%d, mu=%.3f, sigma=%.3f' %(bin,popt[1],popt[2]))\n",
    "plt.grid(True)\n",
    "plt.show()\n"
   ]
  },
  {
   "cell_type": "code",
   "execution_count": 31,
   "metadata": {
    "collapsed": false
   },
   "outputs": [
    {
     "name": "stdout",
     "output_type": "stream",
     "text": [
      "0.625901501839 0.157333499401\n"
     ]
    }
   ],
   "source": [
    "M_G = popt[1]\n",
    "M_G_var = a**2*np.var(Z) + np.mean(Z**2)*a_error**2 + b_error**2 + 2*np.mean(Z)*Cov_ab\n",
    "print(M_G, np.sqrt(M_G_var))\n",
    "M_G_error = np.full(len(G_error),np.sqrt(M_G_var))"
   ]
  },
  {
   "cell_type": "markdown",
   "metadata": {},
   "source": [
    "# Extiction and uncertainty"
   ]
  },
  {
   "cell_type": "code",
   "execution_count": 32,
   "metadata": {
    "collapsed": false
   },
   "outputs": [],
   "source": [
    "A = 0.97883\n",
    "B = -0.14365\n",
    "C = 0.011077\n",
    "D = 0.034842\n",
    "E = -0.0041448\n",
    "\n",
    "def f(bp_rp,a_v):\n",
    "    return A + B*(bp_rp) + C*(bp_rp)**2 + D*a_v + E*a_v*(bp_rp)\n",
    "\n",
    "BP_RP = Gaia['phot_bp_mean_mag']-Gaia['phot_rp_mean_mag']\n",
    "BP_error = 2.5/(np.log(10)*Gaia['phot_bp_mean_flux_over_error'])\n",
    "RP_error = 2.5/(np.log(10)*Gaia['phot_rp_mean_flux_over_error'])\n",
    "BP_RP_error = np.sqrt(BP_error**2+RP_error**2)\n",
    "\n",
    "A_V = 2.742*Gaia['EBV_sfd']\n",
    "A_V_error = 2.742*0.16*abs(Gaia['EBV_sfd'])\n",
    "\n",
    "A_G = f(BP_RP,A_V)*A_V"
   ]
  },
  {
   "cell_type": "markdown",
   "metadata": {},
   "source": [
    "Monte Carlo to find uncertainty of A_G"
   ]
  },
  {
   "cell_type": "code",
   "execution_count": 36,
   "metadata": {
    "collapsed": false,
    "scrolled": false
   },
   "outputs": [
    {
     "data": {
      "text/plain": [
       "'\\nprint(\\'start\\')\\nmean = []\\nA_G_error = []\\nw = csv.writer(open(\"A_G_error.csv\",\"w\"))\\nfor i in range(len(A_G)):\\n    print(i)\\n    if not (i==121573 or i==166300):\\n        MCE=[]\\n        for j in range(1000):\\n            MCBP_RP = BP_RP[i] + np.random.normal(0,1)*BP_RP_error[i]\\n            MCA_V = A_V[i] + np.random.normal(0,1)*A_V_error[i]\\n            MCA_G = f(MCBP_RP,MCA_V)*MCA_V\\n            MCE.append(MCA_G)\\n        mean.append(np.mean(MCE))\\n        A_G_error.append(np.std(MCE))\\n        w.writerow([A_G[i],np.mean(MCE),np.std(MCE)])\\n'"
      ]
     },
     "execution_count": 36,
     "metadata": {},
     "output_type": "execute_result"
    }
   ],
   "source": [
    "mean = []\n",
    "A_G_error = []\n",
    "w = csv.writer(open(\"A_G_error.csv\",\"w\"))\n",
    "for i in range(len(A_G)):\n",
    "    print(i)\n",
    "    if not (i==121573 or i==166300): #no BP_RP for these rows\n",
    "        MCE=[]\n",
    "        for j in range(1000):\n",
    "            MCBP_RP = BP_RP[i] + np.random.normal(0,1)*BP_RP_error[i]\n",
    "            MCA_V = A_V[i] + np.random.normal(0,1)*A_V_error[i]\n",
    "            MCA_G = f(MCBP_RP,MCA_V)*MCA_V\n",
    "            MCE.append(MCA_G)\n",
    "        mean.append(np.mean(MCE))\n",
    "        A_G_error.append(np.std(MCE))\n",
    "        w.writerow([A_G[i],np.mean(MCE),np.std(MCE)])\n"
   ]
  },
  {
   "cell_type": "markdown",
   "metadata": {},
   "source": [
    "# Distance"
   ]
  },
  {
   "cell_type": "code",
   "execution_count": 33,
   "metadata": {
    "collapsed": false
   },
   "outputs": [
    {
     "data": {
      "text/html": [
       "\n",
       "\n",
       "    <div class=\"bk-root\">\n",
       "        <div class=\"plotdiv\" id=\"9f941167-6a89-47f8-8884-4063966bda50\"></div>\n",
       "    </div>\n",
       "<script type=\"text/javascript\">\n",
       "  \n",
       "  (function(global) {\n",
       "    function now() {\n",
       "      return new Date();\n",
       "    }\n",
       "  \n",
       "    var force = \"\";\n",
       "  \n",
       "    if (typeof (window._bokeh_onload_callbacks) === \"undefined\" || force !== \"\") {\n",
       "      window._bokeh_onload_callbacks = [];\n",
       "      window._bokeh_is_loading = undefined;\n",
       "    }\n",
       "  \n",
       "  \n",
       "    \n",
       "    if (typeof (window._bokeh_timeout) === \"undefined\" || force !== \"\") {\n",
       "      window._bokeh_timeout = Date.now() + 0;\n",
       "      window._bokeh_failed_load = false;\n",
       "    }\n",
       "  \n",
       "    var NB_LOAD_WARNING = {'data': {'text/html':\n",
       "       \"<div style='background-color: #fdd'>\\n\"+\n",
       "       \"<p>\\n\"+\n",
       "       \"BokehJS does not appear to have successfully loaded. If loading BokehJS from CDN, this \\n\"+\n",
       "       \"may be due to a slow or bad network connection. Possible fixes:\\n\"+\n",
       "       \"</p>\\n\"+\n",
       "       \"<ul>\\n\"+\n",
       "       \"<li>re-rerun `output_notebook()` to attempt to load from CDN again, or</li>\\n\"+\n",
       "       \"<li>use INLINE resources instead, as so:</li>\\n\"+\n",
       "       \"</ul>\\n\"+\n",
       "       \"<code>\\n\"+\n",
       "       \"from bokeh.resources import INLINE\\n\"+\n",
       "       \"output_notebook(resources=INLINE)\\n\"+\n",
       "       \"</code>\\n\"+\n",
       "       \"</div>\"}};\n",
       "  \n",
       "    function display_loaded() {\n",
       "      if (window.Bokeh !== undefined) {\n",
       "        Bokeh.$(\"#9f941167-6a89-47f8-8884-4063966bda50\").text(\"BokehJS successfully loaded.\");\n",
       "      } else if (Date.now() < window._bokeh_timeout) {\n",
       "        setTimeout(display_loaded, 100)\n",
       "      }\n",
       "    }\n",
       "  \n",
       "    function run_callbacks() {\n",
       "      window._bokeh_onload_callbacks.forEach(function(callback) { callback() });\n",
       "      delete window._bokeh_onload_callbacks\n",
       "      console.info(\"Bokeh: all callbacks have finished\");\n",
       "    }\n",
       "  \n",
       "    function load_libs(js_urls, callback) {\n",
       "      window._bokeh_onload_callbacks.push(callback);\n",
       "      if (window._bokeh_is_loading > 0) {\n",
       "        console.log(\"Bokeh: BokehJS is being loaded, scheduling callback at\", now());\n",
       "        return null;\n",
       "      }\n",
       "      if (js_urls == null || js_urls.length === 0) {\n",
       "        run_callbacks();\n",
       "        return null;\n",
       "      }\n",
       "      console.log(\"Bokeh: BokehJS not loaded, scheduling load and callback at\", now());\n",
       "      window._bokeh_is_loading = js_urls.length;\n",
       "      for (var i = 0; i < js_urls.length; i++) {\n",
       "        var url = js_urls[i];\n",
       "        var s = document.createElement('script');\n",
       "        s.src = url;\n",
       "        s.async = false;\n",
       "        s.onreadystatechange = s.onload = function() {\n",
       "          window._bokeh_is_loading--;\n",
       "          if (window._bokeh_is_loading === 0) {\n",
       "            console.log(\"Bokeh: all BokehJS libraries loaded\");\n",
       "            run_callbacks()\n",
       "          }\n",
       "        };\n",
       "        s.onerror = function() {\n",
       "          console.warn(\"failed to load library \" + url);\n",
       "        };\n",
       "        console.log(\"Bokeh: injecting script tag for BokehJS library: \", url);\n",
       "        document.getElementsByTagName(\"head\")[0].appendChild(s);\n",
       "      }\n",
       "    };var element = document.getElementById(\"9f941167-6a89-47f8-8884-4063966bda50\");\n",
       "    if (element == null) {\n",
       "      console.log(\"Bokeh: ERROR: autoload.js configured with elementid '9f941167-6a89-47f8-8884-4063966bda50' but no matching script tag was found. \")\n",
       "      return false;\n",
       "    }\n",
       "  \n",
       "    var js_urls = [];\n",
       "  \n",
       "    var inline_js = [\n",
       "      function(Bokeh) {\n",
       "        Bokeh.$(function() {\n",
       "            var docs_json = {\"47026b31-8a3b-469a-8946-a25198feb715\":{\"roots\":{\"references\":[{\"attributes\":{\"plot\":{\"id\":\"18da4408-5f22-4914-84d8-81d3e982bb18\",\"subtype\":\"Figure\",\"type\":\"Plot\"},\"ticker\":{\"id\":\"6e5b8592-a8ec-4683-8c8d-7f851da3cfac\",\"type\":\"BasicTicker\"}},\"id\":\"151a44b0-3a46-421e-a5f3-f3873747df3e\",\"type\":\"Grid\"},{\"attributes\":{\"callback\":null},\"id\":\"5494330e-35ea-4b45-bbc8-2eb86412cad8\",\"type\":\"DataRange1d\"},{\"attributes\":{},\"id\":\"aef07187-2bc2-4da1-9f5e-6e71ff15e011\",\"type\":\"BasicTickFormatter\"},{\"attributes\":{\"dimension\":1,\"plot\":{\"id\":\"18da4408-5f22-4914-84d8-81d3e982bb18\",\"subtype\":\"Figure\",\"type\":\"Plot\"},\"ticker\":{\"id\":\"7ab4f05c-eb79-4850-accf-60fe45e39a5d\",\"type\":\"BasicTicker\"}},\"id\":\"b8f09a11-a8e4-49ca-87bf-95f2e15291e1\",\"type\":\"Grid\"},{\"attributes\":{\"plot\":{\"id\":\"18da4408-5f22-4914-84d8-81d3e982bb18\",\"subtype\":\"Figure\",\"type\":\"Plot\"}},\"id\":\"a8296860-e66a-41a2-a13f-f3481d5dddfa\",\"type\":\"SaveTool\"},{\"attributes\":{\"plot\":{\"id\":\"18da4408-5f22-4914-84d8-81d3e982bb18\",\"subtype\":\"Figure\",\"type\":\"Plot\"}},\"id\":\"cc632018-3e29-414f-9b33-acca7f7ec767\",\"type\":\"PanTool\"},{\"attributes\":{\"callback\":null},\"id\":\"5dae525f-f618-44c9-8a84-cc60464c8397\",\"type\":\"DataRange1d\"},{\"attributes\":{},\"id\":\"9b956426-8f14-43f1-b299-5e560ef178dd\",\"type\":\"BasicTickFormatter\"},{\"attributes\":{\"callback\":null,\"column_names\":[\"right\",\"top\",\"left\"],\"data\":{\"left\":[4.004940780692092e-94,1.1637220950009017,2.3274441900018035,3.491166285002705,4.654888380003607,5.818610475004508,6.98233257000541,8.146054665006313,9.309776760007214,10.473498855008115,11.637220950009016,12.80094304500992,13.96466514001082,15.128387235011722,16.292109330012625,17.455831425013525,18.619553520014428,19.78327561501533,20.94699771001623,22.110719805017133,23.274441900018033,24.438163995018936,25.60188609001984,26.76560818502074,27.92933028002164,29.093052375022545,30.256774470023444,31.420496565024347,32.58421866002525,33.74794075502615,34.91166285002705,36.075384945027956,37.239107040028856,38.402829135029755,39.56655123003066,40.73027332503156,41.89399542003246,43.05771751503337,44.22143961003427,45.385161705035166,46.548883800036066,47.71260589503697,48.87632799003787,50.04005008503877,51.20377218003968,52.36749427504058,53.53121637004148,54.694938465042384,55.85866056004328,57.02238265504418,58.18610475004509,59.34982684504599,60.51354894004689,61.677271035047795,62.840993130048695,64.0047152250496,65.1684373200505,66.3321594150514,67.4958815100523,68.6596036050532,69.8233257000541,70.987047795055,72.15076989005591,73.3144919850568,74.47821408005771,75.64193617505862,76.80565827005951,77.96938036506042,79.13310246006132,80.29682455506222,81.46054665006312,82.62426874506403,83.78799084006492,84.95171293506583,86.11543503006673,87.27915712506763,88.44287922006853,89.60660131506944,90.77032341007033,91.93404550507124,93.09776760007213,94.26148969507304,95.42521179007394,96.58893388507484,97.75265598007574,98.91637807507665,100.08010017007754,101.24382226507845,102.40754436007936,103.57126645508025,104.73498855008116,105.89871064508206,107.06243274008295,108.22615483508386,109.38987693008477,110.55359902508566,111.71732112008657,112.88104321508747,114.04476531008837,115.20848740508927],\"right\":[1.1637220950009017,2.3274441900018035,3.491166285002705,4.654888380003607,5.818610475004508,6.98233257000541,8.146054665006313,9.309776760007214,10.473498855008115,11.637220950009016,12.80094304500992,13.96466514001082,15.128387235011722,16.292109330012625,17.455831425013525,18.619553520014428,19.78327561501533,20.94699771001623,22.110719805017133,23.274441900018033,24.438163995018936,25.60188609001984,26.76560818502074,27.92933028002164,29.093052375022545,30.256774470023444,31.420496565024347,32.58421866002525,33.74794075502615,34.91166285002705,36.075384945027956,37.239107040028856,38.402829135029755,39.56655123003066,40.73027332503156,41.89399542003246,43.05771751503337,44.22143961003427,45.385161705035166,46.548883800036066,47.71260589503697,48.87632799003787,50.04005008503877,51.20377218003968,52.36749427504058,53.53121637004148,54.694938465042384,55.85866056004328,57.02238265504418,58.18610475004509,59.34982684504599,60.51354894004689,61.677271035047795,62.840993130048695,64.0047152250496,65.1684373200505,66.3321594150514,67.4958815100523,68.6596036050532,69.8233257000541,70.987047795055,72.15076989005591,73.3144919850568,74.47821408005771,75.64193617505862,76.80565827005951,77.96938036506042,79.13310246006132,80.29682455506222,81.46054665006312,82.62426874506403,83.78799084006492,84.95171293506583,86.11543503006673,87.27915712506763,88.44287922006853,89.60660131506944,90.77032341007033,91.93404550507124,93.09776760007213,94.26148969507304,95.42521179007394,96.58893388507484,97.75265598007574,98.91637807507665,100.08010017007754,101.24382226507845,102.40754436007936,103.57126645508025,104.73498855008116,105.89871064508206,107.06243274008295,108.22615483508386,109.38987693008477,110.55359902508566,111.71732112008657,112.88104321508747,114.04476531008837,115.20848740508927,116.37220950009016],\"top\":[648,1107,2091,3701,6198,9905,13193,12671,10235,7636,6310,5493,4847,4491,4076,3815,3538,3302,2976,2854,2818,2960,3332,3192,2532,1939,1653,1455,1339,1274,1241,1302,1250,1327,1436,1543,1758,1977,2316,2713,2969,2974,2784,2427,1975,1528,1234,972,860,883,861,797,699,558,532,380,313,271,222,198,168,167,179,185,217,205,218,194,239,173,143,104,109,95,89,77,69,65,73,64,50,52,50,45,34,33,39,20,25,18,21,18,16,7,8,1,5,1,3,2]}},\"id\":\"383fd1c1-4a74-480d-9168-f519f10cc6e2\",\"type\":\"ColumnDataSource\"},{\"attributes\":{\"callback\":null,\"overlay\":{\"id\":\"966e7e11-5fb4-4686-9483-3c344cd4df4f\",\"type\":\"BoxAnnotation\"},\"plot\":{\"id\":\"18da4408-5f22-4914-84d8-81d3e982bb18\",\"subtype\":\"Figure\",\"type\":\"Plot\"},\"renderers\":[{\"id\":\"5977d9f0-2d54-40ae-ad74-b4e877bcb1bf\",\"type\":\"GlyphRenderer\"}]},\"id\":\"dfed18cd-3dfd-4b2c-a205-129ee8af8310\",\"type\":\"BoxSelectTool\"},{\"attributes\":{},\"id\":\"6e5b8592-a8ec-4683-8c8d-7f851da3cfac\",\"type\":\"BasicTicker\"},{\"attributes\":{\"plot\":null,\"text\":\"RR Lyrae distances\",\"text_font_size\":{\"value\":\"13pt\"}},\"id\":\"32797f53-8163-439b-92ec-77c923e2648f\",\"type\":\"Title\"},{\"attributes\":{\"active_drag\":\"auto\",\"active_scroll\":\"auto\",\"active_tap\":\"auto\",\"tools\":[{\"id\":\"cc632018-3e29-414f-9b33-acca7f7ec767\",\"type\":\"PanTool\"},{\"id\":\"3bdd643a-f40e-4327-b73e-9d1301754d80\",\"type\":\"WheelZoomTool\"},{\"id\":\"b2507996-203c-418a-828a-7a9d9a2784d5\",\"type\":\"BoxZoomTool\"},{\"id\":\"dfed18cd-3dfd-4b2c-a205-129ee8af8310\",\"type\":\"BoxSelectTool\"},{\"id\":\"a8296860-e66a-41a2-a13f-f3481d5dddfa\",\"type\":\"SaveTool\"},{\"id\":\"bb495864-3c03-4e93-b058-f69e7a41bcd8\",\"type\":\"ResetTool\"}]},\"id\":\"6775c71c-cf7d-4b1c-b9f2-37d17bda426e\",\"type\":\"Toolbar\"},{\"attributes\":{\"bottom\":{\"value\":0},\"fill_color\":{\"value\":\"#1f77b4\"},\"left\":{\"field\":\"left\"},\"right\":{\"field\":\"right\"},\"top\":{\"field\":\"top\"}},\"id\":\"baada728-bd23-4b21-98a2-7311acf49629\",\"type\":\"Quad\"},{\"attributes\":{\"below\":[{\"id\":\"73762e53-549e-4c27-977a-649c8f4753f8\",\"type\":\"LinearAxis\"}],\"left\":[{\"id\":\"edf0eabf-ce90-4751-93c2-cd019afd1d01\",\"type\":\"LinearAxis\"}],\"plot_height\":500,\"plot_width\":700,\"renderers\":[{\"id\":\"73762e53-549e-4c27-977a-649c8f4753f8\",\"type\":\"LinearAxis\"},{\"id\":\"151a44b0-3a46-421e-a5f3-f3873747df3e\",\"type\":\"Grid\"},{\"id\":\"edf0eabf-ce90-4751-93c2-cd019afd1d01\",\"type\":\"LinearAxis\"},{\"id\":\"b8f09a11-a8e4-49ca-87bf-95f2e15291e1\",\"type\":\"Grid\"},{\"id\":\"54a9f5d6-a4ba-47eb-9caa-c459a9dfba7f\",\"type\":\"BoxAnnotation\"},{\"id\":\"966e7e11-5fb4-4686-9483-3c344cd4df4f\",\"type\":\"BoxAnnotation\"},{\"id\":\"5977d9f0-2d54-40ae-ad74-b4e877bcb1bf\",\"type\":\"GlyphRenderer\"}],\"title\":{\"id\":\"32797f53-8163-439b-92ec-77c923e2648f\",\"type\":\"Title\"},\"tool_events\":{\"id\":\"d48cf498-fb81-4a34-9657-392a1f752754\",\"type\":\"ToolEvents\"},\"toolbar\":{\"id\":\"6775c71c-cf7d-4b1c-b9f2-37d17bda426e\",\"type\":\"Toolbar\"},\"x_range\":{\"id\":\"5dae525f-f618-44c9-8a84-cc60464c8397\",\"type\":\"DataRange1d\"},\"y_range\":{\"id\":\"5494330e-35ea-4b45-bbc8-2eb86412cad8\",\"type\":\"DataRange1d\"}},\"id\":\"18da4408-5f22-4914-84d8-81d3e982bb18\",\"subtype\":\"Figure\",\"type\":\"Plot\"},{\"attributes\":{\"plot\":{\"id\":\"18da4408-5f22-4914-84d8-81d3e982bb18\",\"subtype\":\"Figure\",\"type\":\"Plot\"}},\"id\":\"3bdd643a-f40e-4327-b73e-9d1301754d80\",\"type\":\"WheelZoomTool\"},{\"attributes\":{},\"id\":\"7ab4f05c-eb79-4850-accf-60fe45e39a5d\",\"type\":\"BasicTicker\"},{\"attributes\":{},\"id\":\"d48cf498-fb81-4a34-9657-392a1f752754\",\"type\":\"ToolEvents\"},{\"attributes\":{\"axis_label\":\"Count\",\"axis_label_text_font_size\":{\"value\":\"13pt\"},\"formatter\":{\"id\":\"9b956426-8f14-43f1-b299-5e560ef178dd\",\"type\":\"BasicTickFormatter\"},\"major_label_text_font_size\":{\"value\":\"13pt\"},\"plot\":{\"id\":\"18da4408-5f22-4914-84d8-81d3e982bb18\",\"subtype\":\"Figure\",\"type\":\"Plot\"},\"ticker\":{\"id\":\"7ab4f05c-eb79-4850-accf-60fe45e39a5d\",\"type\":\"BasicTicker\"}},\"id\":\"edf0eabf-ce90-4751-93c2-cd019afd1d01\",\"type\":\"LinearAxis\"},{\"attributes\":{\"bottom\":{\"value\":0},\"fill_alpha\":{\"value\":0.1},\"fill_color\":{\"value\":\"#1f77b4\"},\"left\":{\"field\":\"left\"},\"line_alpha\":{\"value\":0.1},\"line_color\":{\"value\":\"#1f77b4\"},\"right\":{\"field\":\"right\"},\"top\":{\"field\":\"top\"}},\"id\":\"0daf992e-3020-4af9-85b4-5b9e9ff9968f\",\"type\":\"Quad\"},{\"attributes\":{\"data_source\":{\"id\":\"383fd1c1-4a74-480d-9168-f519f10cc6e2\",\"type\":\"ColumnDataSource\"},\"glyph\":{\"id\":\"baada728-bd23-4b21-98a2-7311acf49629\",\"type\":\"Quad\"},\"hover_glyph\":null,\"nonselection_glyph\":{\"id\":\"0daf992e-3020-4af9-85b4-5b9e9ff9968f\",\"type\":\"Quad\"},\"selection_glyph\":null},\"id\":\"5977d9f0-2d54-40ae-ad74-b4e877bcb1bf\",\"type\":\"GlyphRenderer\"},{\"attributes\":{\"bottom_units\":\"screen\",\"fill_alpha\":{\"value\":0.5},\"fill_color\":{\"value\":\"lightgrey\"},\"left_units\":\"screen\",\"level\":\"overlay\",\"line_alpha\":{\"value\":1.0},\"line_color\":{\"value\":\"black\"},\"line_dash\":[4,4],\"line_width\":{\"value\":2},\"plot\":null,\"render_mode\":\"css\",\"right_units\":\"screen\",\"top_units\":\"screen\"},\"id\":\"966e7e11-5fb4-4686-9483-3c344cd4df4f\",\"type\":\"BoxAnnotation\"},{\"attributes\":{\"overlay\":{\"id\":\"54a9f5d6-a4ba-47eb-9caa-c459a9dfba7f\",\"type\":\"BoxAnnotation\"},\"plot\":{\"id\":\"18da4408-5f22-4914-84d8-81d3e982bb18\",\"subtype\":\"Figure\",\"type\":\"Plot\"}},\"id\":\"b2507996-203c-418a-828a-7a9d9a2784d5\",\"type\":\"BoxZoomTool\"},{\"attributes\":{\"axis_label\":\"Distance (kpc)\",\"axis_label_text_font_size\":{\"value\":\"13pt\"},\"formatter\":{\"id\":\"aef07187-2bc2-4da1-9f5e-6e71ff15e011\",\"type\":\"BasicTickFormatter\"},\"major_label_text_font_size\":{\"value\":\"13pt\"},\"plot\":{\"id\":\"18da4408-5f22-4914-84d8-81d3e982bb18\",\"subtype\":\"Figure\",\"type\":\"Plot\"},\"ticker\":{\"id\":\"6e5b8592-a8ec-4683-8c8d-7f851da3cfac\",\"type\":\"BasicTicker\"}},\"id\":\"73762e53-549e-4c27-977a-649c8f4753f8\",\"type\":\"LinearAxis\"},{\"attributes\":{\"plot\":{\"id\":\"18da4408-5f22-4914-84d8-81d3e982bb18\",\"subtype\":\"Figure\",\"type\":\"Plot\"}},\"id\":\"bb495864-3c03-4e93-b058-f69e7a41bcd8\",\"type\":\"ResetTool\"},{\"attributes\":{\"bottom_units\":\"screen\",\"fill_alpha\":{\"value\":0.5},\"fill_color\":{\"value\":\"lightgrey\"},\"left_units\":\"screen\",\"level\":\"overlay\",\"line_alpha\":{\"value\":1.0},\"line_color\":{\"value\":\"black\"},\"line_dash\":[4,4],\"line_width\":{\"value\":2},\"plot\":null,\"render_mode\":\"css\",\"right_units\":\"screen\",\"top_units\":\"screen\"},\"id\":\"54a9f5d6-a4ba-47eb-9caa-c459a9dfba7f\",\"type\":\"BoxAnnotation\"}],\"root_ids\":[\"18da4408-5f22-4914-84d8-81d3e982bb18\"]},\"title\":\"Bokeh Application\",\"version\":\"0.12.2\"}};\n",
       "            var render_items = [{\"docid\":\"47026b31-8a3b-469a-8946-a25198feb715\",\"elementid\":\"9f941167-6a89-47f8-8884-4063966bda50\",\"modelid\":\"18da4408-5f22-4914-84d8-81d3e982bb18\"}];\n",
       "            \n",
       "            Bokeh.embed.embed_items(docs_json, render_items);\n",
       "        });\n",
       "      },\n",
       "      function(Bokeh) {\n",
       "      }\n",
       "    ];\n",
       "  \n",
       "    function run_inline_js() {\n",
       "      \n",
       "      if ((window.Bokeh !== undefined) || (force === \"1\")) {\n",
       "        for (var i = 0; i < inline_js.length; i++) {\n",
       "          inline_js[i](window.Bokeh);\n",
       "        }if (force === \"1\") {\n",
       "          display_loaded();\n",
       "        }} else if (Date.now() < window._bokeh_timeout) {\n",
       "        setTimeout(run_inline_js, 100);\n",
       "      } else if (!window._bokeh_failed_load) {\n",
       "        console.log(\"Bokeh: BokehJS failed to load within specified timeout.\");\n",
       "        window._bokeh_failed_load = true;\n",
       "      } else if (!force) {\n",
       "        var cell = $(\"#9f941167-6a89-47f8-8884-4063966bda50\").parents('.cell').data().cell;\n",
       "        cell.output_area.append_execute_result(NB_LOAD_WARNING)\n",
       "      }\n",
       "  \n",
       "    }\n",
       "  \n",
       "    if (window._bokeh_is_loading === 0) {\n",
       "      console.log(\"Bokeh: BokehJS loaded, going straight to plotting\");\n",
       "      run_inline_js();\n",
       "    } else {\n",
       "      load_libs(js_urls, function() {\n",
       "        console.log(\"Bokeh: BokehJS plotting callback run at\", now());\n",
       "        run_inline_js();\n",
       "      });\n",
       "    }\n",
       "  }(this));\n",
       "</script>"
      ]
     },
     "metadata": {},
     "output_type": "display_data"
    }
   ],
   "source": [
    "d = 10**((G-A_G-M_G+5)/5)*10**(-3)\n",
    "\n",
    "hist, edges = np.histogram(d, density=False, bins=100)\n",
    "tools = \"pan, wheel_zoom, box_zoom, box_select, save, reset\"\n",
    "title = 'RR Lyrae distances'\n",
    "\n",
    "fig = Figure(width=700, height=500, x_axis_label='Distance (kpc)', y_axis_label='Count', title=title, tools=tools)\n",
    "fig.quad(top=hist, bottom=0, left=edges[:-1], right=edges[1:], line_color='black')\n",
    "show(fig)"
   ]
  },
  {
   "cell_type": "code",
   "execution_count": 39,
   "metadata": {
    "collapsed": false,
    "scrolled": true
   },
   "outputs": [
    {
     "name": "stdout",
     "output_type": "stream",
     "text": [
      "175162 175162 175162\n"
     ]
    },
    {
     "data": {
      "text/html": [
       "\n",
       "\n",
       "    <div class=\"bk-root\">\n",
       "        <div class=\"plotdiv\" id=\"82649cd5-30d1-4875-9b81-b3ec7dc0fb83\"></div>\n",
       "    </div>\n",
       "<script type=\"text/javascript\">\n",
       "  \n",
       "  (function(global) {\n",
       "    function now() {\n",
       "      return new Date();\n",
       "    }\n",
       "  \n",
       "    var force = \"\";\n",
       "  \n",
       "    if (typeof (window._bokeh_onload_callbacks) === \"undefined\" || force !== \"\") {\n",
       "      window._bokeh_onload_callbacks = [];\n",
       "      window._bokeh_is_loading = undefined;\n",
       "    }\n",
       "  \n",
       "  \n",
       "    \n",
       "    if (typeof (window._bokeh_timeout) === \"undefined\" || force !== \"\") {\n",
       "      window._bokeh_timeout = Date.now() + 0;\n",
       "      window._bokeh_failed_load = false;\n",
       "    }\n",
       "  \n",
       "    var NB_LOAD_WARNING = {'data': {'text/html':\n",
       "       \"<div style='background-color: #fdd'>\\n\"+\n",
       "       \"<p>\\n\"+\n",
       "       \"BokehJS does not appear to have successfully loaded. If loading BokehJS from CDN, this \\n\"+\n",
       "       \"may be due to a slow or bad network connection. Possible fixes:\\n\"+\n",
       "       \"</p>\\n\"+\n",
       "       \"<ul>\\n\"+\n",
       "       \"<li>re-rerun `output_notebook()` to attempt to load from CDN again, or</li>\\n\"+\n",
       "       \"<li>use INLINE resources instead, as so:</li>\\n\"+\n",
       "       \"</ul>\\n\"+\n",
       "       \"<code>\\n\"+\n",
       "       \"from bokeh.resources import INLINE\\n\"+\n",
       "       \"output_notebook(resources=INLINE)\\n\"+\n",
       "       \"</code>\\n\"+\n",
       "       \"</div>\"}};\n",
       "  \n",
       "    function display_loaded() {\n",
       "      if (window.Bokeh !== undefined) {\n",
       "        Bokeh.$(\"#82649cd5-30d1-4875-9b81-b3ec7dc0fb83\").text(\"BokehJS successfully loaded.\");\n",
       "      } else if (Date.now() < window._bokeh_timeout) {\n",
       "        setTimeout(display_loaded, 100)\n",
       "      }\n",
       "    }\n",
       "  \n",
       "    function run_callbacks() {\n",
       "      window._bokeh_onload_callbacks.forEach(function(callback) { callback() });\n",
       "      delete window._bokeh_onload_callbacks\n",
       "      console.info(\"Bokeh: all callbacks have finished\");\n",
       "    }\n",
       "  \n",
       "    function load_libs(js_urls, callback) {\n",
       "      window._bokeh_onload_callbacks.push(callback);\n",
       "      if (window._bokeh_is_loading > 0) {\n",
       "        console.log(\"Bokeh: BokehJS is being loaded, scheduling callback at\", now());\n",
       "        return null;\n",
       "      }\n",
       "      if (js_urls == null || js_urls.length === 0) {\n",
       "        run_callbacks();\n",
       "        return null;\n",
       "      }\n",
       "      console.log(\"Bokeh: BokehJS not loaded, scheduling load and callback at\", now());\n",
       "      window._bokeh_is_loading = js_urls.length;\n",
       "      for (var i = 0; i < js_urls.length; i++) {\n",
       "        var url = js_urls[i];\n",
       "        var s = document.createElement('script');\n",
       "        s.src = url;\n",
       "        s.async = false;\n",
       "        s.onreadystatechange = s.onload = function() {\n",
       "          window._bokeh_is_loading--;\n",
       "          if (window._bokeh_is_loading === 0) {\n",
       "            console.log(\"Bokeh: all BokehJS libraries loaded\");\n",
       "            run_callbacks()\n",
       "          }\n",
       "        };\n",
       "        s.onerror = function() {\n",
       "          console.warn(\"failed to load library \" + url);\n",
       "        };\n",
       "        console.log(\"Bokeh: injecting script tag for BokehJS library: \", url);\n",
       "        document.getElementsByTagName(\"head\")[0].appendChild(s);\n",
       "      }\n",
       "    };var element = document.getElementById(\"82649cd5-30d1-4875-9b81-b3ec7dc0fb83\");\n",
       "    if (element == null) {\n",
       "      console.log(\"Bokeh: ERROR: autoload.js configured with elementid '82649cd5-30d1-4875-9b81-b3ec7dc0fb83' but no matching script tag was found. \")\n",
       "      return false;\n",
       "    }\n",
       "  \n",
       "    var js_urls = [];\n",
       "  \n",
       "    var inline_js = [\n",
       "      function(Bokeh) {\n",
       "        Bokeh.$(function() {\n",
       "            var docs_json = {\"53d06645-6599-448b-bff2-2a9d0714ec42\":{\"roots\":{\"references\":[{\"attributes\":{\"plot\":{\"id\":\"9079a050-c5fa-4ef7-aea7-2c471356fcae\",\"subtype\":\"Figure\",\"type\":\"Plot\"}},\"id\":\"708812f6-5894-4634-b94a-36e4e0f92f6d\",\"type\":\"PanTool\"},{\"attributes\":{\"active_drag\":\"auto\",\"active_scroll\":\"auto\",\"active_tap\":\"auto\",\"tools\":[{\"id\":\"708812f6-5894-4634-b94a-36e4e0f92f6d\",\"type\":\"PanTool\"},{\"id\":\"9e34d0ab-1df9-4cf0-bbe2-f0f2013c55a0\",\"type\":\"WheelZoomTool\"},{\"id\":\"02baa34f-d043-4a49-ac80-5fdcc4200c50\",\"type\":\"BoxZoomTool\"},{\"id\":\"8bcf2286-d3cd-476d-822b-af6b68725d10\",\"type\":\"BoxSelectTool\"},{\"id\":\"dcf2344a-d620-4298-b93a-ff9db9950d74\",\"type\":\"SaveTool\"},{\"id\":\"f3fb7fc0-12b4-49a1-a685-b82e8f979988\",\"type\":\"ResetTool\"}]},\"id\":\"9ef5a7ae-5dc0-41a2-a5e9-b3739582840b\",\"type\":\"Toolbar\"},{\"attributes\":{\"data_source\":{\"id\":\"b7b102d1-4566-40e7-a807-643a0404a2b8\",\"type\":\"ColumnDataSource\"},\"glyph\":{\"id\":\"7466034f-8a50-47c3-821b-e88442fe8f49\",\"type\":\"Quad\"},\"hover_glyph\":null,\"nonselection_glyph\":{\"id\":\"59af518c-9706-4705-97df-8c0e4759ced1\",\"type\":\"Quad\"},\"selection_glyph\":null},\"id\":\"77ca38e0-5cdf-4cae-97e8-e5b1816a25e5\",\"type\":\"GlyphRenderer\"},{\"attributes\":{\"plot\":{\"id\":\"9079a050-c5fa-4ef7-aea7-2c471356fcae\",\"subtype\":\"Figure\",\"type\":\"Plot\"}},\"id\":\"dcf2344a-d620-4298-b93a-ff9db9950d74\",\"type\":\"SaveTool\"},{\"attributes\":{\"axis_label\":\"Count\",\"axis_label_text_font_size\":{\"value\":\"13pt\"},\"formatter\":{\"id\":\"008efbd3-8530-4b0c-a386-5a9e8453ab13\",\"type\":\"BasicTickFormatter\"},\"major_label_text_font_size\":{\"value\":\"13pt\"},\"plot\":{\"id\":\"9079a050-c5fa-4ef7-aea7-2c471356fcae\",\"subtype\":\"Figure\",\"type\":\"Plot\"},\"ticker\":{\"id\":\"3571450a-e322-4c23-9053-667a31432083\",\"type\":\"BasicTicker\"}},\"id\":\"cd6c920d-5da0-4fb2-8126-4d40dab54a8b\",\"type\":\"LinearAxis\"},{\"attributes\":{\"callback\":null,\"column_names\":[\"right\",\"top\",\"left\"],\"data\":{\"left\":[2.5745404539664004e-92,0.0990910678029022,0.1981821356058044,0.29727320340870655,0.3963642712116088,0.495455339014511,0.5945464068174131,0.6936374746203153,0.7927285424232176,0.8918196102261198,0.990910678029022,1.0900017458319242,1.1890928136348262,1.2881838814377284,1.3872749492406307,1.4863660170435329,1.585457084846435,1.6845481526493373,1.7836392204522395,1.8827302882551418,1.981821356058044,2.080912423860946,2.1800034916638484,2.2790945594667504,2.3781856272696524,2.477276695072555,2.576367762875457,2.6754588306783593,2.7745498984812613,2.8736409662841638,2.9727320340870658,3.071823101889968,3.17091416969287,3.270005237495772,3.3690963052986747,3.4681873731015767,3.567278440904479,3.666369508707381,3.7654605765102835,3.8645516443131855,3.963642712116088,4.0627337799189895,4.161824847721892,4.260915915524794,4.360006983327697,4.459098051130598,4.558189118933501,4.657280186736403,4.756371254539305,4.855462322342207,4.95455339014511,5.053644457948012,5.152735525750914,5.251826593553816,5.350917661356719,5.450008729159621,5.549099796962523,5.648190864765425,5.7472819325683275,5.846373000371229,5.9454640681741315,6.044555135977034,6.143646203779936,6.242737271582838,6.34182833938574,6.440919407188643,6.540010474991544,6.639101542794447,6.738192610597349,6.837283678400252,6.936374746203153,7.035465814006056,7.134556881808958,7.23364794961186,7.332739017414762,7.431830085217665,7.530921153020567,7.630012220823469,7.729103288626371,7.8281943564292735,7.927285424232176,8.026376492035078,8.125467559837979,8.224558627640882,8.323649695443784,8.422740763246686,8.521831831049589,8.620922898852491,8.720013966655394,8.819105034458294,8.918196102261197,9.0172871700641,9.116378237867002,9.215469305669904,9.314560373472807,9.413651441275709,9.51274250907861,9.611833576881512,9.710924644684415,9.810015712487317],\"right\":[0.0990910678029022,0.1981821356058044,0.29727320340870655,0.3963642712116088,0.495455339014511,0.5945464068174131,0.6936374746203153,0.7927285424232176,0.8918196102261198,0.990910678029022,1.0900017458319242,1.1890928136348262,1.2881838814377284,1.3872749492406307,1.4863660170435329,1.585457084846435,1.6845481526493373,1.7836392204522395,1.8827302882551418,1.981821356058044,2.080912423860946,2.1800034916638484,2.2790945594667504,2.3781856272696524,2.477276695072555,2.576367762875457,2.6754588306783593,2.7745498984812613,2.8736409662841638,2.9727320340870658,3.071823101889968,3.17091416969287,3.270005237495772,3.3690963052986747,3.4681873731015767,3.567278440904479,3.666369508707381,3.7654605765102835,3.8645516443131855,3.963642712116088,4.0627337799189895,4.161824847721892,4.260915915524794,4.360006983327697,4.459098051130598,4.558189118933501,4.657280186736403,4.756371254539305,4.855462322342207,4.95455339014511,5.053644457948012,5.152735525750914,5.251826593553816,5.350917661356719,5.450008729159621,5.549099796962523,5.648190864765425,5.7472819325683275,5.846373000371229,5.9454640681741315,6.044555135977034,6.143646203779936,6.242737271582838,6.34182833938574,6.440919407188643,6.540010474991544,6.639101542794447,6.738192610597349,6.837283678400252,6.936374746203153,7.035465814006056,7.134556881808958,7.23364794961186,7.332739017414762,7.431830085217665,7.530921153020567,7.630012220823469,7.729103288626371,7.8281943564292735,7.927285424232176,8.026376492035078,8.125467559837979,8.224558627640882,8.323649695443784,8.422740763246686,8.521831831049589,8.620922898852491,8.720013966655394,8.819105034458294,8.918196102261197,9.0172871700641,9.116378237867002,9.215469305669904,9.314560373472807,9.413651441275709,9.51274250907861,9.611833576881512,9.710924644684415,9.810015712487317,9.90910678029022],\"top\":[345,762,1737,2925,4285,6004,7702,8434,8165,7956,7476,6913,6541,5941,5573,5080,4731,4236,3958,4133,4165,3685,2985,2367,1996,1717,1516,1376,1335,1333,1455,1708,2158,2783,3641,4316,4465,4205,3615,2961,2347,2023,1720,1636,1287,1118,961,714,614,470,423,376,339,328,371,336,345,322,352,267,225,202,171,202,165,127,138,117,112,101,111,79,77,71,46,38,33,33,29,19,10,11,7,1,4,1,1,1,0,1,0,0,0,0,0,0,0,0,0,1]}},\"id\":\"b7b102d1-4566-40e7-a807-643a0404a2b8\",\"type\":\"ColumnDataSource\"},{\"attributes\":{\"plot\":null,\"text\":\"RR Lyrae distance uncertainties\",\"text_font_size\":{\"value\":\"13pt\"}},\"id\":\"3ff53fe1-ad15-4ab4-92d2-c06b68bc305f\",\"type\":\"Title\"},{\"attributes\":{\"callback\":null},\"id\":\"ae3860fb-afb6-4545-a80e-7bd03ec8bf0f\",\"type\":\"DataRange1d\"},{\"attributes\":{\"bottom\":{\"value\":0},\"fill_color\":{\"value\":\"#1f77b4\"},\"left\":{\"field\":\"left\"},\"right\":{\"field\":\"right\"},\"top\":{\"field\":\"top\"}},\"id\":\"7466034f-8a50-47c3-821b-e88442fe8f49\",\"type\":\"Quad\"},{\"attributes\":{},\"id\":\"3571450a-e322-4c23-9053-667a31432083\",\"type\":\"BasicTicker\"},{\"attributes\":{},\"id\":\"37eac8a4-ca2b-442b-b1bb-44277423e84f\",\"type\":\"BasicTickFormatter\"},{\"attributes\":{\"overlay\":{\"id\":\"a3ea5266-1c95-4c3c-8f2f-708fd6ededde\",\"type\":\"BoxAnnotation\"},\"plot\":{\"id\":\"9079a050-c5fa-4ef7-aea7-2c471356fcae\",\"subtype\":\"Figure\",\"type\":\"Plot\"}},\"id\":\"02baa34f-d043-4a49-ac80-5fdcc4200c50\",\"type\":\"BoxZoomTool\"},{\"attributes\":{\"plot\":{\"id\":\"9079a050-c5fa-4ef7-aea7-2c471356fcae\",\"subtype\":\"Figure\",\"type\":\"Plot\"}},\"id\":\"f3fb7fc0-12b4-49a1-a685-b82e8f979988\",\"type\":\"ResetTool\"},{\"attributes\":{},\"id\":\"05b2de95-bf4d-458c-ba85-cfad791d7b51\",\"type\":\"ToolEvents\"},{\"attributes\":{\"dimension\":1,\"plot\":{\"id\":\"9079a050-c5fa-4ef7-aea7-2c471356fcae\",\"subtype\":\"Figure\",\"type\":\"Plot\"},\"ticker\":{\"id\":\"3571450a-e322-4c23-9053-667a31432083\",\"type\":\"BasicTicker\"}},\"id\":\"3909e09b-4c26-4423-bfe9-de31d15aa0cd\",\"type\":\"Grid\"},{\"attributes\":{\"below\":[{\"id\":\"e30ca47c-fddd-4728-84b1-3db904837f68\",\"type\":\"LinearAxis\"}],\"left\":[{\"id\":\"cd6c920d-5da0-4fb2-8126-4d40dab54a8b\",\"type\":\"LinearAxis\"}],\"plot_height\":500,\"plot_width\":700,\"renderers\":[{\"id\":\"e30ca47c-fddd-4728-84b1-3db904837f68\",\"type\":\"LinearAxis\"},{\"id\":\"7b3a9e52-32fe-49f0-99c1-6782a9212330\",\"type\":\"Grid\"},{\"id\":\"cd6c920d-5da0-4fb2-8126-4d40dab54a8b\",\"type\":\"LinearAxis\"},{\"id\":\"3909e09b-4c26-4423-bfe9-de31d15aa0cd\",\"type\":\"Grid\"},{\"id\":\"a3ea5266-1c95-4c3c-8f2f-708fd6ededde\",\"type\":\"BoxAnnotation\"},{\"id\":\"40e00f45-5cd1-4bd3-b178-b746c7ee1b91\",\"type\":\"BoxAnnotation\"},{\"id\":\"77ca38e0-5cdf-4cae-97e8-e5b1816a25e5\",\"type\":\"GlyphRenderer\"}],\"title\":{\"id\":\"3ff53fe1-ad15-4ab4-92d2-c06b68bc305f\",\"type\":\"Title\"},\"tool_events\":{\"id\":\"05b2de95-bf4d-458c-ba85-cfad791d7b51\",\"type\":\"ToolEvents\"},\"toolbar\":{\"id\":\"9ef5a7ae-5dc0-41a2-a5e9-b3739582840b\",\"type\":\"Toolbar\"},\"x_range\":{\"id\":\"ae3860fb-afb6-4545-a80e-7bd03ec8bf0f\",\"type\":\"DataRange1d\"},\"y_range\":{\"id\":\"33d2ebd0-5319-46ca-bf31-ec7c0afecf56\",\"type\":\"DataRange1d\"}},\"id\":\"9079a050-c5fa-4ef7-aea7-2c471356fcae\",\"subtype\":\"Figure\",\"type\":\"Plot\"},{\"attributes\":{},\"id\":\"9408b7e2-d4e9-4968-a80c-edf0f83c9230\",\"type\":\"BasicTicker\"},{\"attributes\":{\"bottom\":{\"value\":0},\"fill_alpha\":{\"value\":0.1},\"fill_color\":{\"value\":\"#1f77b4\"},\"left\":{\"field\":\"left\"},\"line_alpha\":{\"value\":0.1},\"line_color\":{\"value\":\"#1f77b4\"},\"right\":{\"field\":\"right\"},\"top\":{\"field\":\"top\"}},\"id\":\"59af518c-9706-4705-97df-8c0e4759ced1\",\"type\":\"Quad\"},{\"attributes\":{\"axis_label\":\"Uncertainty on distance (kpc)\",\"axis_label_text_font_size\":{\"value\":\"13pt\"},\"formatter\":{\"id\":\"37eac8a4-ca2b-442b-b1bb-44277423e84f\",\"type\":\"BasicTickFormatter\"},\"major_label_text_font_size\":{\"value\":\"13pt\"},\"plot\":{\"id\":\"9079a050-c5fa-4ef7-aea7-2c471356fcae\",\"subtype\":\"Figure\",\"type\":\"Plot\"},\"ticker\":{\"id\":\"9408b7e2-d4e9-4968-a80c-edf0f83c9230\",\"type\":\"BasicTicker\"}},\"id\":\"e30ca47c-fddd-4728-84b1-3db904837f68\",\"type\":\"LinearAxis\"},{\"attributes\":{\"bottom_units\":\"screen\",\"fill_alpha\":{\"value\":0.5},\"fill_color\":{\"value\":\"lightgrey\"},\"left_units\":\"screen\",\"level\":\"overlay\",\"line_alpha\":{\"value\":1.0},\"line_color\":{\"value\":\"black\"},\"line_dash\":[4,4],\"line_width\":{\"value\":2},\"plot\":null,\"render_mode\":\"css\",\"right_units\":\"screen\",\"top_units\":\"screen\"},\"id\":\"40e00f45-5cd1-4bd3-b178-b746c7ee1b91\",\"type\":\"BoxAnnotation\"},{\"attributes\":{\"callback\":null},\"id\":\"33d2ebd0-5319-46ca-bf31-ec7c0afecf56\",\"type\":\"DataRange1d\"},{\"attributes\":{\"callback\":null,\"overlay\":{\"id\":\"40e00f45-5cd1-4bd3-b178-b746c7ee1b91\",\"type\":\"BoxAnnotation\"},\"plot\":{\"id\":\"9079a050-c5fa-4ef7-aea7-2c471356fcae\",\"subtype\":\"Figure\",\"type\":\"Plot\"},\"renderers\":[{\"id\":\"77ca38e0-5cdf-4cae-97e8-e5b1816a25e5\",\"type\":\"GlyphRenderer\"}]},\"id\":\"8bcf2286-d3cd-476d-822b-af6b68725d10\",\"type\":\"BoxSelectTool\"},{\"attributes\":{\"plot\":{\"id\":\"9079a050-c5fa-4ef7-aea7-2c471356fcae\",\"subtype\":\"Figure\",\"type\":\"Plot\"},\"ticker\":{\"id\":\"9408b7e2-d4e9-4968-a80c-edf0f83c9230\",\"type\":\"BasicTicker\"}},\"id\":\"7b3a9e52-32fe-49f0-99c1-6782a9212330\",\"type\":\"Grid\"},{\"attributes\":{\"plot\":{\"id\":\"9079a050-c5fa-4ef7-aea7-2c471356fcae\",\"subtype\":\"Figure\",\"type\":\"Plot\"}},\"id\":\"9e34d0ab-1df9-4cf0-bbe2-f0f2013c55a0\",\"type\":\"WheelZoomTool\"},{\"attributes\":{\"bottom_units\":\"screen\",\"fill_alpha\":{\"value\":0.5},\"fill_color\":{\"value\":\"lightgrey\"},\"left_units\":\"screen\",\"level\":\"overlay\",\"line_alpha\":{\"value\":1.0},\"line_color\":{\"value\":\"black\"},\"line_dash\":[4,4],\"line_width\":{\"value\":2},\"plot\":null,\"render_mode\":\"css\",\"right_units\":\"screen\",\"top_units\":\"screen\"},\"id\":\"a3ea5266-1c95-4c3c-8f2f-708fd6ededde\",\"type\":\"BoxAnnotation\"},{\"attributes\":{},\"id\":\"008efbd3-8530-4b0c-a386-5a9e8453ab13\",\"type\":\"BasicTickFormatter\"}],\"root_ids\":[\"9079a050-c5fa-4ef7-aea7-2c471356fcae\"]},\"title\":\"Bokeh Application\",\"version\":\"0.12.2\"}};\n",
       "            var render_items = [{\"docid\":\"53d06645-6599-448b-bff2-2a9d0714ec42\",\"elementid\":\"82649cd5-30d1-4875-9b81-b3ec7dc0fb83\",\"modelid\":\"9079a050-c5fa-4ef7-aea7-2c471356fcae\"}];\n",
       "            \n",
       "            Bokeh.embed.embed_items(docs_json, render_items);\n",
       "        });\n",
       "      },\n",
       "      function(Bokeh) {\n",
       "      }\n",
       "    ];\n",
       "  \n",
       "    function run_inline_js() {\n",
       "      \n",
       "      if ((window.Bokeh !== undefined) || (force === \"1\")) {\n",
       "        for (var i = 0; i < inline_js.length; i++) {\n",
       "          inline_js[i](window.Bokeh);\n",
       "        }if (force === \"1\") {\n",
       "          display_loaded();\n",
       "        }} else if (Date.now() < window._bokeh_timeout) {\n",
       "        setTimeout(run_inline_js, 100);\n",
       "      } else if (!window._bokeh_failed_load) {\n",
       "        console.log(\"Bokeh: BokehJS failed to load within specified timeout.\");\n",
       "        window._bokeh_failed_load = true;\n",
       "      } else if (!force) {\n",
       "        var cell = $(\"#82649cd5-30d1-4875-9b81-b3ec7dc0fb83\").parents('.cell').data().cell;\n",
       "        cell.output_area.append_execute_result(NB_LOAD_WARNING)\n",
       "      }\n",
       "  \n",
       "    }\n",
       "  \n",
       "    if (window._bokeh_is_loading === 0) {\n",
       "      console.log(\"Bokeh: BokehJS loaded, going straight to plotting\");\n",
       "      run_inline_js();\n",
       "    } else {\n",
       "      load_libs(js_urls, function() {\n",
       "        console.log(\"Bokeh: BokehJS plotting callback run at\", now());\n",
       "        run_inline_js();\n",
       "      });\n",
       "    }\n",
       "  }(this));\n",
       "</script>"
      ]
     },
     "metadata": {},
     "output_type": "display_data"
    }
   ],
   "source": [
    "# load errors for A_G from file\n",
    "A_G_file = pd.read_csv('Distance\\A_G_error.csv')\n",
    "usedQuantities_A_G_file = ['std']\n",
    "A_G_file.dropna(subset=usedQuantities_A_G_file, inplace=True)\n",
    "A_G_error = A_G_file['std']\n",
    "\n",
    "d_error = d*(np.log(10)/5)*np.sqrt(G_error**2+A_G_error**2+M_G_error**2)\n",
    "\n",
    "hist, edges = np.histogram(d_error, density=False, bins=100)\n",
    "tools = \"pan, wheel_zoom, box_zoom, box_select, save, reset\"\n",
    "title = 'RR Lyrae distance uncertainties'\n",
    "\n",
    "fig = Figure(width=700, height=500, x_axis_label='Uncertainty on distance (kpc)', y_axis_label='Count', title=title, tools=tools)\n",
    "fig.quad(top=hist, bottom=0, left=edges[:-1], right=edges[1:], line_color='black')\n",
    "show(fig)"
   ]
  },
  {
   "cell_type": "markdown",
   "metadata": {
    "collapsed": true
   },
   "source": [
    "Save distances and uncertainties to file"
   ]
  },
  {
   "cell_type": "code",
   "execution_count": 46,
   "metadata": {
    "collapsed": true
   },
   "outputs": [],
   "source": [
    "with open('distance.csv','w') as f:\n",
    "    writer = csv.writer(f, delimiter=',')\n",
    "    writer.writerows(zip(Gaia['ra'],Gaia['dec'],A_G,d,d_error))"
   ]
  }
 ],
 "metadata": {
  "anaconda-cloud": {},
  "celltoolbar": "Edit Metadata",
  "kernelspec": {
   "display_name": "Python [conda root]",
   "language": "python",
   "name": "conda-root-py"
  },
  "language_info": {
   "codemirror_mode": {
    "name": "ipython",
    "version": 3
   },
   "file_extension": ".py",
   "mimetype": "text/x-python",
   "name": "python",
   "nbconvert_exporter": "python",
   "pygments_lexer": "ipython3",
   "version": "3.5.2"
  }
 },
 "nbformat": 4,
 "nbformat_minor": 1
}
