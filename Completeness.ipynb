{
 "cells": [
  {
   "cell_type": "markdown",
   "metadata": {},
   "source": [
    "# Imports"
   ]
  },
  {
   "cell_type": "code",
   "execution_count": 1,
   "metadata": {
    "collapsed": true
   },
   "outputs": [],
   "source": [
    "import pandas as pd\n",
    "import csv\n",
    "import sys"
   ]
  },
  {
   "cell_type": "markdown",
   "metadata": {},
   "source": [
    "# Load data and get amount of stars per healpixel for each data set"
   ]
  },
  {
   "cell_type": "code",
   "execution_count": 3,
   "metadata": {
    "collapsed": false
   },
   "outputs": [],
   "source": [
    "GDR2 = pd.read_csv('Data\\GDR2.csv', usecols=[\"healpix\"])\n",
    "PS1 = pd.read_csv('Data\\PS1.csv', usecols=[\"healpix\"])\n",
    "GDR2PS1 = pd.read_csv('Data\\PS1.csv', usecols=[\"healpix\"])\n",
    "\n",
    "amount_GDR2 = {}\n",
    "for i in GDR2['healpix']:\n",
    "    if i in amount_GDR2:\n",
    "        amount_GDR2[i] += 1\n",
    "    else:\n",
    "        amount_GDR2[i] = 1\n",
    "\n",
    "amount_PS1 = {}\n",
    "for j in PS1['healpix']:\n",
    "    if j in amount_PS1:\n",
    "        amount_PS1[j] += 1\n",
    "    else:\n",
    "        amount_PS1[j] = 1\n",
    "        \n",
    "amount_GDR2PS1 = {}\n",
    "for k in GDR2PS1['healpix']:\n",
    "    if k in amount_GDR2PS1:\n",
    "        amount_GDR2PS1[k] += 1\n",
    "    else:\n",
    "        amount_GDR2PS1[k] = 1"
   ]
  },
  {
   "cell_type": "markdown",
   "metadata": {},
   "source": [
    "# Compute completeness by dividing the amount of stars per healpixel"
   ]
  },
  {
   "cell_type": "code",
   "execution_count": 4,
   "metadata": {
    "collapsed": true
   },
   "outputs": [],
   "source": [
    "completeness_GDR2 = {}\n",
    "for pixel in amount_PS1:\n",
    "    if pixel in amount_GDR2PS1:\n",
    "        completeness_GDR2[pixel] = float(amount_GDR2PS1[pixel])/float(amount_PS1[pixel])\n",
    "\n",
    "completeness_PS1 = {}        \n",
    "for pixel in amount_GDR2:\n",
    "    if pixel in amount_GDR2PS1:\n",
    "        completeness_PS1[pixel] = float(amount_GDR2PS1[pixel])/float(amount_GDR2[pixel])   "
   ]
  },
  {
   "cell_type": "markdown",
   "metadata": {},
   "source": [
    "# Write completeness to file"
   ]
  },
  {
   "cell_type": "code",
   "execution_count": 13,
   "metadata": {
    "collapsed": false
   },
   "outputs": [],
   "source": [
    "w = csv.writer(open(\"completeness_GDR2.csv\",\"w\"))\n",
    "w.writerow(['healpix','completeness'])\n",
    "for pixel,compl in completeness_GDR2.items():\n",
    "    w.writerow([pixel,compl])"
   ]
  },
  {
   "cell_type": "code",
   "execution_count": 14,
   "metadata": {
    "collapsed": true
   },
   "outputs": [],
   "source": [
    "w = csv.writer(open(\"completeness_PS1.csv\",\"w\"))\n",
    "w.writerow(['healpix','completeness'])\n",
    "for pixel,compl in completeness_PS1.items():\n",
    "    w.writerow([pixel,compl])"
   ]
  }
 ],
 "metadata": {
  "anaconda-cloud": {},
  "kernelspec": {
   "display_name": "Python [conda env:Anaconda3]",
   "language": "python",
   "name": "conda-env-Anaconda3-py"
  },
  "language_info": {
   "codemirror_mode": {
    "name": "ipython",
    "version": 3
   },
   "file_extension": ".py",
   "mimetype": "text/x-python",
   "name": "python",
   "nbconvert_exporter": "python",
   "pygments_lexer": "ipython3",
   "version": "3.5.2"
  }
 },
 "nbformat": 4,
 "nbformat_minor": 1
}
